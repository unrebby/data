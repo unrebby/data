{
  "cells": [
    {
      "cell_type": "markdown",
      "metadata": {
        "id": "view-in-github",
        "colab_type": "text"
      },
      "source": [
        "<a href=\"https://colab.research.google.com/github/unrebby/data/blob/main/shw_02_cnn_AntonovaEvgeniya.ipynb\" target=\"_parent\"><img src=\"https://colab.research.google.com/assets/colab-badge.svg\" alt=\"Open In Colab\"/></a>"
      ]
    },
    {
      "cell_type": "markdown",
      "metadata": {
        "id": "w35Q6hOIy4sk"
      },
      "source": [
        "# Глубинное обучение 1 / Введение в глубинное обучение, ФКН ВШЭ\n",
        "\n",
        "## Домашнее задание 2: сверточный классификатор.\n",
        "\n",
        "### Общая информация\n",
        "\n",
        "Оценка после штрафа после мягкого дедлайна вычисляется по формуле $M_{\\text{penalty}} = M_{\\text{full}} \\cdot 0.85^{t/1440}$, где $M_{\\text{full}}$ — полная оценка за работу без учета штрафа, а $t$ — время в минутах, прошедшее после мягкого дедлайна (округление до двух цифр после запятой). Таким образом, спустя первые сутки после мягкого дедлайна вы не можете получить оценку выше 8.5, а если сдать через четыре дня после мягкого дедлайна, то ваш максимум — 5.22 балла.\n",
        "\n",
        "### Оценивание и штрафы\n",
        "\n",
        "Максимально допустимая оценка за работу — 10 баллов. Сдавать задание после указанного срока сдачи нельзя.\n",
        "\n",
        "Задание выполняется самостоятельно. «Похожие» решения считаются плагиатом и все задействованные студенты (в том числе те, у кого списали) не могут получить за него больше 0 баллов. Если вы нашли решение какого-то из заданий (или его часть) в открытом источнике, необходимо указать ссылку на этот источник в отдельном блоке в конце вашей работы (скорее всего вы будете не единственным, кто это нашел, поэтому чтобы исключить подозрение в плагиате, необходима ссылка на источник).\n",
        "\n",
        "Неэффективная реализация кода может негативно отразиться на оценке. Также оценка может быть снижена за плохо читаемый код и плохо оформленные графики. Все ответы должны сопровождаться кодом или комментариями о том, как они были получены.\n",
        "\n",
        "### О задании\n",
        "\n",
        "В этом задании вам предстоит познакомиться со сверточными сетями и их обучением для классификации изображений с использованием библиотеки PyTorch.\n"
      ]
    },
    {
      "cell_type": "code",
      "execution_count": 1,
      "metadata": {
        "id": "SaACifdX2QOo"
      },
      "outputs": [],
      "source": [
        "import torch\n",
        "import torch.nn as nn\n",
        "import torch.nn.functional as F\n",
        "import torch.optim as optim\n",
        "import torchvision\n",
        "import torchvision.transforms as transforms\n",
        "\n",
        "import matplotlib.pyplot as plt\n",
        "import numpy as np\n",
        "\n",
        "from sklearn.model_selection import train_test_split"
      ]
    },
    {
      "cell_type": "markdown",
      "metadata": {
        "id": "TIXaUYM-0JFl"
      },
      "source": [
        "## 0. Загрузка данных\n",
        "\n",
        "Работать мы будем с набором данных [CIFAR10](https://www.cs.toronto.edu/~kriz/cifar.html). CIFAR10 представляет собой набор изображений 32х32 пикселя, разделенных на 10 классов.\n",
        "\n",
        "![title](https://pytorch.org/tutorials/_images/cifar10.png)\n",
        "\n",
        "\n"
      ]
    },
    {
      "cell_type": "markdown",
      "metadata": {
        "id": "g-0EEjl_10vB"
      },
      "source": [
        "Набор данных уже определен в <code>torchvision.datasets</code>, так что возьмем его оттуда. \n",
        "\n"
      ]
    },
    {
      "cell_type": "code",
      "execution_count": 2,
      "metadata": {
        "id": "Cbwe92dT3aPZ"
      },
      "outputs": [],
      "source": [
        "def get_cifar10_data(batch_size, transform_train):\n",
        "    torch.manual_seed(0)\n",
        "    np.random.seed(0)\n",
        "\n",
        "    transform_test = transforms.Compose(\n",
        "        [transforms.ToTensor(),\n",
        "         # Переводим цвета пикселей в отрезок [-1, 1]\n",
        "         transforms.Normalize((0.5, 0.5, 0.5), (0.5, 0.5, 0.5))]\n",
        "    )\n",
        "    \n",
        "    # Загружаем данные\n",
        "    trainvalset = torchvision.datasets.CIFAR10(root='./data', train=True,\n",
        "                                               download=True, transform=transform_train)\n",
        "    testset = torchvision.datasets.CIFAR10(root='./data', train=False,\n",
        "                                           download=True, transform=transform_test)\n",
        "    \n",
        "    # В датасете определено разбиение только на train и test,\n",
        "    # так что валидацию дополнительно выделяем из обучающей выборки\n",
        "    train_idx, valid_idx = train_test_split(np.arange(len(trainvalset)), test_size=0.3, \n",
        "                                            shuffle=True, random_state=0)\n",
        "    trainset = torch.utils.data.Subset(trainvalset, train_idx)\n",
        "    valset = torch.utils.data.Subset(trainvalset, valid_idx)\n",
        "\n",
        "    train_loader = torch.utils.data.DataLoader(trainset, batch_size=batch_size,\n",
        "                                               shuffle=True, num_workers=2)\n",
        "    val_loader = torch.utils.data.DataLoader(valset, batch_size=batch_size,\n",
        "                                             shuffle=False, num_workers=2)\n",
        "    test_loader = torch.utils.data.DataLoader(testset, batch_size=batch_size,\n",
        "                                              shuffle=False, num_workers=2)\n",
        "    \n",
        "    return train_loader, val_loader, test_loader\n",
        "    "
      ]
    },
    {
      "cell_type": "code",
      "execution_count": 3,
      "metadata": {
        "colab": {
          "base_uri": "https://localhost:8080/",
          "height": 101,
          "referenced_widgets": [
            "d27e18bea3654b6a87a40f8f9b730198",
            "f4d6874779b5432a943c2bc8f1a7c5af",
            "7ed15fd0070c489f8b648b02ea70c311",
            "af114377c25a49d48800fdd3de258d64",
            "a46210704cec46dda2aa3ce886bf0088",
            "fb677c8c121a443296d9f8a888738ae2",
            "dbff156a50594e92b8ede0fe16559d41",
            "bc541477c080479cbc170a07aacb46a0",
            "6887d4c1cf5a40a48e16f9cf3c78607c",
            "acec430109994f49868e17f64cdb758d",
            "02699c7f383842c98622baf6211379c8"
          ]
        },
        "id": "2G2rLnN5y6Jj",
        "outputId": "bfce94a1-b0d6-412e-ef41-0f8f517d6924"
      },
      "outputs": [
        {
          "output_type": "stream",
          "name": "stdout",
          "text": [
            "Downloading https://www.cs.toronto.edu/~kriz/cifar-10-python.tar.gz to ./data/cifar-10-python.tar.gz\n"
          ]
        },
        {
          "output_type": "display_data",
          "data": {
            "text/plain": [
              "  0%|          | 0/170498071 [00:00<?, ?it/s]"
            ],
            "application/vnd.jupyter.widget-view+json": {
              "version_major": 2,
              "version_minor": 0,
              "model_id": "d27e18bea3654b6a87a40f8f9b730198"
            }
          },
          "metadata": {}
        },
        {
          "output_type": "stream",
          "name": "stdout",
          "text": [
            "Extracting ./data/cifar-10-python.tar.gz to ./data\n",
            "Files already downloaded and verified\n"
          ]
        }
      ],
      "source": [
        "transform = transforms.Compose(\n",
        "        [transforms.ToTensor(),\n",
        "         transforms.Normalize((0.5, 0.5, 0.5), (0.5, 0.5, 0.5))]\n",
        ")\n",
        "\n",
        "train_loader, val_loader, test_loader = get_cifar10_data(batch_size=64, \n",
        "                                                         transform_train=transform)"
      ]
    },
    {
      "cell_type": "markdown",
      "metadata": {
        "id": "-82HWgXs77W1"
      },
      "source": [
        "Посмотрим на изображения:"
      ]
    },
    {
      "cell_type": "code",
      "execution_count": 4,
      "metadata": {
        "colab": {
          "base_uri": "https://localhost:8080/",
          "height": 155
        },
        "id": "ACnwaC5iy6L2",
        "outputId": "39e20488-d025-4be8-cddb-564a24c179d6"
      },
      "outputs": [
        {
          "output_type": "display_data",
          "data": {
            "text/plain": [
              "<Figure size 432x288 with 1 Axes>"
            ],
            "image/png": "[encoded data removed]"
          },
          "metadata": {
            "needs_background": "light"
          }
        },
        {
          "output_type": "stream",
          "name": "stdout",
          "text": [
            "ship frog horse horse\n"
          ]
        }
      ],
      "source": [
        "def imshow(img):\n",
        "    img = img / 2 + 0.5    \n",
        "    npimg = img.numpy()\n",
        "    plt.imshow(np.transpose(npimg, (1, 2, 0)))\n",
        "    plt.show()\n",
        "\n",
        "\n",
        "dataiter = iter(train_loader)\n",
        "images, labels = next(dataiter)\n",
        "\n",
        "imshow(torchvision.utils.make_grid(images[:4]))\n",
        "\n",
        "classes = ('plane', 'car', 'bird', 'cat',\n",
        "           'deer', 'dog', 'frog', 'horse', 'ship', 'truck')\n",
        "print(*[classes[labels[i]] for i in range(4)])"
      ]
    },
    {
      "cell_type": "markdown",
      "metadata": {
        "id": "KFDilng29YZ_"
      },
      "source": [
        "## 1. Задание сверточной сети (3 балла)"
      ]
    },
    {
      "cell_type": "markdown",
      "metadata": {
        "id": "OX7Ul8YbYdQR"
      },
      "source": [
        "Теперь нам нужно задать сверточную нейронную сеть, которую мы будем обучать классифицировать изображения.\n",
        "\n",
        "Используем сеть, основанную на одном блоке архитектуры ResNet.\n",
        "\n",
        "<img src=\"https://i.ibb.co/2hg962h/basic-block.png\" width=\"500\"/>\n",
        "\n",
        "__Указания:__\n",
        "\n",
        "- Все сверточные слои должны иметь 32 выходных канала, а также не должны изменять ширину и высоту изображения.\n",
        "- Выход блока сократите до размерности 32х4х4, применив average pooling.\n",
        "- Для получения итоговых логитов, распрямите выход пулинга в вектор из 512 элементов, а затем пропустите его через линейный слой."
      ]
    },
    {
      "cell_type": "markdown",
      "metadata": {
        "id": "sbyIylT9O9Dr"
      },
      "source": [
        "**Задание 1.1 (3 балла).**\n",
        "\n",
        "Определите архитектуру сети соответственно схеме и указаниям выше.\n",
        "\n",
        "Ключевые слова: <code>Conv2d</code>, <code>BatchNorm2d</code>, <code>AvgPool2d</code>."
      ]
    },
    {
      "cell_type": "code",
      "execution_count": 37,
      "metadata": {
        "id": "s9ml1QGKy6N9"
      },
      "outputs": [],
      "source": [
        "n_classes = 10\n",
        "\n",
        "class BasicBlockNet(nn.Module):\n",
        "    def __init__(self):\n",
        "        super().__init__()       \n",
        "        self.sub_model0 = nn.Sequential(\n",
        "            nn.Conv2d(in_channels=3, out_channels=32, kernel_size=3, padding='same'),\n",
        "            nn.BatchNorm2d(num_features=32),\n",
        "            nn.ReLU(),\n",
        "            nn.Conv2d(in_channels=32, out_channels=32, kernel_size=3, padding='same'),\n",
        "            nn.BatchNorm2d(num_features=32)\n",
        "        )\n",
        "        self.sub_model1 = nn.Sequential(\n",
        "            nn.Conv2d(in_channels=3, out_channels=32, kernel_size=1)\n",
        "        )\n",
        "        self.model = nn.Sequential(\n",
        "            nn.ReLU()\n",
        "        )\n",
        "        self.avg_ = nn.Sequential(\n",
        "            nn.AvgPool2d(kernel_size=(8, 8))\n",
        "        )\n",
        "        self.res_model = nn.Sequential(\n",
        "            nn.Linear(in_features=512, out_features=n_classes)\n",
        "        )\n",
        "\n",
        "\n",
        "    def forward(self, x):\n",
        "        sub_model0 = self.sub_model0(x)\n",
        "        sub_model1 = self.sub_model1(x)\n",
        "        out = self.model(sub_model0 + sub_model1)\n",
        "\n",
        "        out = self.avg_(out)\n",
        "\n",
        "        out = out.reshape(x.shape[0], 512)\n",
        "        out = self.res_model(out)\n",
        "        return out\n"
      ]
    },
    {
      "cell_type": "code",
      "execution_count": 38,
      "metadata": {
        "id": "FI4BQg7Ky6Pw",
        "colab": {
          "base_uri": "https://localhost:8080/"
        },
        "outputId": "d8abd7dd-546d-4f6f-d1c1-9d45cd40211e"
      },
      "outputs": [
        {
          "output_type": "execute_result",
          "data": {
            "text/plain": [
              "BasicBlockNet(\n",
              "  (sub_model0): Sequential(\n",
              "    (0): Conv2d(3, 32, kernel_size=(3, 3), stride=(1, 1), padding=(1, 1))\n",
              "    (1): BatchNorm2d(32, eps=1e-05, momentum=0.1, affine=True, track_running_stats=True)\n",
              "    (2): ReLU()\n",
              "    (3): Conv2d(32, 32, kernel_size=(3, 3), stride=(1, 1), padding=(1, 1))\n",
              "    (4): BatchNorm2d(32, eps=1e-05, momentum=0.1, affine=True, track_running_stats=True)\n",
              "  )\n",
              "  (sub_model1): Sequential(\n",
              "    (0): Conv2d(3, 32, kernel_size=(1, 1), stride=(1, 1))\n",
              "  )\n",
              "  (model): Sequential(\n",
              "    (0): ReLU()\n",
              "  )\n",
              "  (avg_): Sequential(\n",
              "    (0): AvgPool2d(kernel_size=(8, 8), stride=(8, 8), padding=0)\n",
              "  )\n",
              "  (res_model): Sequential(\n",
              "    (0): Linear(in_features=512, out_features=10, bias=True)\n",
              "  )\n",
              ")"
            ]
          },
          "metadata": {},
          "execution_count": 38
        }
      ],
      "source": [
        "net = BasicBlockNet()\n",
        "net"
      ]
    },
    {
      "cell_type": "markdown",
      "metadata": {
        "id": "igPoGZEub8d3"
      },
      "source": [
        "Проверим, что выход сети имеет корректную размерность:"
      ]
    },
    {
      "cell_type": "code",
      "execution_count": 39,
      "metadata": {
        "id": "cCIzFUpJ_Agw"
      },
      "outputs": [],
      "source": [
        "assert net(torch.zeros((10, 3, 32, 32))).shape == (10, 10)"
      ]
    },
    {
      "cell_type": "markdown",
      "metadata": {
        "id": "08osX622cDGz"
      },
      "source": [
        "Чтобы проводить вычисления на GPU, в PyTorch необходимо руками перекладывать объекты, с которыми вы хотите проводить вычисления, на графический ускоритель. Это делается следующим образрм:"
      ]
    },
    {
      "cell_type": "code",
      "execution_count": 40,
      "metadata": {
        "id": "56hDOMCFcDZX",
        "colab": {
          "base_uri": "https://localhost:8080/"
        },
        "outputId": "dcb7dd1e-8cf9-4ad8-e2bb-7d9ca3321063"
      },
      "outputs": [
        {
          "output_type": "stream",
          "name": "stdout",
          "text": [
            "cpu\n"
          ]
        }
      ],
      "source": [
        "device = torch.device('cuda:0' if torch.cuda.is_available() else 'cpu')\n",
        "print(device)"
      ]
    },
    {
      "cell_type": "code",
      "execution_count": 41,
      "metadata": {
        "id": "ohnDWbp0qbtC"
      },
      "outputs": [],
      "source": [
        "net = net.to(device)"
      ]
    },
    {
      "cell_type": "markdown",
      "metadata": {
        "id": "H_bOlTVUp5QF"
      },
      "source": [
        "Подключение GPU в google.colab:\n",
        "\n",
        "**Среда выполнения** -> **Сменить среду выполнения** -> **Аппаратный ускоритель** -> **GPU**"
      ]
    },
    {
      "cell_type": "markdown",
      "metadata": {
        "id": "AGi6XX_7_Bgg"
      },
      "source": [
        "## 2. Обучение и тестирование модели (3 балла)"
      ]
    },
    {
      "cell_type": "markdown",
      "metadata": {
        "id": "0agj_MQoO9Ds"
      },
      "source": [
        "**Задание 2.1 (2 балла).** Переходим к обучению модели. Заполните пропуски в функциях <code>test</code> и <code>train_epoch</code>. В качестве функции потерь будем использовать [кросс-энтропию](https://pytorch.org/docs/stable/generated/torch.nn.functional.cross_entropy.html), а в качестве метрики качества accuracy."
      ]
    },
    {
      "cell_type": "code",
      "execution_count": 85,
      "metadata": {
        "id": "g8gsPPRIevDS"
      },
      "outputs": [],
      "source": [
        "criterion = nn.CrossEntropyLoss()\n",
        "\n",
        "def test(model, loader):\n",
        "    loss_log = []\n",
        "    acc_log = []\n",
        "    model.eval()\n",
        "    \n",
        "    for data, target in loader:\n",
        "        data = data.to(device)\n",
        "        target = target.to(device)\n",
        "        \n",
        "        pred = model(data)\n",
        "        loss = criterion(pred, target)\n",
        "        loss_log.append(loss.item())\n",
        "        \n",
        "        pred = torch.max(pred, 1)[1]\n",
        "        acc = (pred == target).sum() / target.shape[0]\n",
        "        \n",
        "        acc_log.append(acc.item()) \n",
        "        \n",
        "    return np.mean(loss_log), np.mean(acc_log)\n",
        "\n",
        "def train_epoch(model, optimizer, train_loader):\n",
        "    loss_log = []\n",
        "    acc_log = []\n",
        "    model.train()\n",
        "    \n",
        "    for data, target in train_loader:\n",
        "        data = data.to(device)\n",
        "        target = target.to(device)\n",
        "        \n",
        "        pred = model(data)\n",
        "        loss = criterion(pred, target)\n",
        "        loss.backward()\n",
        "\n",
        "        optimizer.step()\n",
        "        optimizer.zero_grad()\n",
        "\n",
        "        loss_log.append(loss.item())\n",
        "\n",
        "        pred = torch.max(pred, 1)[1]     \n",
        "        acc = (pred == target).sum() / target.shape[0]  \n",
        "      \n",
        "        acc_log.append(acc.item()) \n",
        "\n",
        "    return loss_log, acc_log\n",
        "\n",
        "def train(model, optimizer, n_epochs, train_loader, val_loader, scheduler=None):\n",
        "    train_loss_log, train_acc_log, val_loss_log, val_acc_log = [], [], [], []\n",
        "\n",
        "    for epoch in range(n_epochs):\n",
        "        train_loss, train_acc = train_epoch(model, optimizer, train_loader)\n",
        "        val_loss, val_acc = test(model, val_loader)\n",
        "        \n",
        "        train_loss_log.extend(train_loss)\n",
        "        train_acc_log.extend(train_acc)\n",
        "        \n",
        "        val_loss_log.append(val_loss)\n",
        "        val_acc_log.append(val_acc)\n",
        "\n",
        "        print(f\"Epoch {epoch}\")\n",
        "        print(f\" train loss: {np.mean(train_loss)}, train acc: {np.mean(train_acc)}\")\n",
        "        print(f\" val loss: {val_loss}, val acc: {val_acc}\\n\")\n",
        "        \n",
        "        if scheduler is not None:\n",
        "            scheduler.step()\n",
        "\n",
        "    return train_loss_log, train_acc_log, val_loss_log, val_acc_log"
      ]
    },
    {
      "cell_type": "markdown",
      "metadata": {
        "id": "iSOqk_CAO9Dt"
      },
      "source": [
        "Запустим обучение модели. В качестве оптимизатора будем использовать стохастический градиентный спуск, который является де-факто стандартом в задачах компьютерного зрения (наравне с <code>Adam</code>).\n",
        "\n",
        "__Замечание:__ Для достижения наилучшего качества в нашем случае потребуется обучать модель несколько сотен эпох. Однако в целях экономии вашего времени и сил, во всех экспериментах мы ограничимся 20 эпохами."
      ]
    },
    {
      "cell_type": "code",
      "source": [
        "optimizer = optim.SGD(net.parameters(), lr=0.1, momentum=0.9)\n",
        "train_loss_log, train_acc_log, val_loss_log, val_acc_log = train(net, optimizer, 20, train_loader, val_loader)"
      ],
      "metadata": {
        "colab": {
          "base_uri": "https://localhost:8080/"
        },
        "id": "kaJ3Bvn1wDbI",
        "outputId": "fcb21b10-7e60-45dd-b9ad-5f2e9394a217"
      },
      "execution_count": 45,
      "outputs": [
        {
          "output_type": "stream",
          "name": "stdout",
          "text": [
            "Epoch 0\n",
            " train loss: 1.1215306878961637, train acc: 0.6089628493546132\n",
            " val loss: 1.082240856962001, val acc: 0.6232712765957447\n",
            "\n",
            "Epoch 1\n",
            " train loss: 1.0324564763571271, train acc: 0.6423592974978347\n",
            " val loss: 1.002061777672869, val acc: 0.6490469857733301\n",
            "\n",
            "Epoch 2\n",
            " train loss: 0.9800107860478012, train acc: 0.6582658658079953\n",
            " val loss: 1.0206262659519276, val acc: 0.6506205672913409\n",
            "\n",
            "Epoch 3\n",
            " train loss: 0.9426708723770852, train acc: 0.676416819012797\n",
            " val loss: 0.9682835992346419, val acc: 0.6706117021276595\n",
            "\n",
            "Epoch 4\n",
            " train loss: 0.9162552893379706, train acc: 0.6826358057245258\n",
            " val loss: 0.9444519912942927, val acc: 0.6762632978723404\n",
            "\n",
            "Epoch 5\n",
            " train loss: 0.8885134066262672, train acc: 0.6917031209037334\n",
            " val loss: 1.045063428168601, val acc: 0.6418439715466601\n",
            "\n",
            "Epoch 6\n",
            " train loss: 0.8712585918210324, train acc: 0.6987423283308472\n",
            " val loss: 0.9459652548140668, val acc: 0.6755097518575952\n",
            "\n",
            "Epoch 7\n",
            " train loss: 0.8574019496140141, train acc: 0.7027006071925818\n",
            " val loss: 0.9335352278770285, val acc: 0.6804742906955963\n",
            "\n",
            "Epoch 8\n",
            " train loss: 0.8354526736945513, train acc: 0.7117883259025308\n",
            " val loss: 0.9248172415063737, val acc: 0.6831781914893617\n",
            "\n",
            "Epoch 9\n",
            " train loss: 0.8284664208535957, train acc: 0.7128248237604633\n",
            " val loss: 0.8904945018443655, val acc: 0.6920877659574468\n",
            "\n",
            "Epoch 10\n",
            " train loss: 0.8127012778025876, train acc: 0.7143346826380742\n",
            " val loss: 0.8843992836931919, val acc: 0.7021719859001484\n",
            "\n",
            "Epoch 11\n",
            " train loss: 0.8031193720793157, train acc: 0.7210188691097378\n",
            " val loss: 0.8922850958844448, val acc: 0.6961436170212766\n",
            "\n",
            "Epoch 12\n",
            " train loss: 0.7944428499045711, train acc: 0.7249404218122771\n",
            " val loss: 0.9654177201555131, val acc: 0.669813829787234\n",
            "\n",
            "Epoch 13\n",
            " train loss: 0.7786446814127335, train acc: 0.7300576194984604\n",
            " val loss: 0.882209164538282, val acc: 0.6990469859001485\n",
            "\n",
            "Epoch 14\n",
            " train loss: 0.7749054687441594, train acc: 0.7297882932413648\n",
            " val loss: 0.9010038791818822, val acc: 0.6902703901554675\n",
            "\n",
            "Epoch 15\n",
            " train loss: 0.767730083881828, train acc: 0.7333629864661305\n",
            " val loss: 0.9200699717440504, val acc: 0.6895390071767442\n",
            "\n",
            "Epoch 16\n",
            " train loss: 0.7613062362239391, train acc: 0.7355584029305787\n",
            " val loss: 0.8698578542851387, val acc: 0.7091312055892133\n",
            "\n",
            "Epoch 17\n",
            " train loss: 0.7516523288525436, train acc: 0.7390310786106032\n",
            " val loss: 0.8574323519747308, val acc: 0.7112588651636813\n",
            "\n",
            "Epoch 18\n",
            " train loss: 0.7452343776413466, train acc: 0.7408551514911478\n",
            " val loss: 0.9816080453548025, val acc: 0.6714760638297872\n",
            "\n",
            "Epoch 19\n",
            " train loss: 0.7384283993209302, train acc: 0.7426302559414991\n",
            " val loss: 0.8833307472949332, val acc: 0.7059175531914894\n",
            "\n"
          ]
        }
      ]
    },
    {
      "cell_type": "markdown",
      "metadata": {
        "id": "gUb1jQW8O9Dt"
      },
      "source": [
        "Посчитайте точность на тестовой выборке:"
      ]
    },
    {
      "cell_type": "code",
      "execution_count": 46,
      "metadata": {
        "id": "Jyuc55B9_Amc",
        "colab": {
          "base_uri": "https://localhost:8080/"
        },
        "outputId": "291ca36f-fd5f-463f-a9af-366f2aa607b4"
      },
      "outputs": [
        {
          "output_type": "stream",
          "name": "stdout",
          "text": [
            "test accuracy: 0.6978503184713376\n"
          ]
        }
      ],
      "source": [
        "loss_, acc_ = test(net, test_loader)\n",
        "print(\"test accuracy:\", acc_)"
      ]
    },
    {
      "cell_type": "markdown",
      "metadata": {
        "id": "zM38Q9fwO9Dt"
      },
      "source": [
        "Если вы все сделали правильно, у вас должна была получиться точность $\\ge 67\\%$."
      ]
    },
    {
      "cell_type": "markdown",
      "metadata": {
        "id": "DHFNSKcoO9Dt"
      },
      "source": [
        "**Задание 2.2 (1 балл).** Постройте графики зависимости функции потерь и точности классификации от номера шага оптимизатора. На каждом графике расположите данные и для обучающей и для валидационной выборки, итого у вас должно получиться два графика. Обратите внимание, что на обучающей выборке эти данные считаются по каждому батчу, на валидационной же они считаются по всей выборке раз в эпоху."
      ]
    },
    {
      "cell_type": "code",
      "source": [
        "train_loss_log_mean = np.array(train_loss_log).reshape(20, -1)\n",
        "train_acc_log_mean = np.array(train_acc_log).reshape(20, -1)"
      ],
      "metadata": {
        "id": "trQDlB4UEOXq"
      },
      "execution_count": 92,
      "outputs": []
    },
    {
      "cell_type": "code",
      "source": [
        "plt.figure(figsize=(16,10))\n",
        "plt.plot((np.mean(train_loss_log_mean, axis=1)), label='train loss', color='green')\n",
        "plt.plot(val_loss_log, label='val loss', color='red')\n",
        "\n",
        "plt.xlabel('epoch')\n",
        "plt.ylabel('loss')\n",
        "plt.legend()\n",
        "\n",
        "plt.show()"
      ],
      "metadata": {
        "colab": {
          "base_uri": "https://localhost:8080/",
          "height": 606
        },
        "id": "sd8RIJli4xzd",
        "outputId": "94d9ad3b-b443-4d3f-a587-6e8e26a85ea1"
      },
      "execution_count": 99,
      "outputs": [
        {
          "output_type": "display_data",
          "data": {
            "text/plain": [
              "<Figure size 1152x720 with 1 Axes>"
            ],
            "image/png": "[encoded data removed]"
          },
          "metadata": {
            "needs_background": "light"
          }
        }
      ]
    },
    {
      "cell_type": "code",
      "source": [
        "plt.figure(figsize=(16,10))\n",
        "plt.plot((np.mean(train_acc_log_mean, axis=1)), label='train loss', color='green')\n",
        "plt.plot(val_acc_log, label='val loss', color='red')\n",
        "\n",
        "plt.xlabel('epoch')\n",
        "plt.ylabel('acc')\n",
        "plt.legend()\n",
        "\n",
        "plt.show()"
      ],
      "metadata": {
        "colab": {
          "base_uri": "https://localhost:8080/",
          "height": 606
        },
        "id": "0jw8dLRX5TfG",
        "outputId": "a87fe562-f9ca-4669-94d2-18213c7aa024"
      },
      "execution_count": 101,
      "outputs": [
        {
          "output_type": "display_data",
          "data": {
            "text/plain": [
              "<Figure size 1152x720 with 1 Axes>"
            ],
            "image/png": "[encoded data removed]"
          },
          "metadata": {
            "needs_background": "light"
          }
        }
      ]
    },
    {
      "cell_type": "markdown",
      "metadata": {
        "id": "_ttOJPj-O9Dt"
      },
      "source": [
        "## 3. Расписание длины шага (2 балла)"
      ]
    },
    {
      "cell_type": "markdown",
      "metadata": {
        "id": "qiz3JstuO9Dt"
      },
      "source": [
        "С курса \"Машинное обучение 1\" вы уже должны знать, что сходимость стохастического градиентного спуска мы можем теоретически гарантировать только если будем определенным образом со временем уменьшать длину шага. На практике при обучении нейронных сетей такая техника оказывается очень полезной, однако теоретически обоснованными способами уменьшения длины шага фантазия не ограничивается.\n",
        "\n",
        "Одним из простейших способов является кусочно постоянная функция: на нескольких фиксированных эпохах уменьшаем длину шага в константу раз."
      ]
    },
    {
      "cell_type": "code",
      "execution_count": 102,
      "metadata": {
        "id": "V2Z0OT3nO9Du",
        "colab": {
          "base_uri": "https://localhost:8080/"
        },
        "outputId": "ec252a10-fd4b-4853-ac1d-8710a1b4e594"
      },
      "outputs": [
        {
          "output_type": "stream",
          "name": "stdout",
          "text": [
            "Epoch 0\n",
            " train loss: 1.467221056848383, train acc: 0.47827843436375395\n",
            " val loss: 1.211794201871182, val acc: 0.571187943346957\n",
            "\n",
            "Epoch 1\n",
            " train loss: 1.1470167075694153, train acc: 0.5991650888427302\n",
            " val loss: 1.1673347584744718, val acc: 0.5945257093044037\n",
            "\n",
            "Epoch 2\n",
            " train loss: 1.046716511467475, train acc: 0.6366422369231689\n",
            " val loss: 1.065708812754205, val acc: 0.6276817375041069\n",
            "\n",
            "Epoch 3\n",
            " train loss: 1.000805521360045, train acc: 0.6525528859176845\n",
            " val loss: 1.065080191987626, val acc: 0.6364583332487878\n",
            "\n",
            "Epoch 4\n",
            " train loss: 0.9525387624935868, train acc: 0.6712588142651309\n",
            " val loss: 1.0274254687288975, val acc: 0.6390514184819891\n",
            "\n",
            "Epoch 5\n",
            " train loss: 0.9274595757942967, train acc: 0.6784898146196955\n",
            " val loss: 0.9598038381718574, val acc: 0.6677748226104898\n",
            "\n",
            "Epoch 6\n",
            " train loss: 0.9073271601030116, train acc: 0.6880549751426446\n",
            " val loss: 0.9324520844094297, val acc: 0.6720523050490846\n",
            "\n",
            "Epoch 7\n",
            " train loss: 0.8825813899092526, train acc: 0.6942902847007598\n",
            " val loss: 0.9545122740116525, val acc: 0.669658688027808\n",
            "\n",
            "Epoch 8\n",
            " train loss: 0.8670756904037169, train acc: 0.6990402193784278\n",
            " val loss: 0.9023466772221505, val acc: 0.6861702127659575\n",
            "\n",
            "Epoch 9\n",
            " train loss: 0.8532481822278861, train acc: 0.7044512274278365\n",
            " val loss: 0.9331986351216093, val acc: 0.6765735816448293\n",
            "\n",
            "Epoch 10\n",
            " train loss: 0.7574173506805623, train acc: 0.7397533624656022\n",
            " val loss: 0.8402606849974774, val acc: 0.7098182624958931\n",
            "\n",
            "Epoch 11\n",
            " train loss: 0.7363785736303661, train acc: 0.7471639135855861\n",
            " val loss: 0.8339136310080264, val acc: 0.7134530140998515\n",
            "\n",
            "Epoch 12\n",
            " train loss: 0.7295071278891136, train acc: 0.7503468594777737\n",
            " val loss: 0.8299564294358517, val acc: 0.7134973404255319\n",
            "\n",
            "Epoch 13\n",
            " train loss: 0.7258017482661678, train acc: 0.7506814769024823\n",
            " val loss: 0.8316159513402492, val acc: 0.7112588651636813\n",
            "\n",
            "Epoch 14\n",
            " train loss: 0.721806713497399, train acc: 0.7518363149336095\n",
            " val loss: 0.8345424180335187, val acc: 0.7135859928232559\n",
            "\n",
            "Epoch 15\n",
            " train loss: 0.7072975495506684, train acc: 0.7592509467379485\n",
            " val loss: 0.8215560853481293, val acc: 0.7162898936170212\n",
            "\n",
            "Epoch 16\n",
            " train loss: 0.7057871685058587, train acc: 0.7575288914021452\n",
            " val loss: 0.8217282332004385, val acc: 0.7168218085106383\n",
            "\n",
            "Epoch 17\n",
            " train loss: 0.7054212659978779, train acc: 0.7584225646538534\n",
            " val loss: 0.8212198530105834, val acc: 0.7163563829787234\n",
            "\n",
            "Epoch 18\n",
            " train loss: 0.7044636979835343, train acc: 0.7590673151792077\n",
            " val loss: 0.8226243823132616, val acc: 0.7160460992062345\n",
            "\n",
            "Epoch 19\n",
            " train loss: 0.703649561028158, train acc: 0.7588877644137882\n",
            " val loss: 0.8213776478107939, val acc: 0.7160904255319149\n",
            "\n"
          ]
        }
      ],
      "source": [
        "net = BasicBlockNet().to(device)\n",
        "optimizer = optim.SGD(net.parameters(), lr=0.1, momentum=0.9)\n",
        "scheduler = optim.lr_scheduler.MultiStepLR(optimizer, milestones=[10, 15], gamma=0.1)\n",
        "tr_loss_log, tr_acc_log, val_loss_log, val_acc_log = train(net, optimizer, 20, train_loader, val_loader, scheduler)"
      ]
    },
    {
      "cell_type": "markdown",
      "metadata": {
        "id": "5Xc76KvzO9Du"
      },
      "source": [
        "Посчитайте точность на тестовой выборке:"
      ]
    },
    {
      "cell_type": "code",
      "source": [
        "loss_multistep, acc_multistep = test(net, test_loader)\n",
        "print(\"test accuracy:\", acc_multistep)"
      ],
      "metadata": {
        "colab": {
          "base_uri": "https://localhost:8080/"
        },
        "id": "zuxtbzKcjqSe",
        "outputId": "273817a6-c095-4a9a-c66e-0e0f00a468a7"
      },
      "execution_count": 104,
      "outputs": [
        {
          "output_type": "stream",
          "name": "stdout",
          "text": [
            "test accuracy: 0.7185509554140127\n"
          ]
        }
      ]
    },
    {
      "cell_type": "markdown",
      "metadata": {
        "id": "yE0dgLYrO9Du"
      },
      "source": [
        "**Задание 3.0 (0.5 баллов).** Здесь может возникнуть вопрос: а что будет, если мы не будем уменьшать длину шага в процессе обучения, а сразу возьмем констатную, равную значению нашей кусочно-постоянной функции на последних эпохах, то есть $0.001$ в нашем случае. Запустите обучение и проверьте, что в таком случае мы получим худшее качество на тестовой выборке."
      ]
    },
    {
      "cell_type": "code",
      "source": [
        "net_const = BasicBlockNet().to(device)\n",
        "optimizer = optim.SGD(net_const.parameters(), lr=0.001, momentum=0.9)\n",
        "tr_loss_log_const, tr_acc_log_const, val_loss_log_const, val_acc_log_const = train(net_const, optimizer, 20, train_loader, val_loader)"
      ],
      "metadata": {
        "colab": {
          "base_uri": "https://localhost:8080/"
        },
        "id": "0kmjvSOPjtA-",
        "outputId": "7a2659fa-d21d-40df-c87e-abc76abb0c3e"
      },
      "execution_count": 105,
      "outputs": [
        {
          "output_type": "stream",
          "name": "stdout",
          "text": [
            "Epoch 0\n",
            " train loss: 1.830428861176946, train acc: 0.36198256727328465\n",
            " val loss: 1.6110806860822313, val acc: 0.44758421981588326\n",
            "\n",
            "Epoch 1\n",
            " train loss: 1.5357335786278985, train acc: 0.4642000195640097\n",
            " val loss: 1.448108477288104, val acc: 0.4958776595744681\n",
            "\n",
            "Epoch 2\n",
            " train loss: 1.4065967695804575, train acc: 0.5074758422331139\n",
            " val loss: 1.3559587250364589, val acc: 0.5205230496031172\n",
            "\n",
            "Epoch 3\n",
            " train loss: 1.3274541066813077, train acc: 0.5375220358262768\n",
            " val loss: 1.291070733425465, val acc: 0.5472739361702128\n",
            "\n",
            "Epoch 4\n",
            " train loss: 1.2682975364995395, train acc: 0.5560320906708838\n",
            " val loss: 1.2534075092762074, val acc: 0.5568484042553191\n",
            "\n",
            "Epoch 5\n",
            " train loss: 1.2264214379260048, train acc: 0.5695759336952754\n",
            " val loss: 1.268875011231037, val acc: 0.549002659574468\n",
            "\n",
            "Epoch 6\n",
            " train loss: 1.1858181785621853, train acc: 0.5856253265026936\n",
            " val loss: 1.1714125070166082, val acc: 0.5911790780564572\n",
            "\n",
            "Epoch 7\n",
            " train loss: 1.1469977314990878, train acc: 0.6014951684357261\n",
            " val loss: 1.127749864598538, val acc: 0.6106382978723405\n",
            "\n",
            "Epoch 8\n",
            " train loss: 1.1142141913801051, train acc: 0.6121825215149623\n",
            " val loss: 1.117112014902399, val acc: 0.6130984042553191\n",
            "\n",
            "Epoch 9\n",
            " train loss: 1.0784367770773837, train acc: 0.623653369041422\n",
            " val loss: 1.076073586179855, val acc: 0.6212322695458189\n",
            "\n",
            "Epoch 10\n",
            " train loss: 1.054446930859163, train acc: 0.6343325607519481\n",
            " val loss: 1.043499286884957, val acc: 0.6369015957446809\n",
            "\n",
            "Epoch 11\n",
            " train loss: 1.0365495212117322, train acc: 0.6405515473547104\n",
            " val loss: 1.019379170143858, val acc: 0.6466755319148936\n",
            "\n",
            "Epoch 12\n",
            " train loss: 1.008824981871645, train acc: 0.6515612758055901\n",
            " val loss: 1.0559158606732146, val acc: 0.6284131206096487\n",
            "\n",
            "Epoch 13\n",
            " train loss: 0.9967552765631806, train acc: 0.6542341341920047\n",
            " val loss: 0.9968977243342299, val acc: 0.6517065603682335\n",
            "\n",
            "Epoch 14\n",
            " train loss: 0.9773663765115755, train acc: 0.6637013580725005\n",
            " val loss: 0.9921954550641648, val acc: 0.6545434396317664\n",
            "\n",
            "Epoch 15\n",
            " train loss: 0.9684309731671753, train acc: 0.663370821332147\n",
            " val loss: 0.9941325613792906, val acc: 0.6504654255319149\n",
            "\n",
            "Epoch 16\n",
            " train loss: 0.957552848176067, train acc: 0.6691164468062644\n",
            " val loss: 0.9630698247158781, val acc: 0.6630540779296388\n",
            "\n",
            "Epoch 17\n",
            " train loss: 0.9477035621184535, train acc: 0.6746947636769938\n",
            " val loss: 0.9473525100565972, val acc: 0.669658688027808\n",
            "\n",
            "Epoch 18\n",
            " train loss: 0.9338653109409255, train acc: 0.6775675763595692\n",
            " val loss: 0.9457225467296357, val acc: 0.672495567291341\n",
            "\n",
            "Epoch 19\n",
            " train loss: 0.929521410840085, train acc: 0.6800159963436929\n",
            " val loss: 0.9495104804952094, val acc: 0.6720966311211282\n",
            "\n"
          ]
        }
      ]
    },
    {
      "cell_type": "code",
      "source": [
        "loss_const, acc_const = test(net_const, test_loader)\n",
        "print(\"test accuracy:\", acc_const)"
      ],
      "metadata": {
        "colab": {
          "base_uri": "https://localhost:8080/"
        },
        "id": "pz-dPorHjvEX",
        "outputId": "9197e7f2-8a0c-4fe1-f11e-24294516ab4a"
      },
      "execution_count": 106,
      "outputs": [
        {
          "output_type": "stream",
          "name": "stdout",
          "text": [
            "test accuracy: 0.6713773885350318\n"
          ]
        }
      ]
    },
    {
      "cell_type": "markdown",
      "metadata": {
        "id": "xVotU378O9Du"
      },
      "source": [
        "**Задание 3.1 (1.5 балла).** Изучите, какие еще способы уменьшения длины шага представлены в <code>torch.optim.lr_scheduler</code>. Выберите несколько из них, объясните, как они устроены, и обучите модель с ними. Удалось ли добиться улучшения качества на тестовой выборке?"
      ]
    },
    {
      "cell_type": "code",
      "source": [
        "net_step = BasicBlockNet().to(device)\n",
        "optimizer = optim.SGD(net_step.parameters(), lr=0.1, momentum=0.9)\n",
        "scheduler = optim.lr_scheduler.StepLR(optimizer, step_size=5)\n",
        "tr_loss_log_step, tr_acc_log_step, val_loss_log_step, val_acc_log_step = train(net_step, optimizer, 20, train_loader, val_loader, scheduler)"
      ],
      "metadata": {
        "colab": {
          "base_uri": "https://localhost:8080/"
        },
        "id": "xYSoT8AImLIT",
        "outputId": "81005f84-4ee9-484b-940a-f2e05646d289"
      },
      "execution_count": 112,
      "outputs": [
        {
          "output_type": "stream",
          "name": "stdout",
          "text": [
            "Epoch 0\n",
            " train loss: 1.4574286614083285, train acc: 0.4837180073126143\n",
            " val loss: 1.227741171451325, val acc: 0.5736702127659574\n",
            "\n",
            "Epoch 1\n",
            " train loss: 1.1280730859235175, train acc: 0.605404478976234\n",
            " val loss: 1.1502185392887034, val acc: 0.5919104609083622\n",
            "\n",
            "Epoch 2\n",
            " train loss: 1.0183747951247792, train acc: 0.6471622812900508\n",
            " val loss: 0.9743022974501265, val acc: 0.6621010638297873\n",
            "\n",
            "Epoch 3\n",
            " train loss: 0.9708791053709208, train acc: 0.6641216701955638\n",
            " val loss: 0.9810070070814579, val acc: 0.6571143617021277\n",
            "\n",
            "Epoch 4\n",
            " train loss: 0.9336127955909185, train acc: 0.6765188365575382\n",
            " val loss: 0.9609225090513838, val acc: 0.6710549646235527\n",
            "\n",
            "Epoch 5\n",
            " train loss: 0.8140082361493294, train acc: 0.7183256071925818\n",
            " val loss: 0.8646194939917706, val acc: 0.7013519502700644\n",
            "\n",
            "Epoch 6\n",
            " train loss: 0.7952085594481481, train acc: 0.7234183206636683\n",
            " val loss: 0.8553518143106014, val acc: 0.7047872340425532\n",
            "\n",
            "Epoch 7\n",
            " train loss: 0.7851593408876625, train acc: 0.7287477148080439\n",
            " val loss: 0.8570913997102291, val acc: 0.7029033688788718\n",
            "\n",
            "Epoch 8\n",
            " train loss: 0.7790970803396793, train acc: 0.729327174165785\n",
            " val loss: 0.8465943620560017, val acc: 0.7095523050490846\n",
            "\n",
            "Epoch 9\n",
            " train loss: 0.7740026035191154, train acc: 0.7334772460639368\n",
            " val loss: 0.8500283129671786, val acc: 0.7073803191489362\n",
            "\n",
            "Epoch 10\n",
            " train loss: 0.7562953271312295, train acc: 0.7371009075009627\n",
            " val loss: 0.8371462677387481, val acc: 0.7132978723404255\n",
            "\n",
            "Epoch 11\n",
            " train loss: 0.7545649418011444, train acc: 0.738084356244347\n",
            " val loss: 0.8367299206713412, val acc: 0.7130319148936171\n",
            "\n",
            "Epoch 12\n",
            " train loss: 0.7539915618447542, train acc: 0.7388352049987974\n",
            " val loss: 0.8367803758763253, val acc: 0.7123226949509154\n",
            "\n",
            "Epoch 13\n",
            " train loss: 0.7528835411372524, train acc: 0.7405899060273737\n",
            " val loss: 0.8367724312112687, val acc: 0.7128324468085107\n",
            "\n",
            "Epoch 14\n",
            " train loss: 0.7516388241508107, train acc: 0.7400961412590208\n",
            " val loss: 0.8356324561098789, val acc: 0.7133643617021277\n",
            "\n",
            "Epoch 15\n",
            " train loss: 0.7492747838035144, train acc: 0.741532547709275\n",
            " val loss: 0.8357367482591183, val acc: 0.7130319148936171\n",
            "\n",
            "Epoch 16\n",
            " train loss: 0.7499918805833709, train acc: 0.7411734460694699\n",
            " val loss: 0.8358523122807766, val acc: 0.7132313829787233\n",
            "\n",
            "Epoch 17\n",
            " train loss: 0.7498880531059976, train acc: 0.7400716570439243\n",
            " val loss: 0.8353124364893487, val acc: 0.7133643617021277\n",
            "\n",
            "Epoch 18\n",
            " train loss: 0.7487902243568867, train acc: 0.741752905427211\n",
            " val loss: 0.8358126625101617, val acc: 0.7144281914893617\n",
            "\n",
            "Epoch 19\n",
            " train loss: 0.7486881314618496, train acc: 0.7405817445496973\n",
            " val loss: 0.8346556645758608, val acc: 0.7128546098445324\n",
            "\n"
          ]
        }
      ]
    },
    {
      "cell_type": "code",
      "source": [
        "loss_step, acc_step = test(net_step, test_loader)\n",
        "print(\"test accuracy:\", acc_step)"
      ],
      "metadata": {
        "colab": {
          "base_uri": "https://localhost:8080/"
        },
        "id": "Um8y7I7fmMhP",
        "outputId": "15098be6-5028-4ad6-cc9f-5af22217ceaf"
      },
      "execution_count": 113,
      "outputs": [
        {
          "output_type": "stream",
          "name": "stdout",
          "text": [
            "test accuracy: 0.710390127388535\n"
          ]
        }
      ]
    },
    {
      "cell_type": "code",
      "source": [
        "net_exp = BasicBlockNet().to(device)\n",
        "optimizer = optim.SGD(net_exp.parameters(), lr=0.1, momentum=0.9)\n",
        "scheduler = optim.lr_scheduler.ExponentialLR(optimizer, gamma=0.1)\n",
        "tr_loss_log_exp, tr_acc_log_exp, val_loss_log_exp, val_acc_log_exp = train(net_exp, optimizer, 20, train_loader, val_loader, scheduler)"
      ],
      "metadata": {
        "colab": {
          "base_uri": "https://localhost:8080/"
        },
        "id": "vUBnbZSnidXK",
        "outputId": "8787e5d7-133b-4d41-cd7a-be529b0f4064"
      },
      "execution_count": 108,
      "outputs": [
        {
          "output_type": "stream",
          "name": "stdout",
          "text": [
            "Epoch 0\n",
            " train loss: 1.4955626543086886, train acc: 0.4668483937898109\n",
            " val loss: 1.2537180563236805, val acc: 0.5560062057160317\n",
            "\n",
            "Epoch 1\n",
            " train loss: 1.111098668257105, train acc: 0.6137984787306359\n",
            " val loss: 1.0877307792927355, val acc: 0.6227171986661059\n",
            "\n",
            "Epoch 2\n",
            " train loss: 1.0495178293048573, train acc: 0.6360260511882998\n",
            " val loss: 1.068466534766745, val acc: 0.6295212765957446\n",
            "\n",
            "Epoch 3\n",
            " train loss: 1.0424670973687111, train acc: 0.6389070253485517\n",
            " val loss: 1.0664806655112733, val acc: 0.6319592199427017\n",
            "\n",
            "Epoch 4\n",
            " train loss: 1.041453253852384, train acc: 0.638519358809295\n",
            " val loss: 1.0659082534465385, val acc: 0.6306959220703612\n",
            "\n",
            "Epoch 5\n",
            " train loss: 1.0410118852716477, train acc: 0.6400781862260655\n",
            " val loss: 1.0669690286859552, val acc: 0.631161347602276\n",
            "\n",
            "Epoch 6\n",
            " train loss: 1.0404006654645233, train acc: 0.6376216048732318\n",
            " val loss: 1.0660291537325433, val acc: 0.6303634752618505\n",
            "\n",
            "Epoch 7\n",
            " train loss: 1.04180449683226, train acc: 0.6378297205381027\n",
            " val loss: 1.0663649467711753, val acc: 0.6298980497299357\n",
            "\n",
            "Epoch 8\n",
            " train loss: 1.0414157806192499, train acc: 0.6385234394936501\n",
            " val loss: 1.0659193741514328, val acc: 0.6318927305809995\n",
            "\n",
            "Epoch 9\n",
            " train loss: 1.0431687716374232, train acc: 0.6375930399737803\n",
            " val loss: 1.0660258366706523, val acc: 0.630562943346957\n",
            "\n",
            "Epoch 10\n",
            " train loss: 1.0397893356012906, train acc: 0.6393110146252285\n",
            " val loss: 1.066128567939109, val acc: 0.6315602837724889\n",
            "\n",
            "Epoch 11\n",
            " train loss: 1.0411736763591521, train acc: 0.6378419627001343\n",
            " val loss: 1.0658391366613673, val acc: 0.6323581561129143\n",
            "\n",
            "Epoch 12\n",
            " train loss: 1.041588332687915, train acc: 0.6395803407733576\n",
            " val loss: 1.0656261789037826, val acc: 0.631626773134191\n",
            "\n",
            "Epoch 13\n",
            " train loss: 1.041602454194203, train acc: 0.6393763057928417\n",
            " val loss: 1.0667661654188278, val acc: 0.6299645390916377\n",
            "\n",
            "Epoch 14\n",
            " train loss: 1.0412353225992192, train acc: 0.6369646121858461\n",
            " val loss: 1.0653673861889128, val acc: 0.6326241135597229\n",
            "\n",
            "Epoch 15\n",
            " train loss: 1.041344716300476, train acc: 0.6381643379628114\n",
            " val loss: 1.0663377888659213, val acc: 0.6312943263256804\n",
            "\n",
            "Epoch 16\n",
            " train loss: 1.0421127107069306, train acc: 0.6368585139567499\n",
            " val loss: 1.0659791182964407, val acc: 0.6307624114320634\n",
            "\n",
            "Epoch 17\n",
            " train loss: 1.042058253963861, train acc: 0.6379276573984889\n",
            " val loss: 1.066451718452129, val acc: 0.6326241135597229\n",
            "\n",
            "Epoch 18\n",
            " train loss: 1.0408222296120262, train acc: 0.6380337555186186\n",
            " val loss: 1.065634326731905, val acc: 0.6323581561129143\n",
            "\n",
            "Epoch 19\n",
            " train loss: 1.041889047709854, train acc: 0.6375359101748772\n",
            " val loss: 1.0661304968468686, val acc: 0.6309618795171698\n",
            "\n"
          ]
        }
      ]
    },
    {
      "cell_type": "code",
      "source": [
        "loss_exp, acc_exp = test(net_exp, test_loader)\n",
        "print(\"test accuracy:\", acc_exp)"
      ],
      "metadata": {
        "colab": {
          "base_uri": "https://localhost:8080/"
        },
        "id": "9YQi_btkidZv",
        "outputId": "f973694c-e3bc-4d27-a0c9-cd0ad31309d2"
      },
      "execution_count": 109,
      "outputs": [
        {
          "output_type": "stream",
          "name": "stdout",
          "text": [
            "test accuracy: 0.6257961783439491\n"
          ]
        }
      ]
    },
    {
      "cell_type": "code",
      "source": [
        "net_lin = BasicBlockNet().to(device)\n",
        "optimizer = optim.SGD(net_lin.parameters(), lr=0.1, momentum=0.9)\n",
        "scheduler = optim.lr_scheduler.LinearLR(optimizer)\n",
        "tr_loss_log_lin, tr_acc_log_lin, val_loss_log_lin, val_acc_log_lin = train(net_lin, optimizer, 20, train_loader, val_loader, scheduler)"
      ],
      "metadata": {
        "colab": {
          "base_uri": "https://localhost:8080/"
        },
        "id": "tUDU5pywidcS",
        "outputId": "9074b996-0f10-47f8-ddba-e1946b21744b"
      },
      "execution_count": 110,
      "outputs": [
        {
          "output_type": "stream",
          "name": "stdout",
          "text": [
            "Epoch 0\n",
            " train loss: 1.4845363604521185, train acc: 0.4676196461294861\n",
            " val loss: 1.2693310085763323, val acc: 0.5533687944107867\n",
            "\n",
            "Epoch 1\n",
            " train loss: 1.194382115626466, train acc: 0.5810263776909934\n",
            " val loss: 1.095845709455774, val acc: 0.6187056738011381\n",
            "\n",
            "Epoch 2\n",
            " train loss: 1.0702492577284302, train acc: 0.6239757443040991\n",
            " val loss: 1.084191322580297, val acc: 0.629720744680851\n",
            "\n",
            "Epoch 3\n",
            " train loss: 1.0151986791403245, train acc: 0.6477335792790819\n",
            " val loss: 1.0599535016303367, val acc: 0.6270833333756062\n",
            "\n",
            "Epoch 4\n",
            " train loss: 0.979013912638537, train acc: 0.6590044724004143\n",
            " val loss: 0.9945094965873881, val acc: 0.6562943263256803\n",
            "\n",
            "Epoch 5\n",
            " train loss: 0.959711641345643, train acc: 0.6672311634424618\n",
            " val loss: 1.142074325490505, val acc: 0.614937943346957\n",
            "\n",
            "Epoch 6\n",
            " train loss: 0.9226911632408825, train acc: 0.6823828023138169\n",
            " val loss: 0.9469056058437266, val acc: 0.6690602837724888\n",
            "\n",
            "Epoch 7\n",
            " train loss: 0.8995947905388785, train acc: 0.6900137111517367\n",
            " val loss: 0.9471477952409297, val acc: 0.6753989361702127\n",
            "\n",
            "Epoch 8\n",
            " train loss: 0.8770615930313166, train acc: 0.6968733677044647\n",
            " val loss: 0.9905418839860469, val acc: 0.6646276595744681\n",
            "\n",
            "Epoch 9\n",
            " train loss: 0.8542977316505949, train acc: 0.7022109232175503\n",
            " val loss: 0.9633179388147719, val acc: 0.6735815603682336\n",
            "\n",
            "Epoch 10\n",
            " train loss: 0.842466233526331, train acc: 0.7069037280963152\n",
            " val loss: 0.906043194963577, val acc: 0.6913120566530431\n",
            "\n",
            "Epoch 11\n",
            " train loss: 0.8304553358275886, train acc: 0.7115557260225635\n",
            " val loss: 0.8981431207758315, val acc: 0.6926640070499258\n",
            "\n",
            "Epoch 12\n",
            " train loss: 0.8115270408023646, train acc: 0.7184113018909364\n",
            " val loss: 0.930351700934958, val acc: 0.6784131204828303\n",
            "\n",
            "Epoch 13\n",
            " train loss: 0.8005778323143884, train acc: 0.7215616021993173\n",
            " val loss: 0.9599879680795872, val acc: 0.6761524821849579\n",
            "\n",
            "Epoch 14\n",
            " train loss: 0.7866718900378051, train acc: 0.7275806346148852\n",
            " val loss: 0.9395364081605951, val acc: 0.6828900710065314\n",
            "\n",
            "Epoch 15\n",
            " train loss: 0.779797413013535, train acc: 0.7291802689841722\n",
            " val loss: 0.8800808551463675, val acc: 0.7\n",
            "\n",
            "Epoch 16\n",
            " train loss: 0.7722522535206413, train acc: 0.7331793549073897\n",
            " val loss: 0.8937423401690544, val acc: 0.6972960992062346\n",
            "\n",
            "Epoch 17\n",
            " train loss: 0.7603303968797436, train acc: 0.7363745429616088\n",
            " val loss: 0.8405534234452755, val acc: 0.711347517815042\n",
            "\n",
            "Epoch 18\n",
            " train loss: 0.7529085123233865, train acc: 0.7395656503314728\n",
            " val loss: 0.8941240095077677, val acc: 0.6991578014607125\n",
            "\n",
            "Epoch 19\n",
            " train loss: 0.7475141433954675, train acc: 0.7429159049360147\n",
            " val loss: 0.8405859438662834, val acc: 0.7182402482692232\n",
            "\n"
          ]
        }
      ]
    },
    {
      "cell_type": "code",
      "source": [
        "loss_lin, acc_lin = test(net_lin, test_loader)\n",
        "print(\"test accuracy:\", acc_lin)"
      ],
      "metadata": {
        "colab": {
          "base_uri": "https://localhost:8080/"
        },
        "id": "H4s-t-Lxidfw",
        "outputId": "537df971-08af-41d4-af61-fcaf8161b5f2"
      },
      "execution_count": 111,
      "outputs": [
        {
          "output_type": "stream",
          "name": "stdout",
          "text": [
            "test accuracy: 0.7109872611464968\n"
          ]
        }
      ]
    },
    {
      "cell_type": "markdown",
      "metadata": {
        "id": "5a_zMNNVO9Du"
      },
      "source": [
        "Your answers here:\n",
        "\n",
        "StepLR - домножает lr на gamma каждые эпохи step_size.\n",
        "\n",
        "ExponentialLR - домножает lr на gamma на каждой эпохе.\n",
        "\n",
        "LinearLR - уменьшает lr с помощью линейного изменения, пока не достигнет total_iters (по умолчанию равняется 5).\n",
        "\n",
        "Качество с MultiStepLR практически такое же, как с LinearLR и StepLR."
      ]
    },
    {
      "cell_type": "code",
      "source": [
        "print(\"test accuracy:\")\n",
        "print('MultiStepLR', acc_multistep)\n",
        "print('ConstStep', acc_const)\n",
        "print('StepLR', acc_step)\n",
        "print('ExponentialLR', acc_exp)\n",
        "print('LinearLR', acc_lin)"
      ],
      "metadata": {
        "colab": {
          "base_uri": "https://localhost:8080/"
        },
        "id": "TEdtSOOC8V3f",
        "outputId": "7fc579e3-da80-4f30-f5fa-5f104c4f9879"
      },
      "execution_count": 126,
      "outputs": [
        {
          "output_type": "stream",
          "name": "stdout",
          "text": [
            "test accuracy:\n",
            "MultiStepLR 0.7185509554140127\n",
            "ConstStep 0.6713773885350318\n",
            "StepLR 0.710390127388535\n",
            "ExponentialLR 0.6257961783439491\n",
            "LinearLR 0.7109872611464968\n"
          ]
        }
      ]
    },
    {
      "cell_type": "markdown",
      "metadata": {
        "id": "7xFXgl_3_E--"
      },
      "source": [
        "## 4. Аугментации данных (2 балла)"
      ]
    },
    {
      "cell_type": "markdown",
      "metadata": {
        "id": "5G0Easo9O9Du"
      },
      "source": [
        "Еще одной стандартной техникой, применяющейся в глубинном обучении, а особенно часто в компьютерном зрении, являются аугментации данных. Суть аугментаций состоит в том, что мы можем некоторым синтетическим образом видоизменять объекты обучающей выборки, тем самым расширяя ее, а также делая итоговую модель более устойчивой к таким изменениям.\n",
        "\n",
        "Простейшая аугментация, которую можно применить к картинкам — разворот картинки по горизонтальной оси. То есть при обучении модели с вероятностью $0.5$ мы будем разворачивать картинку из обучающей выборки."
      ]
    },
    {
      "cell_type": "code",
      "execution_count": 116,
      "metadata": {
        "id": "SzeFpgtfO9Du",
        "colab": {
          "base_uri": "https://localhost:8080/",
          "height": 259
        },
        "outputId": "6120f4e3-3dce-4a39-86ac-50bfe1d7e106"
      },
      "outputs": [
        {
          "output_type": "display_data",
          "data": {
            "text/plain": [
              "<Figure size 432x288 with 1 Axes>"
            ],
            "image/png": "[encoded data removed]"
          },
          "metadata": {
            "needs_background": "light"
          }
        },
        {
          "output_type": "display_data",
          "data": {
            "text/plain": [
              "<Figure size 432x288 with 1 Axes>"
            ],
            "image/png": "[encoded data removed]"
          },
          "metadata": {
            "needs_background": "light"
          }
        }
      ],
      "source": [
        "dataiter = iter(train_loader)\n",
        "images, labels = next(dataiter)\n",
        "\n",
        "imshow(torchvision.utils.make_grid(images[:4]))\n",
        "\n",
        "imshow(torchvision.utils.make_grid(transforms.functional.hflip(images[:4])))"
      ]
    },
    {
      "cell_type": "markdown",
      "metadata": {
        "id": "BR4a-XJQO9Du"
      },
      "source": [
        "Наиболее удобным способом работы с аугментациями в PyTorch является их задание в списке <code>transforms</code>, который затем передается в загрузчик данных. Обучим нашу сеть, применяя горизонтальные повороты:"
      ]
    },
    {
      "cell_type": "code",
      "execution_count": 117,
      "metadata": {
        "id": "na0ScBf-_AqX",
        "scrolled": true,
        "colab": {
          "base_uri": "https://localhost:8080/"
        },
        "outputId": "d5e0f21d-7d74-447e-b79e-c0493377c628"
      },
      "outputs": [
        {
          "output_type": "stream",
          "name": "stdout",
          "text": [
            "Files already downloaded and verified\n",
            "Files already downloaded and verified\n",
            "Epoch 0\n",
            " train loss: 1.4819886797742827, train acc: 0.4702149712407393\n",
            " val loss: 1.2828906394065696, val acc: 0.542686170212766\n",
            "\n",
            "Epoch 1\n",
            " train loss: 1.1718023294068778, train acc: 0.5907506855575868\n",
            " val loss: 1.0860894307177118, val acc: 0.6218085106382979\n",
            "\n",
            "Epoch 2\n",
            " train loss: 1.0493420785262337, train acc: 0.634552918469884\n",
            " val loss: 1.0349457794047416, val acc: 0.6427748226104899\n",
            "\n",
            "Epoch 3\n",
            " train loss: 0.988633657177362, train acc: 0.6556746213266139\n",
            " val loss: 0.9488918682362171, val acc: 0.6703014183551708\n",
            "\n",
            "Epoch 4\n",
            " train loss: 0.9485136664981598, train acc: 0.6702100744630999\n",
            " val loss: 0.986640795241011, val acc: 0.6560726949509154\n",
            "\n",
            "Epoch 5\n",
            " train loss: 0.9171227563233872, train acc: 0.6824725776965265\n",
            " val loss: 0.934511373144515, val acc: 0.6756648936170213\n",
            "\n",
            "Epoch 6\n",
            " train loss: 0.8961823125534999, train acc: 0.6920458996971521\n",
            " val loss: 0.9622439995725104, val acc: 0.6585992906955962\n",
            "\n",
            "Epoch 7\n",
            " train loss: 0.8877146726225587, train acc: 0.6912868895739916\n",
            " val loss: 0.8838176445758089, val acc: 0.6959441489361702\n",
            "\n",
            "Epoch 8\n",
            " train loss: 0.8708935454079176, train acc: 0.698893314196815\n",
            " val loss: 0.9178998150724046, val acc: 0.6881427305809995\n",
            "\n",
            "Epoch 9\n",
            " train loss: 0.8512734586621551, train acc: 0.7045328414418361\n",
            " val loss: 0.8663217241459704, val acc: 0.7042553191489361\n",
            "\n",
            "Epoch 10\n",
            " train loss: 0.759887788860192, train acc: 0.7379823386996058\n",
            " val loss: 0.8013976099643302, val acc: 0.7285904255319149\n",
            "\n",
            "Epoch 11\n",
            " train loss: 0.7442110850453595, train acc: 0.7414713371170504\n",
            " val loss: 0.7936861199267367, val acc: 0.7324246454746165\n",
            "\n",
            "Epoch 12\n",
            " train loss: 0.7358167754993579, train acc: 0.7449644163278165\n",
            " val loss: 0.7874194576385173, val acc: 0.7317597518575952\n",
            "\n",
            "Epoch 13\n",
            " train loss: 0.7325200117593273, train acc: 0.7482901867172618\n",
            " val loss: 0.7830554192370557, val acc: 0.7352393617021277\n",
            "\n",
            "Epoch 14\n",
            " train loss: 0.7283108530794244, train acc: 0.749179779284615\n",
            " val loss: 0.7807617787351, val acc: 0.7328014183551708\n",
            "\n",
            "Epoch 15\n",
            " train loss: 0.7162367389341595, train acc: 0.7535624510627342\n",
            " val loss: 0.775502285678336, val acc: 0.7355053191489361\n",
            "\n",
            "Epoch 16\n",
            " train loss: 0.7142826810179507, train acc: 0.7537542438812186\n",
            " val loss: 0.7723849890079905, val acc: 0.7363696808510638\n",
            "\n",
            "Epoch 17\n",
            " train loss: 0.7137236363055284, train acc: 0.7549458082894739\n",
            " val loss: 0.774614232398094, val acc: 0.7330452127659575\n",
            "\n",
            "Epoch 18\n",
            " train loss: 0.7137483474977273, train acc: 0.7533992230347349\n",
            " val loss: 0.7728235727929055, val acc: 0.7359264183551707\n",
            "\n",
            "Epoch 19\n",
            " train loss: 0.7123635929942785, train acc: 0.7562761165106319\n",
            " val loss: 0.7738627254962921, val acc: 0.7355939715466601\n",
            "\n"
          ]
        }
      ],
      "source": [
        "transform = transforms.Compose(\n",
        "        [transforms.RandomHorizontalFlip(),\n",
        "         transforms.ToTensor(),\n",
        "         transforms.Normalize((0.5, 0.5, 0.5), (0.5, 0.5, 0.5))]\n",
        ")\n",
        "\n",
        "train_loader, val_loader, test_loader = get_cifar10_data(batch_size=64, transform_train=transform)\n",
        "\n",
        "net = BasicBlockNet().to(device)\n",
        "optimizer = optim.SGD(net.parameters(), lr=0.1, momentum=0.9)\n",
        "scheduler = optim.lr_scheduler.MultiStepLR(optimizer, milestones=[10, 15], gamma=0.1)\n",
        "tr_loss_log, tr_acc_log, val_loss_log, val_acc_log = train(net, optimizer, 20, train_loader, val_loader, scheduler)"
      ]
    },
    {
      "cell_type": "markdown",
      "metadata": {
        "id": "v3ZIqDQqO9Dv"
      },
      "source": [
        "Посчитайте точность на тестовой выборке:"
      ]
    },
    {
      "cell_type": "code",
      "execution_count": 118,
      "metadata": {
        "id": "nNJizMkM_Auh",
        "colab": {
          "base_uri": "https://localhost:8080/"
        },
        "outputId": "95a8fcf0-544a-454b-8f18-0418a24c451a"
      },
      "outputs": [
        {
          "output_type": "stream",
          "name": "stdout",
          "text": [
            "test accuracy: 0.7323845541401274\n"
          ]
        }
      ],
      "source": [
        "loss_st, acc_st = test(net, test_loader)\n",
        "print(\"test accuracy:\", acc_st)"
      ]
    },
    {
      "cell_type": "markdown",
      "metadata": {
        "id": "KndehSCHO9Dv"
      },
      "source": [
        "**Задание 4.1 (2 балла).** Изучите, какие еще способы аугментаций изображений представлены в <code>torchvision.transforms</code>. Выберите несколько из них, объясните, как они устроены, и обучите модель с ними (по отдельности и вместе). Удалось ли добиться улучшения качества на тестовой выборке?"
      ]
    },
    {
      "cell_type": "code",
      "execution_count": 119,
      "metadata": {
        "id": "Np4rgvdZ_QRF",
        "colab": {
          "base_uri": "https://localhost:8080/"
        },
        "outputId": "46f868bf-9b66-48bb-fd76-e600796c8e47"
      },
      "outputs": [
        {
          "output_type": "stream",
          "name": "stdout",
          "text": [
            "Files already downloaded and verified\n",
            "Files already downloaded and verified\n",
            "Epoch 0\n",
            " train loss: 1.5491308300761026, train acc: 0.4477343953723663\n",
            " val loss: 1.3723073264385792, val acc: 0.5094414893617021\n",
            "\n",
            "Epoch 1\n",
            " train loss: 1.291676700877969, train acc: 0.545544691778842\n",
            " val loss: 1.216273404943182, val acc: 0.5648492908224146\n",
            "\n",
            "Epoch 2\n",
            " train loss: 1.1867649372142672, train acc: 0.5860293157793705\n",
            " val loss: 1.1488222758820716, val acc: 0.6020390071767442\n",
            "\n",
            "Epoch 3\n",
            " train loss: 1.1283561292034616, train acc: 0.607253036071875\n",
            " val loss: 1.1017679323541356, val acc: 0.6197030140998515\n",
            "\n",
            "Epoch 4\n",
            " train loss: 1.088924573805912, train acc: 0.6181117785478205\n",
            " val loss: 1.098326688370806, val acc: 0.6158909574468086\n",
            "\n",
            "Epoch 5\n",
            " train loss: 1.0604785227470468, train acc: 0.6261752415618688\n",
            " val loss: 1.1102568486903577, val acc: 0.6108377659574468\n",
            "\n",
            "Epoch 6\n",
            " train loss: 1.0406751363543314, train acc: 0.6371155980518138\n",
            " val loss: 1.0613520340716585, val acc: 0.6287234042553191\n",
            "\n",
            "Epoch 7\n",
            " train loss: 1.0261820187516362, train acc: 0.6405964351005484\n",
            " val loss: 1.0284846407301882, val acc: 0.6398049646235527\n",
            "\n",
            "Epoch 8\n",
            " train loss: 1.0042012810053293, train acc: 0.6483783298044362\n",
            " val loss: 1.0580945212790307, val acc: 0.636059397078575\n",
            "\n",
            "Epoch 9\n",
            " train loss: 0.9820559737451333, train acc: 0.6564336314497744\n",
            " val loss: 1.003692376613617, val acc: 0.6505097518575952\n",
            "\n",
            "Epoch 10\n",
            " train loss: 0.8797662508771014, train acc: 0.6952084421675645\n",
            " val loss: 0.9463394644412588, val acc: 0.6707668438870856\n",
            "\n",
            "Epoch 11\n",
            " train loss: 0.8636002633209856, train acc: 0.7012805235887141\n",
            " val loss: 0.9426688503711782, val acc: 0.672495567291341\n",
            "\n",
            "Epoch 12\n",
            " train loss: 0.860632513951122, train acc: 0.7002970749542962\n",
            " val loss: 0.9454895559777605, val acc: 0.6687943263256804\n",
            "\n",
            "Epoch 13\n",
            " train loss: 0.8537087424145756, train acc: 0.7049653956179645\n",
            " val loss: 0.9396182529469754, val acc: 0.6757313829787234\n",
            "\n",
            "Epoch 14\n",
            " train loss: 0.8498957207259574, train acc: 0.7049857991487061\n",
            " val loss: 0.9384443323662941, val acc: 0.6752659574468085\n",
            "\n",
            "Epoch 15\n",
            " train loss: 0.8340905669947211, train acc: 0.7117434382656592\n",
            " val loss: 0.9293145240621364, val acc: 0.6776152481424048\n",
            "\n",
            "Epoch 16\n",
            " train loss: 0.8337837988323442, train acc: 0.7116618242516596\n",
            " val loss: 0.9298062408224065, val acc: 0.6780141843126175\n",
            "\n",
            "Epoch 17\n",
            " train loss: 0.8325397038263638, train acc: 0.7133349111572698\n",
            " val loss: 0.928893328473923, val acc: 0.6783466311211281\n",
            "\n",
            "Epoch 18\n",
            " train loss: 0.8312012866493553, train acc: 0.7111680595922731\n",
            " val loss: 0.9312704268922197, val acc: 0.6770390071767441\n",
            "\n",
            "Epoch 19\n",
            " train loss: 0.8313143450010847, train acc: 0.7119270697154336\n",
            " val loss: 0.9309750323599958, val acc: 0.6789228723404256\n",
            "\n"
          ]
        }
      ],
      "source": [
        "transform = transforms.Compose(\n",
        "        [transforms.GaussianBlur(kernel_size=3, sigma=(0.1, 3)),\n",
        "         transforms.ToTensor(),\n",
        "         transforms.Normalize((0.5, 0.5, 0.5), (0.5, 0.5, 0.5))]\n",
        ")\n",
        "\n",
        "train_loader, val_loader, test_loader = get_cifar10_data(batch_size=64, transform_train=transform)\n",
        "\n",
        "net_gaussian = BasicBlockNet().to(device)\n",
        "optimizer = optim.SGD(net_gaussian.parameters(), lr=0.1, momentum=0.9)\n",
        "scheduler = optim.lr_scheduler.MultiStepLR(optimizer, milestones=[10, 15], gamma=0.1)\n",
        "tr_loss_log_gaussian, tr_acc_log_gaussian, val_loss_log_gaussian, val_acc_log_gaussian = train(net_gaussian, optimizer, 20, train_loader, val_loader, scheduler)"
      ]
    },
    {
      "cell_type": "code",
      "source": [
        "loss_gaussian, acc_gaussian = test(net_gaussian, test_loader)\n",
        "print(\"test accuracy:\", acc_gaussian)"
      ],
      "metadata": {
        "colab": {
          "base_uri": "https://localhost:8080/"
        },
        "id": "YA5deQ1woENJ",
        "outputId": "ad6b7a97-8f53-45f1-88f1-804225820903"
      },
      "execution_count": 120,
      "outputs": [
        {
          "output_type": "stream",
          "name": "stdout",
          "text": [
            "test accuracy: 0.673765923566879\n"
          ]
        }
      ]
    },
    {
      "cell_type": "code",
      "source": [
        "transform = transforms.Compose(\n",
        "        [transforms.RandomVerticalFlip(),\n",
        "         transforms.ToTensor(),\n",
        "         transforms.Normalize((0.5, 0.5, 0.5), (0.5, 0.5, 0.5))]\n",
        ")\n",
        "\n",
        "train_loader, val_loader, test_loader = get_cifar10_data(batch_size=64, transform_train=transform)\n",
        "\n",
        "net_vert = BasicBlockNet().to(device)\n",
        "optimizer = optim.SGD(net_vert.parameters(), lr=0.1, momentum=0.9)\n",
        "scheduler = optim.lr_scheduler.MultiStepLR(optimizer, milestones=[10, 15], gamma=0.1)\n",
        "tr_loss_log_vert, tr_acc_log_vert, val_loss_log_vert, val_acc_log_vert = train(net_vert, optimizer, 20, train_loader, val_loader, scheduler)"
      ],
      "metadata": {
        "colab": {
          "base_uri": "https://localhost:8080/"
        },
        "id": "xMDWy5RzpNDp",
        "outputId": "80179581-fcd1-48af-b27e-5077cc4390e6"
      },
      "execution_count": 121,
      "outputs": [
        {
          "output_type": "stream",
          "name": "stdout",
          "text": [
            "Files already downloaded and verified\n",
            "Files already downloaded and verified\n",
            "Epoch 0\n",
            " train loss: 1.655293609586015, train acc: 0.4009614129171075\n",
            " val loss: 1.4602696089034384, val acc: 0.4692154255319149\n",
            "\n",
            "Epoch 1\n",
            " train loss: 1.3935556470585044, train acc: 0.5024402585609303\n",
            " val loss: 1.2906135280081565, val acc: 0.5420877659574468\n",
            "\n",
            "Epoch 2\n",
            " train loss: 1.2832100153841093, train acc: 0.5409375815984317\n",
            " val loss: 1.2912173245815521, val acc: 0.5438829787234043\n",
            "\n",
            "Epoch 3\n",
            " train loss: 1.2271721663815012, train acc: 0.565140212802608\n",
            " val loss: 1.1888816486013696, val acc: 0.5824468085106383\n",
            "\n",
            "Epoch 4\n",
            " train loss: 1.1780315209350376, train acc: 0.5831075346121186\n",
            " val loss: 1.2084132161546262, val acc: 0.5730939715466601\n",
            "\n",
            "Epoch 5\n",
            " train loss: 1.146031219845934, train acc: 0.5970023178531221\n",
            " val loss: 1.18217480081193, val acc: 0.5808510638297872\n",
            "\n",
            "Epoch 6\n",
            " train loss: 1.1134056768208143, train acc: 0.6074448288903593\n",
            " val loss: 1.1471915186719692, val acc: 0.594437056653043\n",
            "\n",
            "Epoch 7\n",
            " train loss: 1.1052169406435826, train acc: 0.6114643183443185\n",
            " val loss: 1.1032521897173941, val acc: 0.621498226865809\n",
            "\n",
            "Epoch 8\n",
            " train loss: 1.0867548723325433, train acc: 0.6176057717264025\n",
            " val loss: 1.0974245307293344, val acc: 0.6192375886947551\n",
            "\n",
            "Epoch 9\n",
            " train loss: 1.0707524451520805, train acc: 0.6209193000627828\n",
            " val loss: 1.0773460659574956, val acc: 0.6284131204828303\n",
            "\n",
            "Epoch 10\n",
            " train loss: 0.9659159546360455, train acc: 0.6645950313242087\n",
            " val loss: 1.0054449794140268, val acc: 0.6508200353764473\n",
            "\n",
            "Epoch 11\n",
            " train loss: 0.9508992453161933, train acc: 0.6698632149853262\n",
            " val loss: 1.0018980097263417, val acc: 0.6530806736743197\n",
            "\n",
            "Epoch 12\n",
            " train loss: 0.9444277836810082, train acc: 0.6695204361919075\n",
            " val loss: 0.9898764635654206, val acc: 0.6573359928232558\n",
            "\n",
            "Epoch 13\n",
            " train loss: 0.9413361828331538, train acc: 0.6714138809244201\n",
            " val loss: 0.9848930254895636, val acc: 0.6603058510638298\n",
            "\n",
            "Epoch 14\n",
            " train loss: 0.9339842811580986, train acc: 0.6736541851347064\n",
            " val loss: 0.9822235827750349, val acc: 0.6617242906955962\n",
            "\n",
            "Epoch 15\n",
            " train loss: 0.9236324997227197, train acc: 0.678795867035986\n",
            " val loss: 0.978050228129042, val acc: 0.6612588651636814\n",
            "\n",
            "Epoch 16\n",
            " train loss: 0.9201713292646669, train acc: 0.6790692739774365\n",
            " val loss: 0.9765886169798831, val acc: 0.6653812055892133\n",
            "\n",
            "Epoch 17\n",
            " train loss: 0.9198394519101549, train acc: 0.6791386458294048\n",
            " val loss: 0.9761058120017356, val acc: 0.6621897162275111\n",
            "\n",
            "Epoch 18\n",
            " train loss: 0.9180487634059062, train acc: 0.6810076064557872\n",
            " val loss: 0.9737298316143929, val acc: 0.6656471630360218\n",
            "\n",
            "Epoch 19\n",
            " train loss: 0.9187680388063574, train acc: 0.6799221402766282\n",
            " val loss: 0.9753667286101808, val acc: 0.662344858240574\n",
            "\n"
          ]
        }
      ]
    },
    {
      "cell_type": "code",
      "source": [
        "loss_vert, acc_vert = test(net_vert, test_loader)\n",
        "print(\"test accuracy:\", acc_vert)"
      ],
      "metadata": {
        "colab": {
          "base_uri": "https://localhost:8080/"
        },
        "id": "nQ0SH_gipNHC",
        "outputId": "2ef0db5a-4a5c-40cf-a063-47077412af0d"
      },
      "execution_count": 122,
      "outputs": [
        {
          "output_type": "stream",
          "name": "stdout",
          "text": [
            "test accuracy: 0.6583399681528662\n"
          ]
        }
      ]
    },
    {
      "cell_type": "code",
      "source": [
        "transform = transforms.Compose(\n",
        "        [transforms.RandomInvert(),\n",
        "         transforms.ToTensor(),\n",
        "         transforms.Normalize((0.5, 0.5, 0.5), (0.5, 0.5, 0.5))]\n",
        ")\n",
        "\n",
        "train_loader, val_loader, test_loader = get_cifar10_data(batch_size=64, transform_train=transform)\n",
        "\n",
        "net_inv = BasicBlockNet().to(device)\n",
        "optimizer = optim.SGD(net_inv.parameters(), lr=0.1, momentum=0.9)\n",
        "scheduler = optim.lr_scheduler.MultiStepLR(optimizer, milestones=[10, 15], gamma=0.1)\n",
        "tr_loss_log_inv, tr_acc_log_inv, val_loss_log_inv, val_acc_log_inv = train(net_inv, optimizer, 20, train_loader, val_loader, scheduler)"
      ],
      "metadata": {
        "colab": {
          "base_uri": "https://localhost:8080/"
        },
        "id": "A24Lzxhzpur9",
        "outputId": "baba651c-6442-438b-fcc4-49709910238b"
      },
      "execution_count": 123,
      "outputs": [
        {
          "output_type": "stream",
          "name": "stdout",
          "text": [
            "Files already downloaded and verified\n",
            "Files already downloaded and verified\n",
            "Epoch 0\n",
            " train loss: 1.7391449208669296, train acc: 0.3826227474692099\n",
            " val loss: 1.49296843193947, val acc: 0.46961436170212767\n",
            "\n",
            "Epoch 1\n",
            " train loss: 1.4070344726389896, train acc: 0.5099650692242373\n",
            " val loss: 1.3274750879470338, val acc: 0.5399157801841168\n",
            "\n",
            "Epoch 2\n",
            " train loss: 1.2756804444672203, train acc: 0.5601699202980376\n",
            " val loss: 1.2273966028335246, val acc: 0.5779476949509154\n",
            "\n",
            "Epoch 3\n",
            " train loss: 1.204901380338442, train acc: 0.5867556803187243\n",
            " val loss: 1.1780128329358202, val acc: 0.6001551417594261\n",
            "\n",
            "Epoch 4\n",
            " train loss: 1.1546362551300355, train acc: 0.6026091995143368\n",
            " val loss: 1.2018818043647927, val acc: 0.5849512412192973\n",
            "\n",
            "Epoch 5\n",
            " train loss: 1.128001166109193, train acc: 0.6127374967665733\n",
            " val loss: 1.1459556292980275, val acc: 0.6088652481424047\n",
            "\n",
            "Epoch 6\n",
            " train loss: 1.1016595457328084, train acc: 0.6231922499658421\n",
            " val loss: 1.1070203471691051, val acc: 0.6184840425531914\n",
            "\n",
            "Epoch 7\n",
            " train loss: 1.0882836381957561, train acc: 0.6283502546045419\n",
            " val loss: 1.147660917424141, val acc: 0.6061391843126175\n",
            "\n",
            "Epoch 8\n",
            " train loss: 1.0790582915982554, train acc: 0.6275994058500914\n",
            " val loss: 1.0930095553398131, val acc: 0.6255540779296388\n",
            "\n",
            "Epoch 9\n",
            " train loss: 1.049717440574653, train acc: 0.6393150953095835\n",
            " val loss: 1.1304063140077794, val acc: 0.6184840425531914\n",
            "\n",
            "Epoch 10\n",
            " train loss: 0.949340203344495, train acc: 0.6759189736690556\n",
            " val loss: 0.9856623768806457, val acc: 0.662389184439436\n",
            "\n",
            "Epoch 11\n",
            " train loss: 0.9335174550739895, train acc: 0.6803465330840465\n",
            " val loss: 0.9783680631759318, val acc: 0.6635859928232558\n",
            "\n",
            "Epoch 12\n",
            " train loss: 0.9252032165771429, train acc: 0.6844721206581352\n",
            " val loss: 0.9779444681837204, val acc: 0.6653590425531914\n",
            "\n",
            "Epoch 13\n",
            " train loss: 0.9213245056664922, train acc: 0.6855331026221978\n",
            " val loss: 0.9657758058385646, val acc: 0.6689937944107868\n",
            "\n",
            "Epoch 14\n",
            " train loss: 0.916604025708256, train acc: 0.6870266387623887\n",
            " val loss: 0.9707193965607501, val acc: 0.6669326241980208\n",
            "\n",
            "Epoch 15\n",
            " train loss: 0.9057065794956096, train acc: 0.6927559414990859\n",
            " val loss: 0.9611094274419419, val acc: 0.6708111702127659\n",
            "\n",
            "Epoch 16\n",
            " train loss: 0.9036094833989466, train acc: 0.6930293484405364\n",
            " val loss: 0.9569649599968119, val acc: 0.6727393617021277\n",
            "\n",
            "Epoch 17\n",
            " train loss: 0.901838180678854, train acc: 0.6920826259653137\n",
            " val loss: 0.9607194241057051, val acc: 0.6724734042553191\n",
            "\n",
            "Epoch 18\n",
            " train loss: 0.8976819837768946, train acc: 0.694620821332147\n",
            " val loss: 0.9598755940477899, val acc: 0.6699468085106383\n",
            "\n",
            "Epoch 19\n",
            " train loss: 0.8992299191258725, train acc: 0.6947677265137597\n",
            " val loss: 0.9565940476478414, val acc: 0.669813829787234\n",
            "\n"
          ]
        }
      ]
    },
    {
      "cell_type": "code",
      "source": [
        "loss_inv, acc_inv = test(net_inv, test_loader)\n",
        "print(\"test accuracy:\", acc_inv)"
      ],
      "metadata": {
        "colab": {
          "base_uri": "https://localhost:8080/"
        },
        "id": "K8rWFu_LqIlJ",
        "outputId": "1ebddaba-8367-4220-bb8c-7ba0b9066e1c"
      },
      "execution_count": 124,
      "outputs": [
        {
          "output_type": "stream",
          "name": "stdout",
          "text": [
            "test accuracy: 0.6660031847133758\n"
          ]
        }
      ]
    },
    {
      "cell_type": "markdown",
      "metadata": {
        "id": "4K-MptLiO9Dv"
      },
      "source": [
        "Your answers here:\n",
        "\n",
        "GaussianBlur - размывает изображение с помощью случайно выбранного размытия по Гауссу.\n",
        "\n",
        "RandomVerticalFlip - переворачивает изображение по вертикали случайным образом с заданной вероятностью (по умолчанию 0.5).\n",
        "\n",
        "RandomInvert - инвертирует цвета изображения случайным образом с заданной вероятностью (по умолчанию 0.5).\n",
        "\n",
        "Лучшее качество получилось с RandomHorizontalFlip."
      ]
    },
    {
      "cell_type": "code",
      "source": [
        "print(\"test accuracy:\")\n",
        "print('RandomHorizontalFlip', acc_st)\n",
        "print('GaussianBlur', acc_gaussian)\n",
        "print('RandomVerticalFlip', acc_vert)\n",
        "print('RandomInvert', acc_inv)"
      ],
      "metadata": {
        "colab": {
          "base_uri": "https://localhost:8080/"
        },
        "id": "7iA-1r_R7ygS",
        "outputId": "064c6ff4-7694-4d62-9408-a5f3a8c50b5d"
      },
      "execution_count": 125,
      "outputs": [
        {
          "output_type": "stream",
          "name": "stdout",
          "text": [
            "test accuracy:\n",
            "RandomHorizontalFlip 0.7323845541401274\n",
            "GaussianBlur 0.673765923566879\n",
            "RandomVerticalFlip 0.6583399681528662\n",
            "RandomInvert 0.6660031847133758\n"
          ]
        }
      ]
    },
    {
      "cell_type": "markdown",
      "metadata": {
        "id": "HCENjLw5O9Dv"
      },
      "source": [
        "## Бонус. Логирование в wandb (2 балла)"
      ]
    },
    {
      "cell_type": "markdown",
      "metadata": {
        "id": "xOyzc1mnO9Dv"
      },
      "source": [
        "На практике специалиста по глубинному обучению часто встречаются ситуации, когда нейросеть учится на каком-то удаленном сервере. И обычно вам хочется отслеживать прогресс обучения, особенно когда время обучения модели исчисляется днями или неделями. Для таких целей существует несколько инструментов. Вероятно, самый популярный из них — [wandb](https://wandb.ai/site).\n",
        "\n",
        "Ваша задача состоит в том, чтобы разобраться как им пользоваться, и повторить задания 2.1 и 2.2 с его использованием. Обучение вы можете запускать в этом же ноутбуке, но теперь вам необходимо через wandb логировать значения функции потерь и точности на обучающей выборке и на валидационной. Результатом работы должны быть ваш код и публичная ссылка на страничку с графиками, идентичными графикам в задании 2.2."
      ]
    },
    {
      "cell_type": "code",
      "execution_count": null,
      "metadata": {
        "id": "m5gSTLAr_QS4"
      },
      "outputs": [],
      "source": [
        "# <your code here>"
      ]
    }
  ],
  "metadata": {
    "colab": {
      "provenance": [],
      "include_colab_link": true
    },
    "kernelspec": {
      "display_name": "Python 3 (ipykernel)",
      "language": "python",
      "name": "python3"
    },
    "language_info": {
      "codemirror_mode": {
        "name": "ipython",
        "version": 3
      },
      "file_extension": ".py",
      "mimetype": "text/x-python",
      "name": "python",
      "nbconvert_exporter": "python",
      "pygments_lexer": "ipython3",
      "version": "3.10.4"
    },
    "gpuClass": "standard",
    "widgets": {
      "application/vnd.jupyter.widget-state+json": {
        "d27e18bea3654b6a87a40f8f9b730198": {
          "model_module": "@jupyter-widgets/controls",
          "model_name": "HBoxModel",
          "model_module_version": "1.5.0",
          "state": {
            "_dom_classes": [],
            "_model_module": "@jupyter-widgets/controls",
            "_model_module_version": "1.5.0",
            "_model_name": "HBoxModel",
            "_view_count": null,
            "_view_module": "@jupyter-widgets/controls",
            "_view_module_version": "1.5.0",
            "_view_name": "HBoxView",
            "box_style": "",
            "children": [
              "IPY_MODEL_f4d6874779b5432a943c2bc8f1a7c5af",
              "IPY_MODEL_7ed15fd0070c489f8b648b02ea70c311",
              "IPY_MODEL_af114377c25a49d48800fdd3de258d64"
            ],
            "layout": "IPY_MODEL_a46210704cec46dda2aa3ce886bf0088"
          }
        },
        "f4d6874779b5432a943c2bc8f1a7c5af": {
          "model_module": "@jupyter-widgets/controls",
          "model_name": "HTMLModel",
          "model_module_version": "1.5.0",
          "state": {
            "_dom_classes": [],
            "_model_module": "@jupyter-widgets/controls",
            "_model_module_version": "1.5.0",
            "_model_name": "HTMLModel",
            "_view_count": null,
            "_view_module": "@jupyter-widgets/controls",
            "_view_module_version": "1.5.0",
            "_view_name": "HTMLView",
            "description": "",
            "description_tooltip": null,
            "layout": "IPY_MODEL_fb677c8c121a443296d9f8a888738ae2",
            "placeholder": "​",
            "style": "IPY_MODEL_dbff156a50594e92b8ede0fe16559d41",
            "value": "100%"
          }
        },
        "7ed15fd0070c489f8b648b02ea70c311": {
          "model_module": "@jupyter-widgets/controls",
          "model_name": "FloatProgressModel",
          "model_module_version": "1.5.0",
          "state": {
            "_dom_classes": [],
            "_model_module": "@jupyter-widgets/controls",
            "_model_module_version": "1.5.0",
            "_model_name": "FloatProgressModel",
            "_view_count": null,
            "_view_module": "@jupyter-widgets/controls",
            "_view_module_version": "1.5.0",
            "_view_name": "ProgressView",
            "bar_style": "success",
            "description": "",
            "description_tooltip": null,
            "layout": "IPY_MODEL_bc541477c080479cbc170a07aacb46a0",
            "max": 170498071,
            "min": 0,
            "orientation": "horizontal",
            "style": "IPY_MODEL_6887d4c1cf5a40a48e16f9cf3c78607c",
            "value": 170498071
          }
        },
        "af114377c25a49d48800fdd3de258d64": {
          "model_module": "@jupyter-widgets/controls",
          "model_name": "HTMLModel",
          "model_module_version": "1.5.0",
          "state": {
            "_dom_classes": [],
            "_model_module": "@jupyter-widgets/controls",
            "_model_module_version": "1.5.0",
            "_model_name": "HTMLModel",
            "_view_count": null,
            "_view_module": "@jupyter-widgets/controls",
            "_view_module_version": "1.5.0",
            "_view_name": "HTMLView",
            "description": "",
            "description_tooltip": null,
            "layout": "IPY_MODEL_acec430109994f49868e17f64cdb758d",
            "placeholder": "​",
            "style": "IPY_MODEL_02699c7f383842c98622baf6211379c8",
            "value": " 170498071/170498071 [00:03&lt;00:00, 64728266.90it/s]"
          }
        },
        "a46210704cec46dda2aa3ce886bf0088": {
          "model_module": "@jupyter-widgets/base",
          "model_name": "LayoutModel",
          "model_module_version": "1.2.0",
          "state": {
            "_model_module": "@jupyter-widgets/base",
            "_model_module_version": "1.2.0",
            "_model_name": "LayoutModel",
            "_view_count": null,
            "_view_module": "@jupyter-widgets/base",
            "_view_module_version": "1.2.0",
            "_view_name": "LayoutView",
            "align_content": null,
            "align_items": null,
            "align_self": null,
            "border": null,
            "bottom": null,
            "display": null,
            "flex": null,
            "flex_flow": null,
            "grid_area": null,
            "grid_auto_columns": null,
            "grid_auto_flow": null,
            "grid_auto_rows": null,
            "grid_column": null,
            "grid_gap": null,
            "grid_row": null,
            "grid_template_areas": null,
            "grid_template_columns": null,
            "grid_template_rows": null,
            "height": null,
            "justify_content": null,
            "justify_items": null,
            "left": null,
            "margin": null,
            "max_height": null,
            "max_width": null,
            "min_height": null,
            "min_width": null,
            "object_fit": null,
            "object_position": null,
            "order": null,
            "overflow": null,
            "overflow_x": null,
            "overflow_y": null,
            "padding": null,
            "right": null,
            "top": null,
            "visibility": null,
            "width": null
          }
        },
        "fb677c8c121a443296d9f8a888738ae2": {
          "model_module": "@jupyter-widgets/base",
          "model_name": "LayoutModel",
          "model_module_version": "1.2.0",
          "state": {
            "_model_module": "@jupyter-widgets/base",
            "_model_module_version": "1.2.0",
            "_model_name": "LayoutModel",
            "_view_count": null,
            "_view_module": "@jupyter-widgets/base",
            "_view_module_version": "1.2.0",
            "_view_name": "LayoutView",
            "align_content": null,
            "align_items": null,
            "align_self": null,
            "border": null,
            "bottom": null,
            "display": null,
            "flex": null,
            "flex_flow": null,
            "grid_area": null,
            "grid_auto_columns": null,
            "grid_auto_flow": null,
            "grid_auto_rows": null,
            "grid_column": null,
            "grid_gap": null,
            "grid_row": null,
            "grid_template_areas": null,
            "grid_template_columns": null,
            "grid_template_rows": null,
            "height": null,
            "justify_content": null,
            "justify_items": null,
            "left": null,
            "margin": null,
            "max_height": null,
            "max_width": null,
            "min_height": null,
            "min_width": null,
            "object_fit": null,
            "object_position": null,
            "order": null,
            "overflow": null,
            "overflow_x": null,
            "overflow_y": null,
            "padding": null,
            "right": null,
            "top": null,
            "visibility": null,
            "width": null
          }
        },
        "dbff156a50594e92b8ede0fe16559d41": {
          "model_module": "@jupyter-widgets/controls",
          "model_name": "DescriptionStyleModel",
          "model_module_version": "1.5.0",
          "state": {
            "_model_module": "@jupyter-widgets/controls",
            "_model_module_version": "1.5.0",
            "_model_name": "DescriptionStyleModel",
            "_view_count": null,
            "_view_module": "@jupyter-widgets/base",
            "_view_module_version": "1.2.0",
            "_view_name": "StyleView",
            "description_width": ""
          }
        },
        "bc541477c080479cbc170a07aacb46a0": {
          "model_module": "@jupyter-widgets/base",
          "model_name": "LayoutModel",
          "model_module_version": "1.2.0",
          "state": {
            "_model_module": "@jupyter-widgets/base",
            "_model_module_version": "1.2.0",
            "_model_name": "LayoutModel",
            "_view_count": null,
            "_view_module": "@jupyter-widgets/base",
            "_view_module_version": "1.2.0",
            "_view_name": "LayoutView",
            "align_content": null,
            "align_items": null,
            "align_self": null,
            "border": null,
            "bottom": null,
            "display": null,
            "flex": null,
            "flex_flow": null,
            "grid_area": null,
            "grid_auto_columns": null,
            "grid_auto_flow": null,
            "grid_auto_rows": null,
            "grid_column": null,
            "grid_gap": null,
            "grid_row": null,
            "grid_template_areas": null,
            "grid_template_columns": null,
            "grid_template_rows": null,
            "height": null,
            "justify_content": null,
            "justify_items": null,
            "left": null,
            "margin": null,
            "max_height": null,
            "max_width": null,
            "min_height": null,
            "min_width": null,
            "object_fit": null,
            "object_position": null,
            "order": null,
            "overflow": null,
            "overflow_x": null,
            "overflow_y": null,
            "padding": null,
            "right": null,
            "top": null,
            "visibility": null,
            "width": null
          }
        },
        "6887d4c1cf5a40a48e16f9cf3c78607c": {
          "model_module": "@jupyter-widgets/controls",
          "model_name": "ProgressStyleModel",
          "model_module_version": "1.5.0",
          "state": {
            "_model_module": "@jupyter-widgets/controls",
            "_model_module_version": "1.5.0",
            "_model_name": "ProgressStyleModel",
            "_view_count": null,
            "_view_module": "@jupyter-widgets/base",
            "_view_module_version": "1.2.0",
            "_view_name": "StyleView",
            "bar_color": null,
            "description_width": ""
          }
        },
        "acec430109994f49868e17f64cdb758d": {
          "model_module": "@jupyter-widgets/base",
          "model_name": "LayoutModel",
          "model_module_version": "1.2.0",
          "state": {
            "_model_module": "@jupyter-widgets/base",
            "_model_module_version": "1.2.0",
            "_model_name": "LayoutModel",
            "_view_count": null,
            "_view_module": "@jupyter-widgets/base",
            "_view_module_version": "1.2.0",
            "_view_name": "LayoutView",
            "align_content": null,
            "align_items": null,
            "align_self": null,
            "border": null,
            "bottom": null,
            "display": null,
            "flex": null,
            "flex_flow": null,
            "grid_area": null,
            "grid_auto_columns": null,
            "grid_auto_flow": null,
            "grid_auto_rows": null,
            "grid_column": null,
            "grid_gap": null,
            "grid_row": null,
            "grid_template_areas": null,
            "grid_template_columns": null,
            "grid_template_rows": null,
            "height": null,
            "justify_content": null,
            "justify_items": null,
            "left": null,
            "margin": null,
            "max_height": null,
            "max_width": null,
            "min_height": null,
            "min_width": null,
            "object_fit": null,
            "object_position": null,
            "order": null,
            "overflow": null,
            "overflow_x": null,
            "overflow_y": null,
            "padding": null,
            "right": null,
            "top": null,
            "visibility": null,
            "width": null
          }
        },
        "02699c7f383842c98622baf6211379c8": {
          "model_module": "@jupyter-widgets/controls",
          "model_name": "DescriptionStyleModel",
          "model_module_version": "1.5.0",
          "state": {
            "_model_module": "@jupyter-widgets/controls",
            "_model_module_version": "1.5.0",
            "_model_name": "DescriptionStyleModel",
            "_view_count": null,
            "_view_module": "@jupyter-widgets/base",
            "_view_module_version": "1.2.0",
            "_view_name": "StyleView",
            "description_width": ""
          }
        }
      }
    }
  },
  "nbformat": 4,
  "nbformat_minor": 0
}