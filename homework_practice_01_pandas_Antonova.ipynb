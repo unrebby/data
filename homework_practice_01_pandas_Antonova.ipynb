{
  "cells": [
    {
      "cell_type": "markdown",
      "metadata": {
        "id": "view-in-github",
        "colab_type": "text"
      },
      "source": [
        "<a href=\"https://colab.research.google.com/github/unrebby/data/blob/main/homework_practice_01_pandas_Antonova.ipynb\" target=\"_parent\"><img src=\"https://colab.research.google.com/assets/colab-badge.svg\" alt=\"Open In Colab\"/></a>"
      ]
    },
    {
      "cell_type": "markdown",
      "metadata": {
        "id": "HcF9My_FhLuk"
      },
      "source": [
        "## Машинное обучение 1, ПМИ ФКН ВШЭ\n",
        "\n",
        "## Практическое домашнее задание 1\n",
        "\n",
        "### Общая информация\n",
        "\n",
        "Дата выдачи: 09.09.2022\n",
        "\n",
        "Мягкий дедлайн: 23:59MSK 22.09.2022\n",
        "\n",
        "Жесткий дедлайн: 23:59MSK 29.09.2022"
      ]
    },
    {
      "cell_type": "markdown",
      "metadata": {
        "id": "G64TptyJhLuo"
      },
      "source": [
        "### О задании\n",
        "\n",
        "Задание состоит из двух разделов, посвященных работе с табличными данными с помощью библиотеки pandas и визуализации с помощью matplotlib. В первом разделе вам предстоит выполнить базовые задания с помощью вышеуказанных библиотек, а во втором распределить студентов по курсам. Баллы даются за выполнение отдельных пунктов. Задачи в рамках одного раздела рекомендуется решать в том порядке, в котором они даны в задании.\n",
        "\n",
        "Задание направлено на освоение jupyter notebook (будет использоваться в дальнейших заданиях), библиотек pandas и matplotlib.\n",
        "\n",
        "### Оценивание и штрафы\n",
        "Каждая из задач имеет определенную «стоимость» (указана в скобках около задачи). Максимально допустимая оценка за работу — 10 баллов.\n",
        "\n",
        "Сдавать задание после жёсткого дедлайна нельзя. При выставлении неполного балла за задание в связи с наличием ошибок на усмотрение проверяющего предусмотрена возможность исправить работу на указанных в ответном письме условиях.\n",
        "\n",
        "Задание выполняется самостоятельно. «Похожие» решения считаются плагиатом и все задействованные студенты (в том числе те, у кого списали) не могут получить за него больше 0 баллов (подробнее о плагиате см. на странице курса). Если вы нашли решение какого-то из заданий (или его часть) в открытом источнике, необходимо указать ссылку на этот источник (скорее всего вы будете не единственным, кто это нашел, поэтому чтобы исключить подозрение в плагиате, необходима ссылка на источник).\n",
        "\n",
        "### Формат сдачи\n",
        "Задания сдаются через систему Anytask. Инвайт можно получить у семинариста или ассистента. Присылать необходимо ноутбук с выполненным заданием. Сам ноутбук называйте в формате homework-practice-01-pandas-Username.ipynb, где Username — ваша фамилия.\n",
        "\n",
        "Для удобства проверки самостоятельно посчитайте свою максимальную оценку (исходя из набора решенных задач) и укажите ниже.\n",
        "\n",
        "Оценка: 12."
      ]
    },
    {
      "cell_type": "markdown",
      "metadata": {
        "id": "BaXlfHE_hLup"
      },
      "source": [
        "## 0. Введение"
      ]
    },
    {
      "cell_type": "markdown",
      "metadata": {
        "id": "wirAvJNxhLup"
      },
      "source": [
        "Сейчас мы находимся в jupyter-ноутбуке (или ipython-ноутбуке). Это удобная среда для написания кода, проведения экспериментов, изучения данных, построения визуализаций и других нужд, не связанных с написанием production-кода. \n",
        "\n",
        "Ноутбук состоит из ячеек, каждая из которых может быть либо ячейкой с кодом, либо ячейкой с текстом размеченным и неразмеченным. Текст поддерживает markdown-разметку и формулы в Latex.\n",
        "\n",
        "Для работы с содержимым ячейки используется *режим редактирования* (*Edit mode*, включается нажатием клавиши **Enter** после выбора ячейки), а для навигации между ячейками искользуется *командный режим* (*Command mode*, включается нажатием клавиши **Esc**). Тип ячейки можно задать в командном режиме либо с помощью горячих клавиш (**y** to code, **m** to markdown, **r** to edit raw text), либо в меню *Cell -> Cell type*. \n",
        "\n",
        "После заполнения ячейки нужно нажать *Shift + Enter*, эта команда обработает содержимое ячейки: проинтерпретирует код или сверстает размеченный текст."
      ]
    },
    {
      "cell_type": "code",
      "execution_count": null,
      "metadata": {
        "id": "aQ2_j3nkhLuq",
        "colab": {
          "base_uri": "https://localhost:8080/"
        },
        "outputId": "6084e422-7913-4b11-91ea-eb70891de68f"
      },
      "outputs": [
        {
          "output_type": "execute_result",
          "data": {
            "text/plain": [
              "4"
            ]
          },
          "metadata": {},
          "execution_count": 1762
        }
      ],
      "source": [
        "# ячейка с кодом, при выполнении которой появится output\n",
        "2 + 2"
      ]
    },
    {
      "cell_type": "markdown",
      "metadata": {
        "id": "ZlulCwVKhLur"
      },
      "source": [
        "Ячейка с неразмеченыным текстом."
      ]
    },
    {
      "cell_type": "markdown",
      "metadata": {
        "id": "A4wkVlIehLur"
      },
      "source": [
        "Попробуйте создать свои ячейки, написать какой-нибудь код и текст какой-нибудь формулой."
      ]
    },
    {
      "cell_type": "code",
      "execution_count": null,
      "metadata": {
        "id": "BIuaYSvqhLus"
      },
      "outputs": [],
      "source": [
        "# your code"
      ]
    },
    {
      "cell_type": "markdown",
      "metadata": {
        "id": "iWs6ljrIhLus"
      },
      "source": [
        "[Здесь](https://athena.brynmawr.edu/jupyter/hub/dblank/public/Jupyter%20Notebook%20Users%20Manual.ipynb) находится <s>не</s>большая заметка о используемом языке разметки Markdown. Он позволяет:\n",
        "\n",
        "0. Составлять упорядоченные списки\n",
        "1. Выделять *текст* <s>при</s> **необходимости**\n",
        "2. Добавлять [ссылки](http://imgs.xkcd.com/comics/the_universal_label.png)\n",
        "\n",
        "\n",
        "* Составлять неупорядоченные списки\n",
        "\n",
        "Делать вставки с помощью LaTex:\n",
        "    \n",
        "$\n",
        "\\left\\{\n",
        "\\begin{array}{ll}\n",
        "x = 16 \\sin^3 (t) \\\\ \n",
        "y = 13 \\cos (t) - 5 \\cos (2t) - 2 \\cos (3t) - \\cos (4t) \\\\\n",
        "t \\in [0, 2 \\pi]\n",
        "\\end{array}\n",
        "\\right.$"
      ]
    },
    {
      "cell_type": "markdown",
      "metadata": {
        "id": "6fmTGcXOhLus"
      },
      "source": [
        "А ещё можно вставлять картинки, или гифки, или что захотите:\n",
        "\n",
        "<img src=\"https://media1.tenor.com/images/9b8fbe9214504bcf6c60fe4e4f7e114e/tenor.gif?itemid=5416416\" style=\"width: 400px\">"
      ]
    },
    {
      "cell_type": "markdown",
      "metadata": {
        "id": "J_toGw7DhLut"
      },
      "source": [
        "### Google Colab"
      ]
    },
    {
      "cell_type": "markdown",
      "metadata": {
        "id": "jpkbCVjGhLut"
      },
      "source": [
        "Что за колаб? \n",
        "\n",
        "**Google Colab (Colaboratory)** это **Jupyter Notebook + Cloud + Google Drive.**\n",
        "\n",
        "Компания Google предоставляет возможность бесплатно запускать ноутбуки (предварительно загрузив их на свой гугл-диск) прямо в облаке. При этом вам не требуется установка никаких пакетов на свою машину, а работать можно прямиком из браузера. Вот ссылка:"
      ]
    },
    {
      "cell_type": "markdown",
      "metadata": {
        "id": "06MQog3yhLut"
      },
      "source": [
        "https://colab.research.google.com"
      ]
    },
    {
      "cell_type": "markdown",
      "metadata": {
        "id": "5_hfWXKPhLut"
      },
      "source": [
        "При использовании вы увидете много сходств с jupyter ноутбуком. Одним из преимуществ является доступность GPU, соответствующую опцию можно активировать в настройках сервиса. При желании вы сможете найти в интернете много туториалов по использованию или разобраться самостоятельно =)"
      ]
    },
    {
      "cell_type": "markdown",
      "metadata": {
        "id": "sUe2vnFGhLuu"
      },
      "source": [
        "### 1. Табличные данные и Pandas"
      ]
    },
    {
      "cell_type": "markdown",
      "metadata": {
        "id": "DJQzjjqJhLuu"
      },
      "source": [
        "Pandas — удобная библиотека для работы с табличными данными в Python, если данных не слишком много и они помещаются в оперативную память вашего компьютера. Несмотря на неэффективность реализации и некоторые проблемы, библиотека стала стандартом в анализе данных.\n",
        "\n",
        "Основной объект в pandas — это DataFrame, представляющий собой таблицу с именованными колонками различных типов, индексом (может быть многоуровневым). DataFrame можно создавать, считывая таблицу из файла или задавая вручную из других объектов.\n",
        "\n",
        "В этой части потребуется выполнить несколько небольших заданий. Можно пойти двумя путями: сначала изучить материалы, а потом приступить к заданиям, или же разбираться \"по ходу\". Выбирайте сами.\n",
        "\n",
        "Материалы:\n",
        "1. [Pandas за 10 минут из официального руководства](http://pandas.pydata.org/pandas-docs/stable/10min.html)\n",
        "2. [Документация](http://pandas.pydata.org/pandas-docs/stable/index.html) (стоит обращаться, если не понятно, как вызывать конкретный метод)\n",
        "3. [Примеры использования функционала](http://nbviewer.jupyter.org/github/justmarkham/pandas-videos/blob/master/pandas.ipynb)\n",
        "\n",
        "Многие из заданий можно выполнить несколькими способами. Не существуют единственно верного, но попробуйте максимально задействовать арсенал pandas и ориентируйтесь на простоту и понятность вашего кода. Мы не будем подсказывать, что нужно использовать для решения конкретной задачи, попробуйте находить необходимый функционал сами (название метода чаще всего очевидно). В помощь вам документация, поиск и stackoverflow."
      ]
    },
    {
      "cell_type": "code",
      "execution_count": null,
      "metadata": {
        "id": "26zbFY25hLuv",
        "outputId": "6a0a2389-1b5c-4dd3-b082-41fa1ddb2408",
        "colab": {
          "base_uri": "https://localhost:8080/"
        }
      },
      "outputs": [
        {
          "output_type": "stream",
          "name": "stdout",
          "text": [
            "Populating the interactive namespace from numpy and matplotlib\n"
          ]
        },
        {
          "output_type": "stream",
          "name": "stderr",
          "text": [
            "/usr/local/lib/python3.7/dist-packages/IPython/core/magics/pylab.py:160: UserWarning: pylab import has clobbered these variables: ['size']\n",
            "`%matplotlib` prevents importing * from pylab and numpy\n",
            "  \"\\n`%matplotlib` prevents importing * from pylab and numpy\"\n"
          ]
        }
      ],
      "source": [
        "%pylab inline\n",
        "import pandas as pd"
      ]
    },
    {
      "cell_type": "markdown",
      "metadata": {
        "id": "PFY7sHWwFi1A"
      },
      "source": [
        "<span style=\"color:red\">Перед выполнением задания необходимо ознакомиться с первым семинаром (seminars/sem01-pandas.ipynb) </span>.\n",
        "\n",
        "Это поможет вам получить общее понимание происходяшего и успешнее справиться с заданием.\n",
        "\n",
        "Также успешному выполнению способствует внимательное чтение текста задания от начала до конца.\n",
        "\n",
        "Удачи!"
      ]
    },
    {
      "cell_type": "markdown",
      "metadata": {
        "id": "dneJl9TyhLuv"
      },
      "source": [
        "Скачаем подготовленные на семинаре данные:"
      ]
    },
    {
      "cell_type": "code",
      "execution_count": null,
      "metadata": {
        "id": "rj_I0RslhLuw"
      },
      "outputs": [],
      "source": [
        "!wget  -O 'end_seminar.xlsx' -q 'https://www.dropbox.com/s/f4rm8sjc3v99p0m/_end_seminar.xlsx?dl=0'"
      ]
    },
    {
      "cell_type": "markdown",
      "metadata": {
        "id": "5hp7bn_ThLuw"
      },
      "source": [
        "Для пользователей Windows: скачайте файл самостоятельно и поместите его в папку с тетрадкой. Или попробуйте один из следующих вариантов:"
      ]
    },
    {
      "cell_type": "code",
      "execution_count": null,
      "metadata": {
        "id": "4h4_BaX8hLuw"
      },
      "outputs": [],
      "source": [
        "# !powershell iwr -outf somefile https://somesite/somefile"
      ]
    },
    {
      "cell_type": "code",
      "execution_count": null,
      "metadata": {
        "id": "7bHroLGChLuw"
      },
      "outputs": [],
      "source": [
        "# !pip install wget\n",
        "# import wget \n",
        "# wget.download('https://dropbox.com/s/f4rm8sjc3v99p0m/_end_seminar.xlsx?dl=1', 'end_seminar.xlsx')"
      ]
    },
    {
      "cell_type": "markdown",
      "metadata": {
        "id": "VFs_6IythLux"
      },
      "source": [
        "##### В первой части задания (до раздела \"Распределение студентов по курсам\") использование циклов запрещается и повлечет за собой снижение оценки. Использование <code>vectorize</code> и  <code>apply</code>, <code>apply_along_axis</code> крайне нежелательно."
      ]
    },
    {
      "cell_type": "markdown",
      "metadata": {
        "id": "shFkfJkohLux"
      },
      "source": [
        "Для каждой задачи из этого раздела вы должны написать код для получения ответа, а также дать текстовый ответ, если он предполагается.\n",
        "\n",
        "На некоторые вопросы вы можете получить путём пристального взгляда на таблицу, но это не будет засчитываться. Вы в любом случае должны получить ответ с помощью кода."
      ]
    },
    {
      "cell_type": "markdown",
      "metadata": {
        "id": "gDD85M7bhLux"
      },
      "source": [
        "#### 1. [0 баллов] Откройте файл с таблицей (не забудьте про её формат). Выведите последние 10 строк.\n",
        "\n",
        "Посмотрите на данные и скажите, что они из себя представляют, сколько в таблице строк, какие столбцы? (на это не надо отвечать, просто подумайте об этом)"
      ]
    },
    {
      "cell_type": "code",
      "execution_count": null,
      "metadata": {
        "id": "PKulur3LhLuy"
      },
      "outputs": [],
      "source": [
        "# your code\n",
        "\n",
        "df = pd.read_excel(\"end_seminar.xlsx\")"
      ]
    },
    {
      "cell_type": "code",
      "source": [
        "df.tail(10)"
      ],
      "metadata": {
        "colab": {
          "base_uri": "https://localhost:8080/"
        },
        "id": "APaHh4E1UNUq",
        "outputId": "922e4609-183b-470d-c47b-a246822e10e5"
      },
      "execution_count": null,
      "outputs": [
        {
          "output_type": "execute_result",
          "data": {
            "text/plain": [
              "                  timestamp                                id  rating  \\\n",
              "351 2020-05-18 23:58:33.903  8fe79f84f36e3a5d2d6745621321302c    1016   \n",
              "352 2020-05-18 23:59:20.831  f93afd8e92c336b471aa3bbbc579aefe    1298   \n",
              "353 2020-05-18 23:59:28.998  9963fc00d9405a35b894cc04a7e19855    1135   \n",
              "354 2020-05-19 08:55:39.509  98c5a2548d93f26bd4195466e93178b3    1035   \n",
              "355 2020-05-19 18:58:06.283  ba298cbd9be59b84bab33325e956f27e    1155   \n",
              "356 2020-05-19 19:04:17.873  c5870b37ee3f672e4259dfb2fc02ed8f    1029   \n",
              "357 2020-05-19 20:19:25.815  f44aea1095f9f5b8e2f5f0ed2b17891b    1060   \n",
              "358 2020-05-20 11:54:38.318  d7118b44c7e8fdbbaaca226d2da6fef1    1111   \n",
              "359 2020-05-23 21:16:40.916  79d14db48e4737af731960ae212d5134     966   \n",
              "360 2020-05-23 21:16:40.916  f2d210ace25a841e1e58036b257d5d47    1195   \n",
              "\n",
              "     18_group  is_mi                                           fall_1  \\\n",
              "351       NaN    NaN                 Безопасность компьютерных систем   \n",
              "352       NaN    NaN                Высокопроизводительные вычисления   \n",
              "353       NaN    NaN                 Безопасность компьютерных систем   \n",
              "354       NaN    NaN            Байесовские методы машинного обучения   \n",
              "355       NaN    NaN  Сбор и обработка данных с помощью краудсорсинга   \n",
              "356       NaN    NaN                      Statistical Learning Theory   \n",
              "357       NaN    NaN                Анализ неструктурированных данных   \n",
              "358       NaN    NaN  Сбор и обработка данных с помощью краудсорсинга   \n",
              "359       NaN    NaN                 Безопасность компьютерных систем   \n",
              "360       NaN    NaN                Анализ неструктурированных данных   \n",
              "\n",
              "                                                fall_2  \\\n",
              "351                  Высокопроизводительные вычисления   \n",
              "352    Сбор и обработка данных с помощью краудсорсинга   \n",
              "353                  Высокопроизводительные вычисления   \n",
              "354               Глубинное обучение в обработке звука   \n",
              "355              Байесовские методы машинного обучения   \n",
              "356                  Анализ неструктурированных данных   \n",
              "357                  Высокопроизводительные вычисления   \n",
              "358                        Statistical Learning Theory   \n",
              "359  Принятие решений в условиях риска и неопределё...   \n",
              "360                      Моделирование временных рядов   \n",
              "\n",
              "                                              fall_3  \\\n",
              "351  Сбор и обработка данных с помощью краудсорсинга   \n",
              "352                      Statistical Learning Theory   \n",
              "353                 Безопасность компьютерных систем   \n",
              "354                      Statistical Learning Theory   \n",
              "355                Анализ неструктурированных данных   \n",
              "356  Сбор и обработка данных с помощью краудсорсинга   \n",
              "357                    Моделирование временных рядов   \n",
              "358                Анализ неструктурированных данных   \n",
              "359                Анализ неструктурированных данных   \n",
              "360                Высокопроизводительные вычисления   \n",
              "\n",
              "                                              spring_1  \\\n",
              "351                             Конфликты и кооперация   \n",
              "352               Методы сжатия и передачи медиаданных   \n",
              "353  Проектирование и разработка высоконагруженных ...   \n",
              "354                           Обучение с подкреплением   \n",
              "355                             Конфликты и кооперация   \n",
              "356                           Обучение с подкреплением   \n",
              "357                             Конфликты и кооперация   \n",
              "358  Проектирование и разработка высоконагруженных ...   \n",
              "359  Проектирование и разработка высоконагруженных ...   \n",
              "360                           Обучение с подкреплением   \n",
              "\n",
              "                                              spring_2  \\\n",
              "351  Проектирование и разработка высоконагруженных ...   \n",
              "352  Проектирование и разработка высоконагруженных ...   \n",
              "353               Методы сжатия и передачи медиаданных   \n",
              "354            Генеративные модели в машинном обучении   \n",
              "355                           Обучение с подкреплением   \n",
              "356                             Конфликты и кооперация   \n",
              "357                           Обучение с подкреплением   \n",
              "358               Методы сжатия и передачи медиаданных   \n",
              "359               Методы сжатия и передачи медиаданных   \n",
              "360                                Компьютерное зрение   \n",
              "\n",
              "                                 spring_3 is_first_time  percentile  17_group  \\\n",
              "351                 Символьные вычисления            Да    0.942029     174.0   \n",
              "352                Конфликты и кооперация            Да    0.057971     175.0   \n",
              "353                 Символьные вычисления            Да    0.572464     175.0   \n",
              "354  Методы сжатия и передачи медиаданных           Нет    0.905797     171.0   \n",
              "355                   Компьютерное зрение            Да    0.507246     171.0   \n",
              "356                   Компьютерное зрение            Да    0.920290     174.0   \n",
              "357                      Численные методы            Да    0.840580     174.0   \n",
              "358                      Численные методы            Да    0.652174     173.0   \n",
              "359                   Компьютерное зрение            Да    0.985507     172.0   \n",
              "360  Методы сжатия и передачи медиаданных           NaN    0.369565     176.0   \n",
              "\n",
              "                            blended  is_ml_student  \n",
              "351                          DevOps            NaN  \n",
              "352                          DevOps            NaN  \n",
              "353                          DevOps            NaN  \n",
              "354                          DevOps            NaN  \n",
              "355  Соревновательный анализ данных            NaN  \n",
              "356                          DevOps            NaN  \n",
              "357                          DevOps            NaN  \n",
              "358  Соревновательный анализ данных            NaN  \n",
              "359                          DevOps            NaN  \n",
              "360  Соревновательный анализ данных            NaN  "
            ],
            "text/html": [
              "\n",
              "  <div id=\"df-a8cea3f7-8ad0-4610-878c-49ced26d89a3\">\n",
              "    <div class=\"colab-df-container\">\n",
              "      <div>\n",
              "<style scoped>\n",
              "    .dataframe tbody tr th:only-of-type {\n",
              "        vertical-align: middle;\n",
              "    }\n",
              "\n",
              "    .dataframe tbody tr th {\n",
              "        vertical-align: top;\n",
              "    }\n",
              "\n",
              "    .dataframe thead th {\n",
              "        text-align: right;\n",
              "    }\n",
              "</style>\n",
              "<table border=\"1\" class=\"dataframe\">\n",
              "  <thead>\n",
              "    <tr style=\"text-align: right;\">\n",
              "      <th></th>\n",
              "      <th>timestamp</th>\n",
              "      <th>id</th>\n",
              "      <th>rating</th>\n",
              "      <th>18_group</th>\n",
              "      <th>is_mi</th>\n",
              "      <th>fall_1</th>\n",
              "      <th>fall_2</th>\n",
              "      <th>fall_3</th>\n",
              "      <th>spring_1</th>\n",
              "      <th>spring_2</th>\n",
              "      <th>spring_3</th>\n",
              "      <th>is_first_time</th>\n",
              "      <th>percentile</th>\n",
              "      <th>17_group</th>\n",
              "      <th>blended</th>\n",
              "      <th>is_ml_student</th>\n",
              "    </tr>\n",
              "  </thead>\n",
              "  <tbody>\n",
              "    <tr>\n",
              "      <th>351</th>\n",
              "      <td>2020-05-18 23:58:33.903</td>\n",
              "      <td>8fe79f84f36e3a5d2d6745621321302c</td>\n",
              "      <td>1016</td>\n",
              "      <td>NaN</td>\n",
              "      <td>NaN</td>\n",
              "      <td>Безопасность компьютерных систем</td>\n",
              "      <td>Высокопроизводительные вычисления</td>\n",
              "      <td>Сбор и обработка данных с помощью краудсорсинга</td>\n",
              "      <td>Конфликты и кооперация</td>\n",
              "      <td>Проектирование и разработка высоконагруженных ...</td>\n",
              "      <td>Символьные вычисления</td>\n",
              "      <td>Да</td>\n",
              "      <td>0.942029</td>\n",
              "      <td>174.0</td>\n",
              "      <td>DevOps</td>\n",
              "      <td>NaN</td>\n",
              "    </tr>\n",
              "    <tr>\n",
              "      <th>352</th>\n",
              "      <td>2020-05-18 23:59:20.831</td>\n",
              "      <td>f93afd8e92c336b471aa3bbbc579aefe</td>\n",
              "      <td>1298</td>\n",
              "      <td>NaN</td>\n",
              "      <td>NaN</td>\n",
              "      <td>Высокопроизводительные вычисления</td>\n",
              "      <td>Сбор и обработка данных с помощью краудсорсинга</td>\n",
              "      <td>Statistical Learning Theory</td>\n",
              "      <td>Методы сжатия и передачи медиаданных</td>\n",
              "      <td>Проектирование и разработка высоконагруженных ...</td>\n",
              "      <td>Конфликты и кооперация</td>\n",
              "      <td>Да</td>\n",
              "      <td>0.057971</td>\n",
              "      <td>175.0</td>\n",
              "      <td>DevOps</td>\n",
              "      <td>NaN</td>\n",
              "    </tr>\n",
              "    <tr>\n",
              "      <th>353</th>\n",
              "      <td>2020-05-18 23:59:28.998</td>\n",
              "      <td>9963fc00d9405a35b894cc04a7e19855</td>\n",
              "      <td>1135</td>\n",
              "      <td>NaN</td>\n",
              "      <td>NaN</td>\n",
              "      <td>Безопасность компьютерных систем</td>\n",
              "      <td>Высокопроизводительные вычисления</td>\n",
              "      <td>Безопасность компьютерных систем</td>\n",
              "      <td>Проектирование и разработка высоконагруженных ...</td>\n",
              "      <td>Методы сжатия и передачи медиаданных</td>\n",
              "      <td>Символьные вычисления</td>\n",
              "      <td>Да</td>\n",
              "      <td>0.572464</td>\n",
              "      <td>175.0</td>\n",
              "      <td>DevOps</td>\n",
              "      <td>NaN</td>\n",
              "    </tr>\n",
              "    <tr>\n",
              "      <th>354</th>\n",
              "      <td>2020-05-19 08:55:39.509</td>\n",
              "      <td>98c5a2548d93f26bd4195466e93178b3</td>\n",
              "      <td>1035</td>\n",
              "      <td>NaN</td>\n",
              "      <td>NaN</td>\n",
              "      <td>Байесовские методы машинного обучения</td>\n",
              "      <td>Глубинное обучение в обработке звука</td>\n",
              "      <td>Statistical Learning Theory</td>\n",
              "      <td>Обучение с подкреплением</td>\n",
              "      <td>Генеративные модели в машинном обучении</td>\n",
              "      <td>Методы сжатия и передачи медиаданных</td>\n",
              "      <td>Нет</td>\n",
              "      <td>0.905797</td>\n",
              "      <td>171.0</td>\n",
              "      <td>DevOps</td>\n",
              "      <td>NaN</td>\n",
              "    </tr>\n",
              "    <tr>\n",
              "      <th>355</th>\n",
              "      <td>2020-05-19 18:58:06.283</td>\n",
              "      <td>ba298cbd9be59b84bab33325e956f27e</td>\n",
              "      <td>1155</td>\n",
              "      <td>NaN</td>\n",
              "      <td>NaN</td>\n",
              "      <td>Сбор и обработка данных с помощью краудсорсинга</td>\n",
              "      <td>Байесовские методы машинного обучения</td>\n",
              "      <td>Анализ неструктурированных данных</td>\n",
              "      <td>Конфликты и кооперация</td>\n",
              "      <td>Обучение с подкреплением</td>\n",
              "      <td>Компьютерное зрение</td>\n",
              "      <td>Да</td>\n",
              "      <td>0.507246</td>\n",
              "      <td>171.0</td>\n",
              "      <td>Соревновательный анализ данных</td>\n",
              "      <td>NaN</td>\n",
              "    </tr>\n",
              "    <tr>\n",
              "      <th>356</th>\n",
              "      <td>2020-05-19 19:04:17.873</td>\n",
              "      <td>c5870b37ee3f672e4259dfb2fc02ed8f</td>\n",
              "      <td>1029</td>\n",
              "      <td>NaN</td>\n",
              "      <td>NaN</td>\n",
              "      <td>Statistical Learning Theory</td>\n",
              "      <td>Анализ неструктурированных данных</td>\n",
              "      <td>Сбор и обработка данных с помощью краудсорсинга</td>\n",
              "      <td>Обучение с подкреплением</td>\n",
              "      <td>Конфликты и кооперация</td>\n",
              "      <td>Компьютерное зрение</td>\n",
              "      <td>Да</td>\n",
              "      <td>0.920290</td>\n",
              "      <td>174.0</td>\n",
              "      <td>DevOps</td>\n",
              "      <td>NaN</td>\n",
              "    </tr>\n",
              "    <tr>\n",
              "      <th>357</th>\n",
              "      <td>2020-05-19 20:19:25.815</td>\n",
              "      <td>f44aea1095f9f5b8e2f5f0ed2b17891b</td>\n",
              "      <td>1060</td>\n",
              "      <td>NaN</td>\n",
              "      <td>NaN</td>\n",
              "      <td>Анализ неструктурированных данных</td>\n",
              "      <td>Высокопроизводительные вычисления</td>\n",
              "      <td>Моделирование временных рядов</td>\n",
              "      <td>Конфликты и кооперация</td>\n",
              "      <td>Обучение с подкреплением</td>\n",
              "      <td>Численные методы</td>\n",
              "      <td>Да</td>\n",
              "      <td>0.840580</td>\n",
              "      <td>174.0</td>\n",
              "      <td>DevOps</td>\n",
              "      <td>NaN</td>\n",
              "    </tr>\n",
              "    <tr>\n",
              "      <th>358</th>\n",
              "      <td>2020-05-20 11:54:38.318</td>\n",
              "      <td>d7118b44c7e8fdbbaaca226d2da6fef1</td>\n",
              "      <td>1111</td>\n",
              "      <td>NaN</td>\n",
              "      <td>NaN</td>\n",
              "      <td>Сбор и обработка данных с помощью краудсорсинга</td>\n",
              "      <td>Statistical Learning Theory</td>\n",
              "      <td>Анализ неструктурированных данных</td>\n",
              "      <td>Проектирование и разработка высоконагруженных ...</td>\n",
              "      <td>Методы сжатия и передачи медиаданных</td>\n",
              "      <td>Численные методы</td>\n",
              "      <td>Да</td>\n",
              "      <td>0.652174</td>\n",
              "      <td>173.0</td>\n",
              "      <td>Соревновательный анализ данных</td>\n",
              "      <td>NaN</td>\n",
              "    </tr>\n",
              "    <tr>\n",
              "      <th>359</th>\n",
              "      <td>2020-05-23 21:16:40.916</td>\n",
              "      <td>79d14db48e4737af731960ae212d5134</td>\n",
              "      <td>966</td>\n",
              "      <td>NaN</td>\n",
              "      <td>NaN</td>\n",
              "      <td>Безопасность компьютерных систем</td>\n",
              "      <td>Принятие решений в условиях риска и неопределё...</td>\n",
              "      <td>Анализ неструктурированных данных</td>\n",
              "      <td>Проектирование и разработка высоконагруженных ...</td>\n",
              "      <td>Методы сжатия и передачи медиаданных</td>\n",
              "      <td>Компьютерное зрение</td>\n",
              "      <td>Да</td>\n",
              "      <td>0.985507</td>\n",
              "      <td>172.0</td>\n",
              "      <td>DevOps</td>\n",
              "      <td>NaN</td>\n",
              "    </tr>\n",
              "    <tr>\n",
              "      <th>360</th>\n",
              "      <td>2020-05-23 21:16:40.916</td>\n",
              "      <td>f2d210ace25a841e1e58036b257d5d47</td>\n",
              "      <td>1195</td>\n",
              "      <td>NaN</td>\n",
              "      <td>NaN</td>\n",
              "      <td>Анализ неструктурированных данных</td>\n",
              "      <td>Моделирование временных рядов</td>\n",
              "      <td>Высокопроизводительные вычисления</td>\n",
              "      <td>Обучение с подкреплением</td>\n",
              "      <td>Компьютерное зрение</td>\n",
              "      <td>Методы сжатия и передачи медиаданных</td>\n",
              "      <td>NaN</td>\n",
              "      <td>0.369565</td>\n",
              "      <td>176.0</td>\n",
              "      <td>Соревновательный анализ данных</td>\n",
              "      <td>NaN</td>\n",
              "    </tr>\n",
              "  </tbody>\n",
              "</table>\n",
              "</div>\n",
              "      <button class=\"colab-df-convert\" onclick=\"convertToInteractive('df-a8cea3f7-8ad0-4610-878c-49ced26d89a3')\"\n",
              "              title=\"Convert this dataframe to an interactive table.\"\n",
              "              style=\"display:none;\">\n",
              "        \n",
              "  <svg xmlns=\"http://www.w3.org/2000/svg\" height=\"24px\"viewBox=\"0 0 24 24\"\n",
              "       width=\"24px\">\n",
              "    <path d=\"M0 0h24v24H0V0z\" fill=\"none\"/>\n",
              "    <path d=\"M18.56 5.44l.94 2.06.94-2.06 2.06-.94-2.06-.94-.94-2.06-.94 2.06-2.06.94zm-11 1L8.5 8.5l.94-2.06 2.06-.94-2.06-.94L8.5 2.5l-.94 2.06-2.06.94zm10 10l.94 2.06.94-2.06 2.06-.94-2.06-.94-.94-2.06-.94 2.06-2.06.94z\"/><path d=\"M17.41 7.96l-1.37-1.37c-.4-.4-.92-.59-1.43-.59-.52 0-1.04.2-1.43.59L10.3 9.45l-7.72 7.72c-.78.78-.78 2.05 0 2.83L4 21.41c.39.39.9.59 1.41.59.51 0 1.02-.2 1.41-.59l7.78-7.78 2.81-2.81c.8-.78.8-2.07 0-2.86zM5.41 20L4 18.59l7.72-7.72 1.47 1.35L5.41 20z\"/>\n",
              "  </svg>\n",
              "      </button>\n",
              "      \n",
              "  <style>\n",
              "    .colab-df-container {\n",
              "      display:flex;\n",
              "      flex-wrap:wrap;\n",
              "      gap: 12px;\n",
              "    }\n",
              "\n",
              "    .colab-df-convert {\n",
              "      background-color: #E8F0FE;\n",
              "      border: none;\n",
              "      border-radius: 50%;\n",
              "      cursor: pointer;\n",
              "      display: none;\n",
              "      fill: #1967D2;\n",
              "      height: 32px;\n",
              "      padding: 0 0 0 0;\n",
              "      width: 32px;\n",
              "    }\n",
              "\n",
              "    .colab-df-convert:hover {\n",
              "      background-color: #E2EBFA;\n",
              "      box-shadow: 0px 1px 2px rgba(60, 64, 67, 0.3), 0px 1px 3px 1px rgba(60, 64, 67, 0.15);\n",
              "      fill: #174EA6;\n",
              "    }\n",
              "\n",
              "    [theme=dark] .colab-df-convert {\n",
              "      background-color: #3B4455;\n",
              "      fill: #D2E3FC;\n",
              "    }\n",
              "\n",
              "    [theme=dark] .colab-df-convert:hover {\n",
              "      background-color: #434B5C;\n",
              "      box-shadow: 0px 1px 3px 1px rgba(0, 0, 0, 0.15);\n",
              "      filter: drop-shadow(0px 1px 2px rgba(0, 0, 0, 0.3));\n",
              "      fill: #FFFFFF;\n",
              "    }\n",
              "  </style>\n",
              "\n",
              "      <script>\n",
              "        const buttonEl =\n",
              "          document.querySelector('#df-a8cea3f7-8ad0-4610-878c-49ced26d89a3 button.colab-df-convert');\n",
              "        buttonEl.style.display =\n",
              "          google.colab.kernel.accessAllowed ? 'block' : 'none';\n",
              "\n",
              "        async function convertToInteractive(key) {\n",
              "          const element = document.querySelector('#df-a8cea3f7-8ad0-4610-878c-49ced26d89a3');\n",
              "          const dataTable =\n",
              "            await google.colab.kernel.invokeFunction('convertToInteractive',\n",
              "                                                     [key], {});\n",
              "          if (!dataTable) return;\n",
              "\n",
              "          const docLinkHtml = 'Like what you see? Visit the ' +\n",
              "            '<a target=\"_blank\" href=https://colab.research.google.com/notebooks/data_table.ipynb>data table notebook</a>'\n",
              "            + ' to learn more about interactive tables.';\n",
              "          element.innerHTML = '';\n",
              "          dataTable['output_type'] = 'display_data';\n",
              "          await google.colab.output.renderOutput(dataTable, element);\n",
              "          const docLink = document.createElement('div');\n",
              "          docLink.innerHTML = docLinkHtml;\n",
              "          element.appendChild(docLink);\n",
              "        }\n",
              "      </script>\n",
              "    </div>\n",
              "  </div>\n",
              "  "
            ]
          },
          "metadata": {},
          "execution_count": 1769
        }
      ]
    },
    {
      "cell_type": "markdown",
      "metadata": {
        "id": "jPiMwyqHhLuy"
      },
      "source": [
        "#### 2. [0.5 балла] Есть ли в данных пропуски? В каких колонках? Сколько их в каждой из этих колонок?"
      ]
    },
    {
      "cell_type": "code",
      "execution_count": null,
      "metadata": {
        "id": "edY1RrSOhLuy",
        "colab": {
          "base_uri": "https://localhost:8080/"
        },
        "outputId": "11461bee-c5c3-42b9-dfd0-c14032e27bd9"
      },
      "outputs": [
        {
          "output_type": "stream",
          "name": "stdout",
          "text": [
            "<class 'pandas.core.frame.DataFrame'>\n",
            "RangeIndex: 361 entries, 0 to 360\n",
            "Data columns (total 16 columns):\n",
            " #   Column         Non-Null Count  Dtype         \n",
            "---  ------         --------------  -----         \n",
            " 0   timestamp      361 non-null    datetime64[ns]\n",
            " 1   id             361 non-null    object        \n",
            " 2   rating         361 non-null    int64         \n",
            " 3   18_group       223 non-null    float64       \n",
            " 4   is_mi          18 non-null     float64       \n",
            " 5   fall_1         361 non-null    object        \n",
            " 6   fall_2         361 non-null    object        \n",
            " 7   fall_3         361 non-null    object        \n",
            " 8   spring_1       361 non-null    object        \n",
            " 9   spring_2       361 non-null    object        \n",
            " 10  spring_3       361 non-null    object        \n",
            " 11  is_first_time  359 non-null    object        \n",
            " 12  percentile     361 non-null    float64       \n",
            " 13  17_group       138 non-null    float64       \n",
            " 14  blended        138 non-null    object        \n",
            " 15  is_ml_student  57 non-null     float64       \n",
            "dtypes: datetime64[ns](1), float64(5), int64(1), object(9)\n",
            "memory usage: 45.2+ KB\n"
          ]
        }
      ],
      "source": [
        "# your code\n",
        "df.info()"
      ]
    },
    {
      "cell_type": "code",
      "source": [
        "df.isna().sum()"
      ],
      "metadata": {
        "colab": {
          "base_uri": "https://localhost:8080/"
        },
        "id": "dNOBUFbL4pjH",
        "outputId": "1309cc42-7417-4790-b243-21439aba148b"
      },
      "execution_count": null,
      "outputs": [
        {
          "output_type": "execute_result",
          "data": {
            "text/plain": [
              "timestamp          0\n",
              "id                 0\n",
              "rating             0\n",
              "18_group         138\n",
              "is_mi            343\n",
              "fall_1             0\n",
              "fall_2             0\n",
              "fall_3             0\n",
              "spring_1           0\n",
              "spring_2           0\n",
              "spring_3           0\n",
              "is_first_time      2\n",
              "percentile         0\n",
              "17_group         223\n",
              "blended          223\n",
              "is_ml_student    304\n",
              "dtype: int64"
            ]
          },
          "metadata": {},
          "execution_count": 1771
        }
      ]
    },
    {
      "cell_type": "markdown",
      "metadata": {
        "id": "B5ORhP2uhLuz"
      },
      "source": [
        "Заполните пропуски пустой строкой для строковых колонок и нулём для числовых (постарайтесь избежать перечисления названий всех столбцов)."
      ]
    },
    {
      "cell_type": "code",
      "execution_count": null,
      "metadata": {
        "id": "TlF_JJ2ghLuz"
      },
      "outputs": [],
      "source": [
        "# your code\n",
        "df.fillna(value=dict.fromkeys(df.select_dtypes(include='object').columns.tolist(), ' '), inplace=True)"
      ]
    },
    {
      "cell_type": "code",
      "source": [
        "df.fillna(value=dict.fromkeys(df.select_dtypes(include=['int64', 'float64']).columns.tolist(), 0), inplace=True)"
      ],
      "metadata": {
        "id": "y0L2KFuAMoq0"
      },
      "execution_count": null,
      "outputs": []
    },
    {
      "cell_type": "code",
      "source": [
        "df.isna().sum()"
      ],
      "metadata": {
        "colab": {
          "base_uri": "https://localhost:8080/"
        },
        "id": "fiPm-vC9NME6",
        "outputId": "ec4625e3-fb28-40e1-9bc9-f7eb8052cfc3"
      },
      "execution_count": null,
      "outputs": [
        {
          "output_type": "execute_result",
          "data": {
            "text/plain": [
              "timestamp        0\n",
              "id               0\n",
              "rating           0\n",
              "18_group         0\n",
              "is_mi            0\n",
              "fall_1           0\n",
              "fall_2           0\n",
              "fall_3           0\n",
              "spring_1         0\n",
              "spring_2         0\n",
              "spring_3         0\n",
              "is_first_time    0\n",
              "percentile       0\n",
              "17_group         0\n",
              "blended          0\n",
              "is_ml_student    0\n",
              "dtype: int64"
            ]
          },
          "metadata": {},
          "execution_count": 1774
        }
      ]
    },
    {
      "cell_type": "markdown",
      "metadata": {
        "id": "w5ELhkT1hLuz"
      },
      "source": [
        "#### 3. [0.5 балла] Посмотрите повнимательнее на колонку 'is_first_time'. \n",
        "\n",
        "Есть ли в ней ответы \"Нет\"? Сколько их?\n",
        "\n",
        "Если вы найдете повторные обращения студентов, оставьте только самую позднюю версию. В дальнейших заданиях используйте версию данных без повторов.\n",
        "\n",
        "<i>Обращения со значением \"Нет\" в 'is_first_time' могут быть как повторными, так и первичными, поскольку поле заполняли сами студенты.</i>"
      ]
    },
    {
      "cell_type": "code",
      "execution_count": null,
      "metadata": {
        "id": "VEfiNsyQhLuz",
        "colab": {
          "base_uri": "https://localhost:8080/"
        },
        "outputId": "d2dd36a2-6904-47e8-d6b5-d11a8095eca2"
      },
      "outputs": [
        {
          "output_type": "stream",
          "name": "stdout",
          "text": [
            "Количество ответов 'Нет': 51\n"
          ]
        }
      ],
      "source": [
        "# your code\n",
        "count = df[df['is_first_time'] == \"Нет\"].shape\n",
        "#print(count)\n",
        "print(\"Количество ответов 'Нет':\", count[0])"
      ]
    },
    {
      "cell_type": "code",
      "source": [
        "count_once = df[df['is_first_time'] == \"Нет\"].id.unique()\n",
        "print(\"Количество различных id с ответами 'Нет':\", len(count_once))"
      ],
      "metadata": {
        "colab": {
          "base_uri": "https://localhost:8080/"
        },
        "id": "92mNNZ6aQBvX",
        "outputId": "e47d07a3-a4bf-4e81-ff1b-191c61add742"
      },
      "execution_count": null,
      "outputs": [
        {
          "output_type": "stream",
          "name": "stdout",
          "text": [
            "Количество различных id с ответами 'Нет': 51\n"
          ]
        }
      ]
    },
    {
      "cell_type": "code",
      "source": [
        "df[df['is_first_time']==\"Нет\"]"
      ],
      "metadata": {
        "colab": {
          "base_uri": "https://localhost:8080/"
        },
        "id": "xzpNVSvkhe3C",
        "outputId": "51f25f79-1782-4134-f2c2-db28bb0731e4"
      },
      "execution_count": null,
      "outputs": [
        {
          "output_type": "execute_result",
          "data": {
            "text/plain": [
              "                  timestamp                                id  rating  \\\n",
              "1   2020-05-15 02:46:48.066  26b01b1c4cd5656bab18d24c548834fb     647   \n",
              "23  2020-05-15 22:30:31.902  a65d50ef4fadfac64508a54e972d8623     626   \n",
              "27  2020-05-16 13:02:24.706  5daee1bd98559bb2c52373e416942225     593   \n",
              "28  2020-05-16 14:40:48.012  64b63332f8e86fa32969cfe0c167dbea     684   \n",
              "30  2020-05-16 15:01:06.274  b121e4d7d62387cd5199cca464a34a6d     694   \n",
              "33  2020-05-16 20:46:40.318  73282cacef07625adb2f9b4e2d57240e     575   \n",
              "66  2020-05-18 12:17:33.378  1f53f6dabcd59889dd7486a7cac5c9f2     569   \n",
              "68  2020-05-18 12:55:36.645  d61cc836b6aa3cdc4a40e2e8ada0b937     608   \n",
              "75  2020-05-18 16:45:06.205  081eba3952cfc116e0e9b941d6a974a2     692   \n",
              "83  2020-05-18 17:21:14.354  7f9d0f835bf734ccd4619041c3475c1c     689   \n",
              "98  2020-05-18 18:53:41.094  5ee2ad618729a6dc3bdb7f2858826ef0     628   \n",
              "110 2020-05-18 19:36:51.479  f5d9f99cb876ca0888d18b6e444fa1b1     516   \n",
              "119 2020-05-18 20:34:07.220  fc2c60b8004aa91bc272df84628621ff     639   \n",
              "123 2020-05-18 20:50:49.049  5a6dfaade650ca8bb2d081342df303e8     549   \n",
              "125 2020-05-18 20:57:09.583  42df9e301b39e4295fe849aa2abdfc7c     613   \n",
              "126 2020-05-18 21:02:28.759  5c49473012411a1eee72f8ea63767adf     573   \n",
              "130 2020-05-18 21:12:29.736  ac4e2062ca444a506991c212bd2dd872     562   \n",
              "132 2020-05-18 21:15:01.777  f0db08ec702a03450390efdca4166cc2     603   \n",
              "135 2020-05-18 21:19:50.620  feb53dcdd28fff9dc4a981c3419fea6f     521   \n",
              "139 2020-05-18 21:27:02.445  ffc58d371e2f52e1c7f45d49d3d629d0     659   \n",
              "140 2020-05-18 21:31:54.983  aa21f50934a72e00bbc7e65a54ea0bcc     666   \n",
              "147 2020-05-18 21:44:47.061  760529fb42ad1fd50071e2ceeadaaedc     570   \n",
              "149 2020-05-18 21:47:05.660  9fa4bc4eb50e574e88b670a86781860b     600   \n",
              "150 2020-05-18 21:49:22.233  f8fab519d78047712c06798c8b7fe38f     561   \n",
              "152 2020-05-18 21:51:52.845  9015b809a29fb65ce23d7addf16d770d     665   \n",
              "157 2020-05-18 21:59:29.361  f0f01fe07310ce6f403894eb624ac323     657   \n",
              "163 2020-05-18 22:09:23.107  f81cc449798c2d8971612dc9a749ad2a     637   \n",
              "164 2020-05-18 22:09:59.005  dbcac463fe0b6294743107a9e74356c5     525   \n",
              "170 2020-05-18 22:29:14.162  40b18d40197e3db66312a026e06b8ff1     515   \n",
              "176 2020-05-18 22:51:34.323  8aa0f1b7331b49464174b02cd693be52     567   \n",
              "188 2020-05-18 23:25:19.491  a1184a8dbbf9a7418b634339bed7e9b1     629   \n",
              "192 2020-05-18 23:35:28.235  86c24daaa62246142d46ee58534a65e0     530   \n",
              "199 2020-05-18 23:47:37.254  b75b5f8abebf7faf4adbb6247d6d03bb     590   \n",
              "202 2020-05-18 23:53:18.550  d5557a9bcd58a786fa8d5aab48b82ddf     718   \n",
              "204 2020-05-18 23:55:41.196  47e2d8bbb630bc2d9b3fbf98fe77cffb     616   \n",
              "206 2020-05-18 23:59:29.314  f7f123322f77fd451a30ed4979c323fc     578   \n",
              "207 2020-05-19 00:00:51.191  840e108d7366fbf4f985f267c74ad523     675   \n",
              "211 2020-05-19 00:23:18.680  c7f617262a8d9350bcbba27f6d65d86a     587   \n",
              "212 2020-05-19 00:23:26.728  bbc73542db4946bde4d115b4dd944427     609   \n",
              "221 2020-05-24 01:21:31.946  04bcb5c9d23813ffa940e1febb27fadc     646   \n",
              "259 2020-05-17 15:55:40.828  906692ccd33f59058380aac1598c5480    1143   \n",
              "302 2020-05-18 20:23:36.111  9a66d84568b8017d98eb2e678b57296b    1205   \n",
              "307 2020-05-18 21:00:45.274  ffc04c64d068f8d85e4dc44e7f297ecc    1163   \n",
              "325 2020-05-18 22:40:28.531  d9c068e5578253c2b0721558dd0813e1    1075   \n",
              "327 2020-05-18 22:43:00.850  dc7f705ae386b0457542a833571d51d0    1307   \n",
              "331 2020-05-18 22:52:40.757  b243a77fa09641c7f0a0b7dfb7a541df    1294   \n",
              "336 2020-05-18 23:01:42.225  842a87d59de90b711fe3266830fe608c    1188   \n",
              "342 2020-05-18 23:24:48.715  50f6d5b6a7fd6c8b1b8959f9ce1f808d    1086   \n",
              "343 2020-05-18 23:25:14.521  31e38f7596f83b72ebba1c6fc6b7a590    1220   \n",
              "348 2020-05-18 23:54:25.376  cef24632489091cb8c085688b7d78dec    1095   \n",
              "354 2020-05-19 08:55:39.509  98c5a2548d93f26bd4195466e93178b3    1035   \n",
              "\n",
              "     18_group  is_mi                                           fall_1  \\\n",
              "1       181.0    0.0                Высокопроизводительные вычисления   \n",
              "23      184.0    0.0                 Безопасность компьютерных систем   \n",
              "27      182.0    0.0  Сбор и обработка данных с помощью краудсорсинга   \n",
              "28      186.0    0.0  Сбор и обработка данных с помощью краудсорсинга   \n",
              "30      185.0    0.0                 Безопасность компьютерных систем   \n",
              "33      183.0    0.0                             Матричные вычисления   \n",
              "66      187.0    0.0                                         Язык SQL   \n",
              "68      182.0    0.0                 Безопасность компьютерных систем   \n",
              "75      182.0    0.0                 Безопасность компьютерных систем   \n",
              "83      182.0    0.0                 Безопасность компьютерных систем   \n",
              "98      185.0    0.0                 Безопасность компьютерных систем   \n",
              "110     187.0    0.0  Сбор и обработка данных с помощью краудсорсинга   \n",
              "119     183.0    0.0                                         Язык SQL   \n",
              "123     185.0    0.0                 Безопасность компьютерных систем   \n",
              "125     181.0    0.0                Высокопроизводительные вычисления   \n",
              "126     183.0    0.0                 Безопасность компьютерных систем   \n",
              "130     187.0    0.0                 Безопасность компьютерных систем   \n",
              "132     185.0    0.0                                         Язык SQL   \n",
              "135     186.0    1.0                 Безопасность компьютерных систем   \n",
              "139     187.0    0.0                             Матричные вычисления   \n",
              "140     183.0    0.0                 Безопасность компьютерных систем   \n",
              "147     188.0    0.0                                         Язык SQL   \n",
              "149     188.0    0.0                                         Язык SQL   \n",
              "150     185.0    1.0                    Моделирование временных рядов   \n",
              "152     188.0    1.0                                         Язык SQL   \n",
              "157     183.0    0.0                Высокопроизводительные вычисления   \n",
              "163     186.0    0.0                Высокопроизводительные вычисления   \n",
              "164     186.0    0.0  Сбор и обработка данных с помощью краудсорсинга   \n",
              "170     188.0    0.0                 Безопасность компьютерных систем   \n",
              "176     187.0    0.0                 Безопасность компьютерных систем   \n",
              "188     183.0    0.0  Сбор и обработка данных с помощью краудсорсинга   \n",
              "192     184.0    0.0  Сбор и обработка данных с помощью краудсорсинга   \n",
              "199     184.0    1.0                 Безопасность компьютерных систем   \n",
              "202     186.0    0.0                 Безопасность компьютерных систем   \n",
              "204     188.0    0.0  Сбор и обработка данных с помощью краудсорсинга   \n",
              "206     185.0    0.0                                         Язык SQL   \n",
              "207     188.0    0.0                Высокопроизводительные вычисления   \n",
              "211     181.0    0.0                Высокопроизводительные вычисления   \n",
              "212     181.0    0.0                Высокопроизводительные вычисления   \n",
              "221     186.0    0.0                                Теория баз данных   \n",
              "259       0.0    0.0                Анализ неструктурированных данных   \n",
              "302       0.0    0.0                Анализ неструктурированных данных   \n",
              "307       0.0    0.0            Байесовские методы машинного обучения   \n",
              "325       0.0    0.0                Анализ неструктурированных данных   \n",
              "327       0.0    0.0                Высокопроизводительные вычисления   \n",
              "331       0.0    0.0                Высокопроизводительные вычисления   \n",
              "336       0.0    0.0                Высокопроизводительные вычисления   \n",
              "342       0.0    0.0                Анализ неструктурированных данных   \n",
              "343       0.0    0.0                 Безопасность компьютерных систем   \n",
              "348       0.0    0.0             Глубинное обучение в обработке звука   \n",
              "354       0.0    0.0            Байесовские методы машинного обучения   \n",
              "\n",
              "                                              fall_2  \\\n",
              "1                   Безопасность компьютерных систем   \n",
              "23                 Высокопроизводительные вычисления   \n",
              "27                       Statistical Learning Theory   \n",
              "28                       Statistical Learning Theory   \n",
              "30                                 Теория баз данных   \n",
              "33                                          Язык SQL   \n",
              "66                              Матричные вычисления   \n",
              "68                 Высокопроизводительные вычисления   \n",
              "75                              Матричные вычисления   \n",
              "83                       Statistical Learning Theory   \n",
              "98                                          Язык SQL   \n",
              "110                                         Язык SQL   \n",
              "119  Сбор и обработка данных с помощью краудсорсинга   \n",
              "123                                         Язык SQL   \n",
              "125                                Теория баз данных   \n",
              "126                                         Язык SQL   \n",
              "130                                         Язык SQL   \n",
              "132                             Матричные вычисления   \n",
              "135                                         Язык SQL   \n",
              "139  Сбор и обработка данных с помощью краудсорсинга   \n",
              "140                Высокопроизводительные вычисления   \n",
              "147  Сбор и обработка данных с помощью краудсорсинга   \n",
              "149                Высокопроизводительные вычисления   \n",
              "150                                Теория баз данных   \n",
              "152                    Моделирование временных рядов   \n",
              "157                                         Язык SQL   \n",
              "163                                         Язык SQL   \n",
              "164                 Безопасность компьютерных систем   \n",
              "170                                         Язык SQL   \n",
              "176                                         Язык SQL   \n",
              "188                                         Язык SQL   \n",
              "192                    Моделирование временных рядов   \n",
              "199                      Statistical Learning Theory   \n",
              "202                    Моделирование временных рядов   \n",
              "204                                         Язык SQL   \n",
              "206                 Безопасность компьютерных систем   \n",
              "207  Сбор и обработка данных с помощью краудсорсинга   \n",
              "211                 Безопасность компьютерных систем   \n",
              "212                 Безопасность компьютерных систем   \n",
              "221                Высокопроизводительные вычисления   \n",
              "259            Байесовские методы машинного обучения   \n",
              "302             Глубинное обучение в обработке звука   \n",
              "307                      Statistical Learning Theory   \n",
              "325                      Statistical Learning Theory   \n",
              "327                    Моделирование временных рядов   \n",
              "331                 Безопасность компьютерных систем   \n",
              "336                 Безопасность компьютерных систем   \n",
              "342             Глубинное обучение в обработке звука   \n",
              "343                Высокопроизводительные вычисления   \n",
              "348  Сбор и обработка данных с помощью краудсорсинга   \n",
              "354             Глубинное обучение в обработке звука   \n",
              "\n",
              "                                                fall_3  \\\n",
              "1                                             Язык SQL   \n",
              "23                                Матричные вычисления   \n",
              "27                       Моделирование временных рядов   \n",
              "28                   Высокопроизводительные вычисления   \n",
              "30                                            Язык SQL   \n",
              "33   Принятие решений в условиях риска и неопределё...   \n",
              "66                    Безопасность компьютерных систем   \n",
              "68                                            Язык SQL   \n",
              "75                                   Теория баз данных   \n",
              "83                                Матричные вычисления   \n",
              "98                                   Теория баз данных   \n",
              "110                                  Теория баз данных   \n",
              "119                        Statistical Learning Theory   \n",
              "123                               Матричные вычисления   \n",
              "125                   Безопасность компьютерных систем   \n",
              "126                                  Теория баз данных   \n",
              "130                               Матричные вычисления   \n",
              "132    Сбор и обработка данных с помощью краудсорсинга   \n",
              "135    Сбор и обработка данных с помощью краудсорсинга   \n",
              "139                      Моделирование временных рядов   \n",
              "140                               Матричные вычисления   \n",
              "147                      Моделирование временных рядов   \n",
              "149    Сбор и обработка данных с помощью краудсорсинга   \n",
              "150                                           Язык SQL   \n",
              "152                               Матричные вычисления   \n",
              "157  Принятие решений в условиях риска и неопределё...   \n",
              "163                      Моделирование временных рядов   \n",
              "164                      Моделирование временных рядов   \n",
              "170    Сбор и обработка данных с помощью краудсорсинга   \n",
              "176                                  Теория баз данных   \n",
              "188                   Безопасность компьютерных систем   \n",
              "192                                  Теория баз данных   \n",
              "199    Сбор и обработка данных с помощью краудсорсинга   \n",
              "202                                           Язык SQL   \n",
              "204                  Высокопроизводительные вычисления   \n",
              "206                                  Теория баз данных   \n",
              "207                                           Язык SQL   \n",
              "211                                           Язык SQL   \n",
              "212                                           Язык SQL   \n",
              "221                   Безопасность компьютерных систем   \n",
              "259               Глубинное обучение в обработке звука   \n",
              "302              Байесовские методы машинного обучения   \n",
              "307               Глубинное обучение в обработке звука   \n",
              "325  Принятие решений в условиях риска и неопределё...   \n",
              "327              Байесовские методы машинного обучения   \n",
              "331                      Моделирование временных рядов   \n",
              "336                   Безопасность компьютерных систем   \n",
              "342                      Моделирование временных рядов   \n",
              "343    Сбор и обработка данных с помощью краудсорсинга   \n",
              "348                  Анализ неструктурированных данных   \n",
              "354                        Statistical Learning Theory   \n",
              "\n",
              "                                              spring_1  \\\n",
              "1                               Дискретная оптимизация   \n",
              "23                              Дискретная оптимизация   \n",
              "27                                 Машинное обучение 2   \n",
              "28                                 Машинное обучение 2   \n",
              "30                                 Машинное обучение 2   \n",
              "33                              Дискретная оптимизация   \n",
              "66                                   Компьютерные сети   \n",
              "68                                   Компьютерные сети   \n",
              "75         Промышленное программирование на языке Java   \n",
              "83                              Дискретная оптимизация   \n",
              "98                                   Компьютерные сети   \n",
              "110        Промышленное программирование на языке Java   \n",
              "119                                 Системы баз данных   \n",
              "123        Промышленное программирование на языке Java   \n",
              "125        Промышленное программирование на языке Java   \n",
              "126        Промышленное программирование на языке Java   \n",
              "130        Промышленное программирование на языке Java   \n",
              "132        Промышленное программирование на языке Java   \n",
              "135        Промышленное программирование на языке Java   \n",
              "139                                 Системы баз данных   \n",
              "140                                Машинное обучение 2   \n",
              "147        Промышленное программирование на языке Java   \n",
              "149        Промышленное программирование на языке Java   \n",
              "150        Промышленное программирование на языке Java   \n",
              "152                                Машинное обучение 2   \n",
              "157        Промышленное программирование на языке Java   \n",
              "163                                  Компьютерные сети   \n",
              "164                                Машинное обучение 2   \n",
              "170        Промышленное программирование на языке Java   \n",
              "176                                  Компьютерные сети   \n",
              "188                                  Компьютерные сети   \n",
              "192                            Анализ данных в бизнесе   \n",
              "199                            Анализ данных в бизнесе   \n",
              "202                                  Компьютерные сети   \n",
              "204                                  Компьютерные сети   \n",
              "206        Промышленное программирование на языке Java   \n",
              "207                                  Компьютерные сети   \n",
              "211                                Машинное обучение 2   \n",
              "212                                Машинное обучение 2   \n",
              "221                                  Компьютерные сети   \n",
              "259                           Обучение с подкреплением   \n",
              "302                           Обучение с подкреплением   \n",
              "307                           Обучение с подкреплением   \n",
              "325                             Конфликты и кооперация   \n",
              "327  Проектирование и разработка высоконагруженных ...   \n",
              "331               Методы сжатия и передачи медиаданных   \n",
              "336  Проектирование и разработка высоконагруженных ...   \n",
              "342                           Обучение с подкреплением   \n",
              "343               Методы сжатия и передачи медиаданных   \n",
              "348                           Обучение с подкреплением   \n",
              "354                           Обучение с подкреплением   \n",
              "\n",
              "                                              spring_2  \\\n",
              "1                                     Численные методы   \n",
              "23                                    Численные методы   \n",
              "27         Промышленное программирование на языке Java   \n",
              "28                             Анализ данных в бизнесе   \n",
              "30                                   Компьютерные сети   \n",
              "33                                    Численные методы   \n",
              "66         Промышленное программирование на языке Java   \n",
              "68         Промышленное программирование на языке Java   \n",
              "75                              Дискретная оптимизация   \n",
              "83          Дополнительные главы прикладной статистики   \n",
              "98         Промышленное программирование на языке Java   \n",
              "110                                Машинное обучение 2   \n",
              "119                                Машинное обучение 2   \n",
              "123         Дополнительные главы прикладной статистики   \n",
              "125                                  Компьютерные сети   \n",
              "126                                  Компьютерные сети   \n",
              "130                            Анализ данных в бизнесе   \n",
              "132                             Дискретная оптимизация   \n",
              "135                            Анализ данных в бизнесе   \n",
              "139        Промышленное программирование на языке Java   \n",
              "140                                  Компьютерные сети   \n",
              "147                                Машинное обучение 2   \n",
              "149                                  Компьютерные сети   \n",
              "150                                Машинное обучение 2   \n",
              "152        Промышленное программирование на языке Java   \n",
              "157                                 Системы баз данных   \n",
              "163                            Анализ данных в бизнесе   \n",
              "164                                  Компьютерные сети   \n",
              "170                                  Компьютерные сети   \n",
              "176        Промышленное программирование на языке Java   \n",
              "188        Промышленное программирование на языке Java   \n",
              "192                                   Численные методы   \n",
              "199                                  Компьютерные сети   \n",
              "202        Промышленное программирование на языке Java   \n",
              "204        Промышленное программирование на языке Java   \n",
              "206                                  Компьютерные сети   \n",
              "207        Промышленное программирование на языке Java   \n",
              "211                                Машинное обучение 2   \n",
              "212                                  Компьютерные сети   \n",
              "221                             Дискретная оптимизация   \n",
              "259            Генеративные модели в машинном обучении   \n",
              "302            Генеративные модели в машинном обучении   \n",
              "307            Генеративные модели в машинном обучении   \n",
              "325                           Обучение с подкреплением   \n",
              "327               Методы сжатия и передачи медиаданных   \n",
              "331  Проектирование и разработка высоконагруженных ...   \n",
              "336               Методы сжатия и передачи медиаданных   \n",
              "342               Методы сжатия и передачи медиаданных   \n",
              "343  Проектирование и разработка высоконагруженных ...   \n",
              "348            Генеративные модели в машинном обучении   \n",
              "354            Генеративные модели в машинном обучении   \n",
              "\n",
              "                                              spring_3 is_first_time  \\\n",
              "1                                  Машинное обучение 2           Нет   \n",
              "23                             Анализ данных в бизнесе           Нет   \n",
              "27                             Анализ данных в бизнесе           Нет   \n",
              "28         Промышленное программирование на языке Java           Нет   \n",
              "30         Промышленное программирование на языке Java           Нет   \n",
              "33         Промышленное программирование на языке Java           Нет   \n",
              "66          Дополнительные главы прикладной статистики           Нет   \n",
              "68                                 Машинное обучение 2           Нет   \n",
              "75                                  Системы баз данных           Нет   \n",
              "83         Промышленное программирование на языке Java           Нет   \n",
              "98                              Дискретная оптимизация           Нет   \n",
              "110                                  Компьютерные сети           Нет   \n",
              "119                            Анализ данных в бизнесе           Нет   \n",
              "123                                Машинное обучение 2           Нет   \n",
              "125                                   Численные методы           Нет   \n",
              "126                             Дискретная оптимизация           Нет   \n",
              "130                                   Численные методы           Нет   \n",
              "132                                  Компьютерные сети           Нет   \n",
              "135                                Машинное обучение 2           Нет   \n",
              "139         Дополнительные главы прикладной статистики           Нет   \n",
              "140                             Дискретная оптимизация           Нет   \n",
              "147                                  Компьютерные сети           Нет   \n",
              "149                                Машинное обучение 2           Нет   \n",
              "150                                  Компьютерные сети           Нет   \n",
              "152                                  Компьютерные сети           Нет   \n",
              "157                            Анализ данных в бизнесе           Нет   \n",
              "163                             Дискретная оптимизация           Нет   \n",
              "164        Промышленное программирование на языке Java           Нет   \n",
              "170                            Анализ данных в бизнесе           Нет   \n",
              "176                                 Системы баз данных           Нет   \n",
              "188                                 Системы баз данных           Нет   \n",
              "192                                 Системы баз данных           Нет   \n",
              "199                                Машинное обучение 2           Нет   \n",
              "202                             Дискретная оптимизация           Нет   \n",
              "204                                Машинное обучение 2           Нет   \n",
              "206                                 Системы баз данных           Нет   \n",
              "207                                Машинное обучение 2           Нет   \n",
              "211                                  Компьютерные сети           Нет   \n",
              "212                             Дискретная оптимизация           Нет   \n",
              "221                                Машинное обучение 2           Нет   \n",
              "259                                Компьютерное зрение           Нет   \n",
              "302                                Компьютерное зрение           Нет   \n",
              "307                                Компьютерное зрение           Нет   \n",
              "325                              Символьные вычисления           Нет   \n",
              "327                           Обучение с подкреплением           Нет   \n",
              "331                                   Численные методы           Нет   \n",
              "336                                Компьютерное зрение           Нет   \n",
              "342  Проектирование и разработка высоконагруженных ...           Нет   \n",
              "343                             Конфликты и кооперация           Нет   \n",
              "348                                Компьютерное зрение           Нет   \n",
              "354               Методы сжатия и передачи медиаданных           Нет   \n",
              "\n",
              "     percentile  17_group                         blended  is_ml_student  \n",
              "1      0.426009       0.0                                            0.0  \n",
              "23     0.526906       0.0                                            0.0  \n",
              "27     0.681614       0.0                                            1.0  \n",
              "28     0.251121       0.0                                            0.0  \n",
              "30     0.204036       0.0                                            0.0  \n",
              "33     0.762332       0.0                                            0.0  \n",
              "66     0.789238       0.0                                            0.0  \n",
              "68     0.614350       0.0                                            0.0  \n",
              "75     0.215247       0.0                                            1.0  \n",
              "83     0.228700       0.0                                            1.0  \n",
              "98     0.513453       0.0                                            0.0  \n",
              "110    0.982063       0.0                                            0.0  \n",
              "119    0.461883       0.0                                            1.0  \n",
              "123    0.869955       0.0                                            0.0  \n",
              "125    0.591928       0.0                                            0.0  \n",
              "126    0.773543       0.0                                            0.0  \n",
              "130    0.816143       0.0                                            0.0  \n",
              "132    0.636771       0.0                                            1.0  \n",
              "135    0.968610       0.0                                            0.0  \n",
              "139    0.369955       0.0                                            1.0  \n",
              "140    0.331839       0.0                                            0.0  \n",
              "147    0.784753       0.0                                            0.0  \n",
              "149    0.650224       0.0                                            0.0  \n",
              "150    0.822870       0.0                                            0.0  \n",
              "152    0.338565       0.0                                            0.0  \n",
              "157    0.381166       0.0                                            0.0  \n",
              "163    0.470852       0.0                                            0.0  \n",
              "164    0.955157       0.0                                            0.0  \n",
              "170    0.986547       0.0                                            0.0  \n",
              "176    0.795964       0.0                                            0.0  \n",
              "188    0.506726       0.0                                            0.0  \n",
              "192    0.939462       0.0                                            0.0  \n",
              "199    0.695067       0.0                                            0.0  \n",
              "202    0.125561       0.0                                            1.0  \n",
              "204    0.576233       0.0                                            0.0  \n",
              "206    0.748879       0.0                                            0.0  \n",
              "207    0.291480       0.0                                            0.0  \n",
              "211    0.708520       0.0                                            0.0  \n",
              "212    0.609865       0.0                                            0.0  \n",
              "221    0.430493       0.0                                            0.0  \n",
              "259    0.547101     172.0                          DevOps            0.0  \n",
              "302    0.293478     171.0                          DevOps            0.0  \n",
              "307    0.471014     171.0  Соревновательный анализ данных            0.0  \n",
              "325    0.807971     174.0                          DevOps            0.0  \n",
              "327    0.043478     173.0                          DevOps            0.0  \n",
              "331    0.065217     175.0                          DevOps            0.0  \n",
              "336    0.384058     175.0                          DevOps            0.0  \n",
              "342    0.764493     174.0                          DevOps            0.0  \n",
              "343    0.239130     176.0                          DevOps            0.0  \n",
              "348    0.717391     172.0  Соревновательный анализ данных            0.0  \n",
              "354    0.905797     171.0                          DevOps            0.0  "
            ],
            "text/html": [
              "\n",
              "  <div id=\"df-d15113b1-844d-4fe5-9713-2d463b4593ec\">\n",
              "    <div class=\"colab-df-container\">\n",
              "      <div>\n",
              "<style scoped>\n",
              "    .dataframe tbody tr th:only-of-type {\n",
              "        vertical-align: middle;\n",
              "    }\n",
              "\n",
              "    .dataframe tbody tr th {\n",
              "        vertical-align: top;\n",
              "    }\n",
              "\n",
              "    .dataframe thead th {\n",
              "        text-align: right;\n",
              "    }\n",
              "</style>\n",
              "<table border=\"1\" class=\"dataframe\">\n",
              "  <thead>\n",
              "    <tr style=\"text-align: right;\">\n",
              "      <th></th>\n",
              "      <th>timestamp</th>\n",
              "      <th>id</th>\n",
              "      <th>rating</th>\n",
              "      <th>18_group</th>\n",
              "      <th>is_mi</th>\n",
              "      <th>fall_1</th>\n",
              "      <th>fall_2</th>\n",
              "      <th>fall_3</th>\n",
              "      <th>spring_1</th>\n",
              "      <th>spring_2</th>\n",
              "      <th>spring_3</th>\n",
              "      <th>is_first_time</th>\n",
              "      <th>percentile</th>\n",
              "      <th>17_group</th>\n",
              "      <th>blended</th>\n",
              "      <th>is_ml_student</th>\n",
              "    </tr>\n",
              "  </thead>\n",
              "  <tbody>\n",
              "    <tr>\n",
              "      <th>1</th>\n",
              "      <td>2020-05-15 02:46:48.066</td>\n",
              "      <td>26b01b1c4cd5656bab18d24c548834fb</td>\n",
              "      <td>647</td>\n",
              "      <td>181.0</td>\n",
              "      <td>0.0</td>\n",
              "      <td>Высокопроизводительные вычисления</td>\n",
              "      <td>Безопасность компьютерных систем</td>\n",
              "      <td>Язык SQL</td>\n",
              "      <td>Дискретная оптимизация</td>\n",
              "      <td>Численные методы</td>\n",
              "      <td>Машинное обучение 2</td>\n",
              "      <td>Нет</td>\n",
              "      <td>0.426009</td>\n",
              "      <td>0.0</td>\n",
              "      <td></td>\n",
              "      <td>0.0</td>\n",
              "    </tr>\n",
              "    <tr>\n",
              "      <th>23</th>\n",
              "      <td>2020-05-15 22:30:31.902</td>\n",
              "      <td>a65d50ef4fadfac64508a54e972d8623</td>\n",
              "      <td>626</td>\n",
              "      <td>184.0</td>\n",
              "      <td>0.0</td>\n",
              "      <td>Безопасность компьютерных систем</td>\n",
              "      <td>Высокопроизводительные вычисления</td>\n",
              "      <td>Матричные вычисления</td>\n",
              "      <td>Дискретная оптимизация</td>\n",
              "      <td>Численные методы</td>\n",
              "      <td>Анализ данных в бизнесе</td>\n",
              "      <td>Нет</td>\n",
              "      <td>0.526906</td>\n",
              "      <td>0.0</td>\n",
              "      <td></td>\n",
              "      <td>0.0</td>\n",
              "    </tr>\n",
              "    <tr>\n",
              "      <th>27</th>\n",
              "      <td>2020-05-16 13:02:24.706</td>\n",
              "      <td>5daee1bd98559bb2c52373e416942225</td>\n",
              "      <td>593</td>\n",
              "      <td>182.0</td>\n",
              "      <td>0.0</td>\n",
              "      <td>Сбор и обработка данных с помощью краудсорсинга</td>\n",
              "      <td>Statistical Learning Theory</td>\n",
              "      <td>Моделирование временных рядов</td>\n",
              "      <td>Машинное обучение 2</td>\n",
              "      <td>Промышленное программирование на языке Java</td>\n",
              "      <td>Анализ данных в бизнесе</td>\n",
              "      <td>Нет</td>\n",
              "      <td>0.681614</td>\n",
              "      <td>0.0</td>\n",
              "      <td></td>\n",
              "      <td>1.0</td>\n",
              "    </tr>\n",
              "    <tr>\n",
              "      <th>28</th>\n",
              "      <td>2020-05-16 14:40:48.012</td>\n",
              "      <td>64b63332f8e86fa32969cfe0c167dbea</td>\n",
              "      <td>684</td>\n",
              "      <td>186.0</td>\n",
              "      <td>0.0</td>\n",
              "      <td>Сбор и обработка данных с помощью краудсорсинга</td>\n",
              "      <td>Statistical Learning Theory</td>\n",
              "      <td>Высокопроизводительные вычисления</td>\n",
              "      <td>Машинное обучение 2</td>\n",
              "      <td>Анализ данных в бизнесе</td>\n",
              "      <td>Промышленное программирование на языке Java</td>\n",
              "      <td>Нет</td>\n",
              "      <td>0.251121</td>\n",
              "      <td>0.0</td>\n",
              "      <td></td>\n",
              "      <td>0.0</td>\n",
              "    </tr>\n",
              "    <tr>\n",
              "      <th>30</th>\n",
              "      <td>2020-05-16 15:01:06.274</td>\n",
              "      <td>b121e4d7d62387cd5199cca464a34a6d</td>\n",
              "      <td>694</td>\n",
              "      <td>185.0</td>\n",
              "      <td>0.0</td>\n",
              "      <td>Безопасность компьютерных систем</td>\n",
              "      <td>Теория баз данных</td>\n",
              "      <td>Язык SQL</td>\n",
              "      <td>Машинное обучение 2</td>\n",
              "      <td>Компьютерные сети</td>\n",
              "      <td>Промышленное программирование на языке Java</td>\n",
              "      <td>Нет</td>\n",
              "      <td>0.204036</td>\n",
              "      <td>0.0</td>\n",
              "      <td></td>\n",
              "      <td>0.0</td>\n",
              "    </tr>\n",
              "    <tr>\n",
              "      <th>33</th>\n",
              "      <td>2020-05-16 20:46:40.318</td>\n",
              "      <td>73282cacef07625adb2f9b4e2d57240e</td>\n",
              "      <td>575</td>\n",
              "      <td>183.0</td>\n",
              "      <td>0.0</td>\n",
              "      <td>Матричные вычисления</td>\n",
              "      <td>Язык SQL</td>\n",
              "      <td>Принятие решений в условиях риска и неопределё...</td>\n",
              "      <td>Дискретная оптимизация</td>\n",
              "      <td>Численные методы</td>\n",
              "      <td>Промышленное программирование на языке Java</td>\n",
              "      <td>Нет</td>\n",
              "      <td>0.762332</td>\n",
              "      <td>0.0</td>\n",
              "      <td></td>\n",
              "      <td>0.0</td>\n",
              "    </tr>\n",
              "    <tr>\n",
              "      <th>66</th>\n",
              "      <td>2020-05-18 12:17:33.378</td>\n",
              "      <td>1f53f6dabcd59889dd7486a7cac5c9f2</td>\n",
              "      <td>569</td>\n",
              "      <td>187.0</td>\n",
              "      <td>0.0</td>\n",
              "      <td>Язык SQL</td>\n",
              "      <td>Матричные вычисления</td>\n",
              "      <td>Безопасность компьютерных систем</td>\n",
              "      <td>Компьютерные сети</td>\n",
              "      <td>Промышленное программирование на языке Java</td>\n",
              "      <td>Дополнительные главы прикладной статистики</td>\n",
              "      <td>Нет</td>\n",
              "      <td>0.789238</td>\n",
              "      <td>0.0</td>\n",
              "      <td></td>\n",
              "      <td>0.0</td>\n",
              "    </tr>\n",
              "    <tr>\n",
              "      <th>68</th>\n",
              "      <td>2020-05-18 12:55:36.645</td>\n",
              "      <td>d61cc836b6aa3cdc4a40e2e8ada0b937</td>\n",
              "      <td>608</td>\n",
              "      <td>182.0</td>\n",
              "      <td>0.0</td>\n",
              "      <td>Безопасность компьютерных систем</td>\n",
              "      <td>Высокопроизводительные вычисления</td>\n",
              "      <td>Язык SQL</td>\n",
              "      <td>Компьютерные сети</td>\n",
              "      <td>Промышленное программирование на языке Java</td>\n",
              "      <td>Машинное обучение 2</td>\n",
              "      <td>Нет</td>\n",
              "      <td>0.614350</td>\n",
              "      <td>0.0</td>\n",
              "      <td></td>\n",
              "      <td>0.0</td>\n",
              "    </tr>\n",
              "    <tr>\n",
              "      <th>75</th>\n",
              "      <td>2020-05-18 16:45:06.205</td>\n",
              "      <td>081eba3952cfc116e0e9b941d6a974a2</td>\n",
              "      <td>692</td>\n",
              "      <td>182.0</td>\n",
              "      <td>0.0</td>\n",
              "      <td>Безопасность компьютерных систем</td>\n",
              "      <td>Матричные вычисления</td>\n",
              "      <td>Теория баз данных</td>\n",
              "      <td>Промышленное программирование на языке Java</td>\n",
              "      <td>Дискретная оптимизация</td>\n",
              "      <td>Системы баз данных</td>\n",
              "      <td>Нет</td>\n",
              "      <td>0.215247</td>\n",
              "      <td>0.0</td>\n",
              "      <td></td>\n",
              "      <td>1.0</td>\n",
              "    </tr>\n",
              "    <tr>\n",
              "      <th>83</th>\n",
              "      <td>2020-05-18 17:21:14.354</td>\n",
              "      <td>7f9d0f835bf734ccd4619041c3475c1c</td>\n",
              "      <td>689</td>\n",
              "      <td>182.0</td>\n",
              "      <td>0.0</td>\n",
              "      <td>Безопасность компьютерных систем</td>\n",
              "      <td>Statistical Learning Theory</td>\n",
              "      <td>Матричные вычисления</td>\n",
              "      <td>Дискретная оптимизация</td>\n",
              "      <td>Дополнительные главы прикладной статистики</td>\n",
              "      <td>Промышленное программирование на языке Java</td>\n",
              "      <td>Нет</td>\n",
              "      <td>0.228700</td>\n",
              "      <td>0.0</td>\n",
              "      <td></td>\n",
              "      <td>1.0</td>\n",
              "    </tr>\n",
              "    <tr>\n",
              "      <th>98</th>\n",
              "      <td>2020-05-18 18:53:41.094</td>\n",
              "      <td>5ee2ad618729a6dc3bdb7f2858826ef0</td>\n",
              "      <td>628</td>\n",
              "      <td>185.0</td>\n",
              "      <td>0.0</td>\n",
              "      <td>Безопасность компьютерных систем</td>\n",
              "      <td>Язык SQL</td>\n",
              "      <td>Теория баз данных</td>\n",
              "      <td>Компьютерные сети</td>\n",
              "      <td>Промышленное программирование на языке Java</td>\n",
              "      <td>Дискретная оптимизация</td>\n",
              "      <td>Нет</td>\n",
              "      <td>0.513453</td>\n",
              "      <td>0.0</td>\n",
              "      <td></td>\n",
              "      <td>0.0</td>\n",
              "    </tr>\n",
              "    <tr>\n",
              "      <th>110</th>\n",
              "      <td>2020-05-18 19:36:51.479</td>\n",
              "      <td>f5d9f99cb876ca0888d18b6e444fa1b1</td>\n",
              "      <td>516</td>\n",
              "      <td>187.0</td>\n",
              "      <td>0.0</td>\n",
              "      <td>Сбор и обработка данных с помощью краудсорсинга</td>\n",
              "      <td>Язык SQL</td>\n",
              "      <td>Теория баз данных</td>\n",
              "      <td>Промышленное программирование на языке Java</td>\n",
              "      <td>Машинное обучение 2</td>\n",
              "      <td>Компьютерные сети</td>\n",
              "      <td>Нет</td>\n",
              "      <td>0.982063</td>\n",
              "      <td>0.0</td>\n",
              "      <td></td>\n",
              "      <td>0.0</td>\n",
              "    </tr>\n",
              "    <tr>\n",
              "      <th>119</th>\n",
              "      <td>2020-05-18 20:34:07.220</td>\n",
              "      <td>fc2c60b8004aa91bc272df84628621ff</td>\n",
              "      <td>639</td>\n",
              "      <td>183.0</td>\n",
              "      <td>0.0</td>\n",
              "      <td>Язык SQL</td>\n",
              "      <td>Сбор и обработка данных с помощью краудсорсинга</td>\n",
              "      <td>Statistical Learning Theory</td>\n",
              "      <td>Системы баз данных</td>\n",
              "      <td>Машинное обучение 2</td>\n",
              "      <td>Анализ данных в бизнесе</td>\n",
              "      <td>Нет</td>\n",
              "      <td>0.461883</td>\n",
              "      <td>0.0</td>\n",
              "      <td></td>\n",
              "      <td>1.0</td>\n",
              "    </tr>\n",
              "    <tr>\n",
              "      <th>123</th>\n",
              "      <td>2020-05-18 20:50:49.049</td>\n",
              "      <td>5a6dfaade650ca8bb2d081342df303e8</td>\n",
              "      <td>549</td>\n",
              "      <td>185.0</td>\n",
              "      <td>0.0</td>\n",
              "      <td>Безопасность компьютерных систем</td>\n",
              "      <td>Язык SQL</td>\n",
              "      <td>Матричные вычисления</td>\n",
              "      <td>Промышленное программирование на языке Java</td>\n",
              "      <td>Дополнительные главы прикладной статистики</td>\n",
              "      <td>Машинное обучение 2</td>\n",
              "      <td>Нет</td>\n",
              "      <td>0.869955</td>\n",
              "      <td>0.0</td>\n",
              "      <td></td>\n",
              "      <td>0.0</td>\n",
              "    </tr>\n",
              "    <tr>\n",
              "      <th>125</th>\n",
              "      <td>2020-05-18 20:57:09.583</td>\n",
              "      <td>42df9e301b39e4295fe849aa2abdfc7c</td>\n",
              "      <td>613</td>\n",
              "      <td>181.0</td>\n",
              "      <td>0.0</td>\n",
              "      <td>Высокопроизводительные вычисления</td>\n",
              "      <td>Теория баз данных</td>\n",
              "      <td>Безопасность компьютерных систем</td>\n",
              "      <td>Промышленное программирование на языке Java</td>\n",
              "      <td>Компьютерные сети</td>\n",
              "      <td>Численные методы</td>\n",
              "      <td>Нет</td>\n",
              "      <td>0.591928</td>\n",
              "      <td>0.0</td>\n",
              "      <td></td>\n",
              "      <td>0.0</td>\n",
              "    </tr>\n",
              "    <tr>\n",
              "      <th>126</th>\n",
              "      <td>2020-05-18 21:02:28.759</td>\n",
              "      <td>5c49473012411a1eee72f8ea63767adf</td>\n",
              "      <td>573</td>\n",
              "      <td>183.0</td>\n",
              "      <td>0.0</td>\n",
              "      <td>Безопасность компьютерных систем</td>\n",
              "      <td>Язык SQL</td>\n",
              "      <td>Теория баз данных</td>\n",
              "      <td>Промышленное программирование на языке Java</td>\n",
              "      <td>Компьютерные сети</td>\n",
              "      <td>Дискретная оптимизация</td>\n",
              "      <td>Нет</td>\n",
              "      <td>0.773543</td>\n",
              "      <td>0.0</td>\n",
              "      <td></td>\n",
              "      <td>0.0</td>\n",
              "    </tr>\n",
              "    <tr>\n",
              "      <th>130</th>\n",
              "      <td>2020-05-18 21:12:29.736</td>\n",
              "      <td>ac4e2062ca444a506991c212bd2dd872</td>\n",
              "      <td>562</td>\n",
              "      <td>187.0</td>\n",
              "      <td>0.0</td>\n",
              "      <td>Безопасность компьютерных систем</td>\n",
              "      <td>Язык SQL</td>\n",
              "      <td>Матричные вычисления</td>\n",
              "      <td>Промышленное программирование на языке Java</td>\n",
              "      <td>Анализ данных в бизнесе</td>\n",
              "      <td>Численные методы</td>\n",
              "      <td>Нет</td>\n",
              "      <td>0.816143</td>\n",
              "      <td>0.0</td>\n",
              "      <td></td>\n",
              "      <td>0.0</td>\n",
              "    </tr>\n",
              "    <tr>\n",
              "      <th>132</th>\n",
              "      <td>2020-05-18 21:15:01.777</td>\n",
              "      <td>f0db08ec702a03450390efdca4166cc2</td>\n",
              "      <td>603</td>\n",
              "      <td>185.0</td>\n",
              "      <td>0.0</td>\n",
              "      <td>Язык SQL</td>\n",
              "      <td>Матричные вычисления</td>\n",
              "      <td>Сбор и обработка данных с помощью краудсорсинга</td>\n",
              "      <td>Промышленное программирование на языке Java</td>\n",
              "      <td>Дискретная оптимизация</td>\n",
              "      <td>Компьютерные сети</td>\n",
              "      <td>Нет</td>\n",
              "      <td>0.636771</td>\n",
              "      <td>0.0</td>\n",
              "      <td></td>\n",
              "      <td>1.0</td>\n",
              "    </tr>\n",
              "    <tr>\n",
              "      <th>135</th>\n",
              "      <td>2020-05-18 21:19:50.620</td>\n",
              "      <td>feb53dcdd28fff9dc4a981c3419fea6f</td>\n",
              "      <td>521</td>\n",
              "      <td>186.0</td>\n",
              "      <td>1.0</td>\n",
              "      <td>Безопасность компьютерных систем</td>\n",
              "      <td>Язык SQL</td>\n",
              "      <td>Сбор и обработка данных с помощью краудсорсинга</td>\n",
              "      <td>Промышленное программирование на языке Java</td>\n",
              "      <td>Анализ данных в бизнесе</td>\n",
              "      <td>Машинное обучение 2</td>\n",
              "      <td>Нет</td>\n",
              "      <td>0.968610</td>\n",
              "      <td>0.0</td>\n",
              "      <td></td>\n",
              "      <td>0.0</td>\n",
              "    </tr>\n",
              "    <tr>\n",
              "      <th>139</th>\n",
              "      <td>2020-05-18 21:27:02.445</td>\n",
              "      <td>ffc58d371e2f52e1c7f45d49d3d629d0</td>\n",
              "      <td>659</td>\n",
              "      <td>187.0</td>\n",
              "      <td>0.0</td>\n",
              "      <td>Матричные вычисления</td>\n",
              "      <td>Сбор и обработка данных с помощью краудсорсинга</td>\n",
              "      <td>Моделирование временных рядов</td>\n",
              "      <td>Системы баз данных</td>\n",
              "      <td>Промышленное программирование на языке Java</td>\n",
              "      <td>Дополнительные главы прикладной статистики</td>\n",
              "      <td>Нет</td>\n",
              "      <td>0.369955</td>\n",
              "      <td>0.0</td>\n",
              "      <td></td>\n",
              "      <td>1.0</td>\n",
              "    </tr>\n",
              "    <tr>\n",
              "      <th>140</th>\n",
              "      <td>2020-05-18 21:31:54.983</td>\n",
              "      <td>aa21f50934a72e00bbc7e65a54ea0bcc</td>\n",
              "      <td>666</td>\n",
              "      <td>183.0</td>\n",
              "      <td>0.0</td>\n",
              "      <td>Безопасность компьютерных систем</td>\n",
              "      <td>Высокопроизводительные вычисления</td>\n",
              "      <td>Матричные вычисления</td>\n",
              "      <td>Машинное обучение 2</td>\n",
              "      <td>Компьютерные сети</td>\n",
              "      <td>Дискретная оптимизация</td>\n",
              "      <td>Нет</td>\n",
              "      <td>0.331839</td>\n",
              "      <td>0.0</td>\n",
              "      <td></td>\n",
              "      <td>0.0</td>\n",
              "    </tr>\n",
              "    <tr>\n",
              "      <th>147</th>\n",
              "      <td>2020-05-18 21:44:47.061</td>\n",
              "      <td>760529fb42ad1fd50071e2ceeadaaedc</td>\n",
              "      <td>570</td>\n",
              "      <td>188.0</td>\n",
              "      <td>0.0</td>\n",
              "      <td>Язык SQL</td>\n",
              "      <td>Сбор и обработка данных с помощью краудсорсинга</td>\n",
              "      <td>Моделирование временных рядов</td>\n",
              "      <td>Промышленное программирование на языке Java</td>\n",
              "      <td>Машинное обучение 2</td>\n",
              "      <td>Компьютерные сети</td>\n",
              "      <td>Нет</td>\n",
              "      <td>0.784753</td>\n",
              "      <td>0.0</td>\n",
              "      <td></td>\n",
              "      <td>0.0</td>\n",
              "    </tr>\n",
              "    <tr>\n",
              "      <th>149</th>\n",
              "      <td>2020-05-18 21:47:05.660</td>\n",
              "      <td>9fa4bc4eb50e574e88b670a86781860b</td>\n",
              "      <td>600</td>\n",
              "      <td>188.0</td>\n",
              "      <td>0.0</td>\n",
              "      <td>Язык SQL</td>\n",
              "      <td>Высокопроизводительные вычисления</td>\n",
              "      <td>Сбор и обработка данных с помощью краудсорсинга</td>\n",
              "      <td>Промышленное программирование на языке Java</td>\n",
              "      <td>Компьютерные сети</td>\n",
              "      <td>Машинное обучение 2</td>\n",
              "      <td>Нет</td>\n",
              "      <td>0.650224</td>\n",
              "      <td>0.0</td>\n",
              "      <td></td>\n",
              "      <td>0.0</td>\n",
              "    </tr>\n",
              "    <tr>\n",
              "      <th>150</th>\n",
              "      <td>2020-05-18 21:49:22.233</td>\n",
              "      <td>f8fab519d78047712c06798c8b7fe38f</td>\n",
              "      <td>561</td>\n",
              "      <td>185.0</td>\n",
              "      <td>1.0</td>\n",
              "      <td>Моделирование временных рядов</td>\n",
              "      <td>Теория баз данных</td>\n",
              "      <td>Язык SQL</td>\n",
              "      <td>Промышленное программирование на языке Java</td>\n",
              "      <td>Машинное обучение 2</td>\n",
              "      <td>Компьютерные сети</td>\n",
              "      <td>Нет</td>\n",
              "      <td>0.822870</td>\n",
              "      <td>0.0</td>\n",
              "      <td></td>\n",
              "      <td>0.0</td>\n",
              "    </tr>\n",
              "    <tr>\n",
              "      <th>152</th>\n",
              "      <td>2020-05-18 21:51:52.845</td>\n",
              "      <td>9015b809a29fb65ce23d7addf16d770d</td>\n",
              "      <td>665</td>\n",
              "      <td>188.0</td>\n",
              "      <td>1.0</td>\n",
              "      <td>Язык SQL</td>\n",
              "      <td>Моделирование временных рядов</td>\n",
              "      <td>Матричные вычисления</td>\n",
              "      <td>Машинное обучение 2</td>\n",
              "      <td>Промышленное программирование на языке Java</td>\n",
              "      <td>Компьютерные сети</td>\n",
              "      <td>Нет</td>\n",
              "      <td>0.338565</td>\n",
              "      <td>0.0</td>\n",
              "      <td></td>\n",
              "      <td>0.0</td>\n",
              "    </tr>\n",
              "    <tr>\n",
              "      <th>157</th>\n",
              "      <td>2020-05-18 21:59:29.361</td>\n",
              "      <td>f0f01fe07310ce6f403894eb624ac323</td>\n",
              "      <td>657</td>\n",
              "      <td>183.0</td>\n",
              "      <td>0.0</td>\n",
              "      <td>Высокопроизводительные вычисления</td>\n",
              "      <td>Язык SQL</td>\n",
              "      <td>Принятие решений в условиях риска и неопределё...</td>\n",
              "      <td>Промышленное программирование на языке Java</td>\n",
              "      <td>Системы баз данных</td>\n",
              "      <td>Анализ данных в бизнесе</td>\n",
              "      <td>Нет</td>\n",
              "      <td>0.381166</td>\n",
              "      <td>0.0</td>\n",
              "      <td></td>\n",
              "      <td>0.0</td>\n",
              "    </tr>\n",
              "    <tr>\n",
              "      <th>163</th>\n",
              "      <td>2020-05-18 22:09:23.107</td>\n",
              "      <td>f81cc449798c2d8971612dc9a749ad2a</td>\n",
              "      <td>637</td>\n",
              "      <td>186.0</td>\n",
              "      <td>0.0</td>\n",
              "      <td>Высокопроизводительные вычисления</td>\n",
              "      <td>Язык SQL</td>\n",
              "      <td>Моделирование временных рядов</td>\n",
              "      <td>Компьютерные сети</td>\n",
              "      <td>Анализ данных в бизнесе</td>\n",
              "      <td>Дискретная оптимизация</td>\n",
              "      <td>Нет</td>\n",
              "      <td>0.470852</td>\n",
              "      <td>0.0</td>\n",
              "      <td></td>\n",
              "      <td>0.0</td>\n",
              "    </tr>\n",
              "    <tr>\n",
              "      <th>164</th>\n",
              "      <td>2020-05-18 22:09:59.005</td>\n",
              "      <td>dbcac463fe0b6294743107a9e74356c5</td>\n",
              "      <td>525</td>\n",
              "      <td>186.0</td>\n",
              "      <td>0.0</td>\n",
              "      <td>Сбор и обработка данных с помощью краудсорсинга</td>\n",
              "      <td>Безопасность компьютерных систем</td>\n",
              "      <td>Моделирование временных рядов</td>\n",
              "      <td>Машинное обучение 2</td>\n",
              "      <td>Компьютерные сети</td>\n",
              "      <td>Промышленное программирование на языке Java</td>\n",
              "      <td>Нет</td>\n",
              "      <td>0.955157</td>\n",
              "      <td>0.0</td>\n",
              "      <td></td>\n",
              "      <td>0.0</td>\n",
              "    </tr>\n",
              "    <tr>\n",
              "      <th>170</th>\n",
              "      <td>2020-05-18 22:29:14.162</td>\n",
              "      <td>40b18d40197e3db66312a026e06b8ff1</td>\n",
              "      <td>515</td>\n",
              "      <td>188.0</td>\n",
              "      <td>0.0</td>\n",
              "      <td>Безопасность компьютерных систем</td>\n",
              "      <td>Язык SQL</td>\n",
              "      <td>Сбор и обработка данных с помощью краудсорсинга</td>\n",
              "      <td>Промышленное программирование на языке Java</td>\n",
              "      <td>Компьютерные сети</td>\n",
              "      <td>Анализ данных в бизнесе</td>\n",
              "      <td>Нет</td>\n",
              "      <td>0.986547</td>\n",
              "      <td>0.0</td>\n",
              "      <td></td>\n",
              "      <td>0.0</td>\n",
              "    </tr>\n",
              "    <tr>\n",
              "      <th>176</th>\n",
              "      <td>2020-05-18 22:51:34.323</td>\n",
              "      <td>8aa0f1b7331b49464174b02cd693be52</td>\n",
              "      <td>567</td>\n",
              "      <td>187.0</td>\n",
              "      <td>0.0</td>\n",
              "      <td>Безопасность компьютерных систем</td>\n",
              "      <td>Язык SQL</td>\n",
              "      <td>Теория баз данных</td>\n",
              "      <td>Компьютерные сети</td>\n",
              "      <td>Промышленное программирование на языке Java</td>\n",
              "      <td>Системы баз данных</td>\n",
              "      <td>Нет</td>\n",
              "      <td>0.795964</td>\n",
              "      <td>0.0</td>\n",
              "      <td></td>\n",
              "      <td>0.0</td>\n",
              "    </tr>\n",
              "    <tr>\n",
              "      <th>188</th>\n",
              "      <td>2020-05-18 23:25:19.491</td>\n",
              "      <td>a1184a8dbbf9a7418b634339bed7e9b1</td>\n",
              "      <td>629</td>\n",
              "      <td>183.0</td>\n",
              "      <td>0.0</td>\n",
              "      <td>Сбор и обработка данных с помощью краудсорсинга</td>\n",
              "      <td>Язык SQL</td>\n",
              "      <td>Безопасность компьютерных систем</td>\n",
              "      <td>Компьютерные сети</td>\n",
              "      <td>Промышленное программирование на языке Java</td>\n",
              "      <td>Системы баз данных</td>\n",
              "      <td>Нет</td>\n",
              "      <td>0.506726</td>\n",
              "      <td>0.0</td>\n",
              "      <td></td>\n",
              "      <td>0.0</td>\n",
              "    </tr>\n",
              "    <tr>\n",
              "      <th>192</th>\n",
              "      <td>2020-05-18 23:35:28.235</td>\n",
              "      <td>86c24daaa62246142d46ee58534a65e0</td>\n",
              "      <td>530</td>\n",
              "      <td>184.0</td>\n",
              "      <td>0.0</td>\n",
              "      <td>Сбор и обработка данных с помощью краудсорсинга</td>\n",
              "      <td>Моделирование временных рядов</td>\n",
              "      <td>Теория баз данных</td>\n",
              "      <td>Анализ данных в бизнесе</td>\n",
              "      <td>Численные методы</td>\n",
              "      <td>Системы баз данных</td>\n",
              "      <td>Нет</td>\n",
              "      <td>0.939462</td>\n",
              "      <td>0.0</td>\n",
              "      <td></td>\n",
              "      <td>0.0</td>\n",
              "    </tr>\n",
              "    <tr>\n",
              "      <th>199</th>\n",
              "      <td>2020-05-18 23:47:37.254</td>\n",
              "      <td>b75b5f8abebf7faf4adbb6247d6d03bb</td>\n",
              "      <td>590</td>\n",
              "      <td>184.0</td>\n",
              "      <td>1.0</td>\n",
              "      <td>Безопасность компьютерных систем</td>\n",
              "      <td>Statistical Learning Theory</td>\n",
              "      <td>Сбор и обработка данных с помощью краудсорсинга</td>\n",
              "      <td>Анализ данных в бизнесе</td>\n",
              "      <td>Компьютерные сети</td>\n",
              "      <td>Машинное обучение 2</td>\n",
              "      <td>Нет</td>\n",
              "      <td>0.695067</td>\n",
              "      <td>0.0</td>\n",
              "      <td></td>\n",
              "      <td>0.0</td>\n",
              "    </tr>\n",
              "    <tr>\n",
              "      <th>202</th>\n",
              "      <td>2020-05-18 23:53:18.550</td>\n",
              "      <td>d5557a9bcd58a786fa8d5aab48b82ddf</td>\n",
              "      <td>718</td>\n",
              "      <td>186.0</td>\n",
              "      <td>0.0</td>\n",
              "      <td>Безопасность компьютерных систем</td>\n",
              "      <td>Моделирование временных рядов</td>\n",
              "      <td>Язык SQL</td>\n",
              "      <td>Компьютерные сети</td>\n",
              "      <td>Промышленное программирование на языке Java</td>\n",
              "      <td>Дискретная оптимизация</td>\n",
              "      <td>Нет</td>\n",
              "      <td>0.125561</td>\n",
              "      <td>0.0</td>\n",
              "      <td></td>\n",
              "      <td>1.0</td>\n",
              "    </tr>\n",
              "    <tr>\n",
              "      <th>204</th>\n",
              "      <td>2020-05-18 23:55:41.196</td>\n",
              "      <td>47e2d8bbb630bc2d9b3fbf98fe77cffb</td>\n",
              "      <td>616</td>\n",
              "      <td>188.0</td>\n",
              "      <td>0.0</td>\n",
              "      <td>Сбор и обработка данных с помощью краудсорсинга</td>\n",
              "      <td>Язык SQL</td>\n",
              "      <td>Высокопроизводительные вычисления</td>\n",
              "      <td>Компьютерные сети</td>\n",
              "      <td>Промышленное программирование на языке Java</td>\n",
              "      <td>Машинное обучение 2</td>\n",
              "      <td>Нет</td>\n",
              "      <td>0.576233</td>\n",
              "      <td>0.0</td>\n",
              "      <td></td>\n",
              "      <td>0.0</td>\n",
              "    </tr>\n",
              "    <tr>\n",
              "      <th>206</th>\n",
              "      <td>2020-05-18 23:59:29.314</td>\n",
              "      <td>f7f123322f77fd451a30ed4979c323fc</td>\n",
              "      <td>578</td>\n",
              "      <td>185.0</td>\n",
              "      <td>0.0</td>\n",
              "      <td>Язык SQL</td>\n",
              "      <td>Безопасность компьютерных систем</td>\n",
              "      <td>Теория баз данных</td>\n",
              "      <td>Промышленное программирование на языке Java</td>\n",
              "      <td>Компьютерные сети</td>\n",
              "      <td>Системы баз данных</td>\n",
              "      <td>Нет</td>\n",
              "      <td>0.748879</td>\n",
              "      <td>0.0</td>\n",
              "      <td></td>\n",
              "      <td>0.0</td>\n",
              "    </tr>\n",
              "    <tr>\n",
              "      <th>207</th>\n",
              "      <td>2020-05-19 00:00:51.191</td>\n",
              "      <td>840e108d7366fbf4f985f267c74ad523</td>\n",
              "      <td>675</td>\n",
              "      <td>188.0</td>\n",
              "      <td>0.0</td>\n",
              "      <td>Высокопроизводительные вычисления</td>\n",
              "      <td>Сбор и обработка данных с помощью краудсорсинга</td>\n",
              "      <td>Язык SQL</td>\n",
              "      <td>Компьютерные сети</td>\n",
              "      <td>Промышленное программирование на языке Java</td>\n",
              "      <td>Машинное обучение 2</td>\n",
              "      <td>Нет</td>\n",
              "      <td>0.291480</td>\n",
              "      <td>0.0</td>\n",
              "      <td></td>\n",
              "      <td>0.0</td>\n",
              "    </tr>\n",
              "    <tr>\n",
              "      <th>211</th>\n",
              "      <td>2020-05-19 00:23:18.680</td>\n",
              "      <td>c7f617262a8d9350bcbba27f6d65d86a</td>\n",
              "      <td>587</td>\n",
              "      <td>181.0</td>\n",
              "      <td>0.0</td>\n",
              "      <td>Высокопроизводительные вычисления</td>\n",
              "      <td>Безопасность компьютерных систем</td>\n",
              "      <td>Язык SQL</td>\n",
              "      <td>Машинное обучение 2</td>\n",
              "      <td>Машинное обучение 2</td>\n",
              "      <td>Компьютерные сети</td>\n",
              "      <td>Нет</td>\n",
              "      <td>0.708520</td>\n",
              "      <td>0.0</td>\n",
              "      <td></td>\n",
              "      <td>0.0</td>\n",
              "    </tr>\n",
              "    <tr>\n",
              "      <th>212</th>\n",
              "      <td>2020-05-19 00:23:26.728</td>\n",
              "      <td>bbc73542db4946bde4d115b4dd944427</td>\n",
              "      <td>609</td>\n",
              "      <td>181.0</td>\n",
              "      <td>0.0</td>\n",
              "      <td>Высокопроизводительные вычисления</td>\n",
              "      <td>Безопасность компьютерных систем</td>\n",
              "      <td>Язык SQL</td>\n",
              "      <td>Машинное обучение 2</td>\n",
              "      <td>Компьютерные сети</td>\n",
              "      <td>Дискретная оптимизация</td>\n",
              "      <td>Нет</td>\n",
              "      <td>0.609865</td>\n",
              "      <td>0.0</td>\n",
              "      <td></td>\n",
              "      <td>0.0</td>\n",
              "    </tr>\n",
              "    <tr>\n",
              "      <th>221</th>\n",
              "      <td>2020-05-24 01:21:31.946</td>\n",
              "      <td>04bcb5c9d23813ffa940e1febb27fadc</td>\n",
              "      <td>646</td>\n",
              "      <td>186.0</td>\n",
              "      <td>0.0</td>\n",
              "      <td>Теория баз данных</td>\n",
              "      <td>Высокопроизводительные вычисления</td>\n",
              "      <td>Безопасность компьютерных систем</td>\n",
              "      <td>Компьютерные сети</td>\n",
              "      <td>Дискретная оптимизация</td>\n",
              "      <td>Машинное обучение 2</td>\n",
              "      <td>Нет</td>\n",
              "      <td>0.430493</td>\n",
              "      <td>0.0</td>\n",
              "      <td></td>\n",
              "      <td>0.0</td>\n",
              "    </tr>\n",
              "    <tr>\n",
              "      <th>259</th>\n",
              "      <td>2020-05-17 15:55:40.828</td>\n",
              "      <td>906692ccd33f59058380aac1598c5480</td>\n",
              "      <td>1143</td>\n",
              "      <td>0.0</td>\n",
              "      <td>0.0</td>\n",
              "      <td>Анализ неструктурированных данных</td>\n",
              "      <td>Байесовские методы машинного обучения</td>\n",
              "      <td>Глубинное обучение в обработке звука</td>\n",
              "      <td>Обучение с подкреплением</td>\n",
              "      <td>Генеративные модели в машинном обучении</td>\n",
              "      <td>Компьютерное зрение</td>\n",
              "      <td>Нет</td>\n",
              "      <td>0.547101</td>\n",
              "      <td>172.0</td>\n",
              "      <td>DevOps</td>\n",
              "      <td>0.0</td>\n",
              "    </tr>\n",
              "    <tr>\n",
              "      <th>302</th>\n",
              "      <td>2020-05-18 20:23:36.111</td>\n",
              "      <td>9a66d84568b8017d98eb2e678b57296b</td>\n",
              "      <td>1205</td>\n",
              "      <td>0.0</td>\n",
              "      <td>0.0</td>\n",
              "      <td>Анализ неструктурированных данных</td>\n",
              "      <td>Глубинное обучение в обработке звука</td>\n",
              "      <td>Байесовские методы машинного обучения</td>\n",
              "      <td>Обучение с подкреплением</td>\n",
              "      <td>Генеративные модели в машинном обучении</td>\n",
              "      <td>Компьютерное зрение</td>\n",
              "      <td>Нет</td>\n",
              "      <td>0.293478</td>\n",
              "      <td>171.0</td>\n",
              "      <td>DevOps</td>\n",
              "      <td>0.0</td>\n",
              "    </tr>\n",
              "    <tr>\n",
              "      <th>307</th>\n",
              "      <td>2020-05-18 21:00:45.274</td>\n",
              "      <td>ffc04c64d068f8d85e4dc44e7f297ecc</td>\n",
              "      <td>1163</td>\n",
              "      <td>0.0</td>\n",
              "      <td>0.0</td>\n",
              "      <td>Байесовские методы машинного обучения</td>\n",
              "      <td>Statistical Learning Theory</td>\n",
              "      <td>Глубинное обучение в обработке звука</td>\n",
              "      <td>Обучение с подкреплением</td>\n",
              "      <td>Генеративные модели в машинном обучении</td>\n",
              "      <td>Компьютерное зрение</td>\n",
              "      <td>Нет</td>\n",
              "      <td>0.471014</td>\n",
              "      <td>171.0</td>\n",
              "      <td>Соревновательный анализ данных</td>\n",
              "      <td>0.0</td>\n",
              "    </tr>\n",
              "    <tr>\n",
              "      <th>325</th>\n",
              "      <td>2020-05-18 22:40:28.531</td>\n",
              "      <td>d9c068e5578253c2b0721558dd0813e1</td>\n",
              "      <td>1075</td>\n",
              "      <td>0.0</td>\n",
              "      <td>0.0</td>\n",
              "      <td>Анализ неструктурированных данных</td>\n",
              "      <td>Statistical Learning Theory</td>\n",
              "      <td>Принятие решений в условиях риска и неопределё...</td>\n",
              "      <td>Конфликты и кооперация</td>\n",
              "      <td>Обучение с подкреплением</td>\n",
              "      <td>Символьные вычисления</td>\n",
              "      <td>Нет</td>\n",
              "      <td>0.807971</td>\n",
              "      <td>174.0</td>\n",
              "      <td>DevOps</td>\n",
              "      <td>0.0</td>\n",
              "    </tr>\n",
              "    <tr>\n",
              "      <th>327</th>\n",
              "      <td>2020-05-18 22:43:00.850</td>\n",
              "      <td>dc7f705ae386b0457542a833571d51d0</td>\n",
              "      <td>1307</td>\n",
              "      <td>0.0</td>\n",
              "      <td>0.0</td>\n",
              "      <td>Высокопроизводительные вычисления</td>\n",
              "      <td>Моделирование временных рядов</td>\n",
              "      <td>Байесовские методы машинного обучения</td>\n",
              "      <td>Проектирование и разработка высоконагруженных ...</td>\n",
              "      <td>Методы сжатия и передачи медиаданных</td>\n",
              "      <td>Обучение с подкреплением</td>\n",
              "      <td>Нет</td>\n",
              "      <td>0.043478</td>\n",
              "      <td>173.0</td>\n",
              "      <td>DevOps</td>\n",
              "      <td>0.0</td>\n",
              "    </tr>\n",
              "    <tr>\n",
              "      <th>331</th>\n",
              "      <td>2020-05-18 22:52:40.757</td>\n",
              "      <td>b243a77fa09641c7f0a0b7dfb7a541df</td>\n",
              "      <td>1294</td>\n",
              "      <td>0.0</td>\n",
              "      <td>0.0</td>\n",
              "      <td>Высокопроизводительные вычисления</td>\n",
              "      <td>Безопасность компьютерных систем</td>\n",
              "      <td>Моделирование временных рядов</td>\n",
              "      <td>Методы сжатия и передачи медиаданных</td>\n",
              "      <td>Проектирование и разработка высоконагруженных ...</td>\n",
              "      <td>Численные методы</td>\n",
              "      <td>Нет</td>\n",
              "      <td>0.065217</td>\n",
              "      <td>175.0</td>\n",
              "      <td>DevOps</td>\n",
              "      <td>0.0</td>\n",
              "    </tr>\n",
              "    <tr>\n",
              "      <th>336</th>\n",
              "      <td>2020-05-18 23:01:42.225</td>\n",
              "      <td>842a87d59de90b711fe3266830fe608c</td>\n",
              "      <td>1188</td>\n",
              "      <td>0.0</td>\n",
              "      <td>0.0</td>\n",
              "      <td>Высокопроизводительные вычисления</td>\n",
              "      <td>Безопасность компьютерных систем</td>\n",
              "      <td>Безопасность компьютерных систем</td>\n",
              "      <td>Проектирование и разработка высоконагруженных ...</td>\n",
              "      <td>Методы сжатия и передачи медиаданных</td>\n",
              "      <td>Компьютерное зрение</td>\n",
              "      <td>Нет</td>\n",
              "      <td>0.384058</td>\n",
              "      <td>175.0</td>\n",
              "      <td>DevOps</td>\n",
              "      <td>0.0</td>\n",
              "    </tr>\n",
              "    <tr>\n",
              "      <th>342</th>\n",
              "      <td>2020-05-18 23:24:48.715</td>\n",
              "      <td>50f6d5b6a7fd6c8b1b8959f9ce1f808d</td>\n",
              "      <td>1086</td>\n",
              "      <td>0.0</td>\n",
              "      <td>0.0</td>\n",
              "      <td>Анализ неструктурированных данных</td>\n",
              "      <td>Глубинное обучение в обработке звука</td>\n",
              "      <td>Моделирование временных рядов</td>\n",
              "      <td>Обучение с подкреплением</td>\n",
              "      <td>Методы сжатия и передачи медиаданных</td>\n",
              "      <td>Проектирование и разработка высоконагруженных ...</td>\n",
              "      <td>Нет</td>\n",
              "      <td>0.764493</td>\n",
              "      <td>174.0</td>\n",
              "      <td>DevOps</td>\n",
              "      <td>0.0</td>\n",
              "    </tr>\n",
              "    <tr>\n",
              "      <th>343</th>\n",
              "      <td>2020-05-18 23:25:14.521</td>\n",
              "      <td>31e38f7596f83b72ebba1c6fc6b7a590</td>\n",
              "      <td>1220</td>\n",
              "      <td>0.0</td>\n",
              "      <td>0.0</td>\n",
              "      <td>Безопасность компьютерных систем</td>\n",
              "      <td>Высокопроизводительные вычисления</td>\n",
              "      <td>Сбор и обработка данных с помощью краудсорсинга</td>\n",
              "      <td>Методы сжатия и передачи медиаданных</td>\n",
              "      <td>Проектирование и разработка высоконагруженных ...</td>\n",
              "      <td>Конфликты и кооперация</td>\n",
              "      <td>Нет</td>\n",
              "      <td>0.239130</td>\n",
              "      <td>176.0</td>\n",
              "      <td>DevOps</td>\n",
              "      <td>0.0</td>\n",
              "    </tr>\n",
              "    <tr>\n",
              "      <th>348</th>\n",
              "      <td>2020-05-18 23:54:25.376</td>\n",
              "      <td>cef24632489091cb8c085688b7d78dec</td>\n",
              "      <td>1095</td>\n",
              "      <td>0.0</td>\n",
              "      <td>0.0</td>\n",
              "      <td>Глубинное обучение в обработке звука</td>\n",
              "      <td>Сбор и обработка данных с помощью краудсорсинга</td>\n",
              "      <td>Анализ неструктурированных данных</td>\n",
              "      <td>Обучение с подкреплением</td>\n",
              "      <td>Генеративные модели в машинном обучении</td>\n",
              "      <td>Компьютерное зрение</td>\n",
              "      <td>Нет</td>\n",
              "      <td>0.717391</td>\n",
              "      <td>172.0</td>\n",
              "      <td>Соревновательный анализ данных</td>\n",
              "      <td>0.0</td>\n",
              "    </tr>\n",
              "    <tr>\n",
              "      <th>354</th>\n",
              "      <td>2020-05-19 08:55:39.509</td>\n",
              "      <td>98c5a2548d93f26bd4195466e93178b3</td>\n",
              "      <td>1035</td>\n",
              "      <td>0.0</td>\n",
              "      <td>0.0</td>\n",
              "      <td>Байесовские методы машинного обучения</td>\n",
              "      <td>Глубинное обучение в обработке звука</td>\n",
              "      <td>Statistical Learning Theory</td>\n",
              "      <td>Обучение с подкреплением</td>\n",
              "      <td>Генеративные модели в машинном обучении</td>\n",
              "      <td>Методы сжатия и передачи медиаданных</td>\n",
              "      <td>Нет</td>\n",
              "      <td>0.905797</td>\n",
              "      <td>171.0</td>\n",
              "      <td>DevOps</td>\n",
              "      <td>0.0</td>\n",
              "    </tr>\n",
              "  </tbody>\n",
              "</table>\n",
              "</div>\n",
              "      <button class=\"colab-df-convert\" onclick=\"convertToInteractive('df-d15113b1-844d-4fe5-9713-2d463b4593ec')\"\n",
              "              title=\"Convert this dataframe to an interactive table.\"\n",
              "              style=\"display:none;\">\n",
              "        \n",
              "  <svg xmlns=\"http://www.w3.org/2000/svg\" height=\"24px\"viewBox=\"0 0 24 24\"\n",
              "       width=\"24px\">\n",
              "    <path d=\"M0 0h24v24H0V0z\" fill=\"none\"/>\n",
              "    <path d=\"M18.56 5.44l.94 2.06.94-2.06 2.06-.94-2.06-.94-.94-2.06-.94 2.06-2.06.94zm-11 1L8.5 8.5l.94-2.06 2.06-.94-2.06-.94L8.5 2.5l-.94 2.06-2.06.94zm10 10l.94 2.06.94-2.06 2.06-.94-2.06-.94-.94-2.06-.94 2.06-2.06.94z\"/><path d=\"M17.41 7.96l-1.37-1.37c-.4-.4-.92-.59-1.43-.59-.52 0-1.04.2-1.43.59L10.3 9.45l-7.72 7.72c-.78.78-.78 2.05 0 2.83L4 21.41c.39.39.9.59 1.41.59.51 0 1.02-.2 1.41-.59l7.78-7.78 2.81-2.81c.8-.78.8-2.07 0-2.86zM5.41 20L4 18.59l7.72-7.72 1.47 1.35L5.41 20z\"/>\n",
              "  </svg>\n",
              "      </button>\n",
              "      \n",
              "  <style>\n",
              "    .colab-df-container {\n",
              "      display:flex;\n",
              "      flex-wrap:wrap;\n",
              "      gap: 12px;\n",
              "    }\n",
              "\n",
              "    .colab-df-convert {\n",
              "      background-color: #E8F0FE;\n",
              "      border: none;\n",
              "      border-radius: 50%;\n",
              "      cursor: pointer;\n",
              "      display: none;\n",
              "      fill: #1967D2;\n",
              "      height: 32px;\n",
              "      padding: 0 0 0 0;\n",
              "      width: 32px;\n",
              "    }\n",
              "\n",
              "    .colab-df-convert:hover {\n",
              "      background-color: #E2EBFA;\n",
              "      box-shadow: 0px 1px 2px rgba(60, 64, 67, 0.3), 0px 1px 3px 1px rgba(60, 64, 67, 0.15);\n",
              "      fill: #174EA6;\n",
              "    }\n",
              "\n",
              "    [theme=dark] .colab-df-convert {\n",
              "      background-color: #3B4455;\n",
              "      fill: #D2E3FC;\n",
              "    }\n",
              "\n",
              "    [theme=dark] .colab-df-convert:hover {\n",
              "      background-color: #434B5C;\n",
              "      box-shadow: 0px 1px 3px 1px rgba(0, 0, 0, 0.15);\n",
              "      filter: drop-shadow(0px 1px 2px rgba(0, 0, 0, 0.3));\n",
              "      fill: #FFFFFF;\n",
              "    }\n",
              "  </style>\n",
              "\n",
              "      <script>\n",
              "        const buttonEl =\n",
              "          document.querySelector('#df-d15113b1-844d-4fe5-9713-2d463b4593ec button.colab-df-convert');\n",
              "        buttonEl.style.display =\n",
              "          google.colab.kernel.accessAllowed ? 'block' : 'none';\n",
              "\n",
              "        async function convertToInteractive(key) {\n",
              "          const element = document.querySelector('#df-d15113b1-844d-4fe5-9713-2d463b4593ec');\n",
              "          const dataTable =\n",
              "            await google.colab.kernel.invokeFunction('convertToInteractive',\n",
              "                                                     [key], {});\n",
              "          if (!dataTable) return;\n",
              "\n",
              "          const docLinkHtml = 'Like what you see? Visit the ' +\n",
              "            '<a target=\"_blank\" href=https://colab.research.google.com/notebooks/data_table.ipynb>data table notebook</a>'\n",
              "            + ' to learn more about interactive tables.';\n",
              "          element.innerHTML = '';\n",
              "          dataTable['output_type'] = 'display_data';\n",
              "          await google.colab.output.renderOutput(dataTable, element);\n",
              "          const docLink = document.createElement('div');\n",
              "          docLink.innerHTML = docLinkHtml;\n",
              "          element.appendChild(docLink);\n",
              "        }\n",
              "      </script>\n",
              "    </div>\n",
              "  </div>\n",
              "  "
            ]
          },
          "metadata": {},
          "execution_count": 1777
        }
      ]
    },
    {
      "cell_type": "markdown",
      "source": [
        "Заметим, что для каждого id отправки форм отсорчены по времени (каждая следующая посылка для отдельного студента находится в таблице ниже).\n",
        "\n",
        "Значит, для того, чтобы для каждого id оставить только последнюю версию, мы можем оставить просто его последнее вхождение по таблице с помощью drop_duplicates."
      ],
      "metadata": {
        "id": "NsG2jfuyQ4mi"
      }
    },
    {
      "cell_type": "code",
      "source": [
        "df.shape\n",
        "# сохраним размерность таблички, чтоб понять, сколько строк удалилось"
      ],
      "metadata": {
        "colab": {
          "base_uri": "https://localhost:8080/"
        },
        "id": "5IwQlghES6LH",
        "outputId": "2cd1c554-d1d4-43c0-8b17-4b847e14180d"
      },
      "execution_count": null,
      "outputs": [
        {
          "output_type": "execute_result",
          "data": {
            "text/plain": [
              "(361, 16)"
            ]
          },
          "metadata": {},
          "execution_count": 1778
        }
      ]
    },
    {
      "cell_type": "code",
      "source": [
        "df.drop_duplicates(subset='id', keep='last', inplace=True)"
      ],
      "metadata": {
        "id": "MnBn9UuYRbH3"
      },
      "execution_count": null,
      "outputs": []
    },
    {
      "cell_type": "code",
      "source": [
        "df.shape\n",
        "# 361 - 347 = 14 (удалили 14 строк)"
      ],
      "metadata": {
        "colab": {
          "base_uri": "https://localhost:8080/"
        },
        "id": "81MLYCn3TB7R",
        "outputId": "f07df513-d65d-479d-aedc-d4ecb699b3ba"
      },
      "execution_count": null,
      "outputs": [
        {
          "output_type": "execute_result",
          "data": {
            "text/plain": [
              "(347, 16)"
            ]
          },
          "metadata": {},
          "execution_count": 1780
        }
      ]
    },
    {
      "cell_type": "markdown",
      "metadata": {
        "id": "Jhk3tVpVhLuy"
      },
      "source": [
        "#### 4. [0.5 балла] Ответьте на вопросы:\n",
        "1. Сколько было заявок из групп 18-го года набора, а сколько из групп 17-го года?\n",
        "2. Есть ли студенты с равными перцентилями (среди объединенных данных, ведь конкурс на каждый курс общий)?"
      ]
    },
    {
      "cell_type": "code",
      "execution_count": null,
      "metadata": {
        "id": "bsn4vn8RhLuy",
        "colab": {
          "base_uri": "https://localhost:8080/"
        },
        "outputId": "efdf7a80-68c3-4a77-adea-a3a5d3b08e6d"
      },
      "outputs": [
        {
          "output_type": "stream",
          "name": "stdout",
          "text": [
            "Количество заявок из групп 17-го года: 134\n",
            "Количество заявок из групп 18-го года: 213\n"
          ]
        }
      ],
      "source": [
        "# your code\n",
        "print('Количество заявок из групп 17-го года:', df[df['18_group'] == 0].shape[0])\n",
        "# если в табличке значение столбца 18_group равно 0 (раньше было NaN), значит этот человек из группы 17-го года\n",
        "print('Количество заявок из групп 18-го года:', df[df['17_group'] == 0].shape[0])\n",
        "# аналогично"
      ]
    },
    {
      "cell_type": "code",
      "source": [
        "print(df.shape[0] - df['percentile'].unique().shape[0])"
      ],
      "metadata": {
        "colab": {
          "base_uri": "https://localhost:8080/"
        },
        "id": "hhOzs70Vm5D7",
        "outputId": "5821b0da-d96a-406c-e53d-34fcd18fc424"
      },
      "execution_count": null,
      "outputs": [
        {
          "output_type": "stream",
          "name": "stdout",
          "text": [
            "1\n"
          ]
        }
      ]
    },
    {
      "cell_type": "markdown",
      "source": [
        "Разность общего количества строк таблицы и количества строк, где перцентили уникальны, даёт нам количество людей с одинаковым перцентилем => такие люди есть."
      ],
      "metadata": {
        "id": "EovKcKWtoAnH"
      }
    },
    {
      "cell_type": "markdown",
      "metadata": {
        "id": "IlzHp3HVhLuz"
      },
      "source": [
        "#### 5. [0.5 балла] Какие  blended-курсы для четверокурсников существуют? На какой blended-курс записалось наибольшее количество студентов? На каком из blended-курсов собрались студенты с самым высоким средним рейтингом (выведите этот курс и количество студентов на нем)? "
      ]
    },
    {
      "cell_type": "code",
      "execution_count": null,
      "metadata": {
        "id": "j_BRWerHhLu0",
        "colab": {
          "base_uri": "https://localhost:8080/"
        },
        "outputId": "ec7408ed-ccda-4459-b84d-99abd95b3323"
      },
      "outputs": [
        {
          "output_type": "execute_result",
          "data": {
            "text/plain": [
              "array(['DevOps', 'Введение в дифференциальную геометрию',\n",
              "       'Соревновательный анализ данных'], dtype=object)"
            ]
          },
          "metadata": {},
          "execution_count": 1783
        }
      ],
      "source": [
        "# your code\n",
        "df[df['blended'] != ' '].blended.unique()"
      ]
    },
    {
      "cell_type": "code",
      "source": [
        "print('Количество студентов на каждом из курсов:')\n",
        "print(df[df['blended'] != ' '].blended.value_counts())\n",
        "print('Максиимальное количество студентов на ', df[df['blended'] != ' '].blended.value_counts().idxmax())"
      ],
      "metadata": {
        "colab": {
          "base_uri": "https://localhost:8080/"
        },
        "id": "rKp0C6N7qp6Z",
        "outputId": "f0932fa4-3c38-407d-ab27-5860936ac5e5"
      },
      "execution_count": null,
      "outputs": [
        {
          "output_type": "stream",
          "name": "stdout",
          "text": [
            "Количество студентов на каждом из курсов:\n",
            "DevOps                                   87\n",
            "Соревновательный анализ данных           32\n",
            "Введение в дифференциальную геометрию    15\n",
            "Name: blended, dtype: int64\n",
            "Максиимальное количество студентов на  DevOps\n"
          ]
        }
      ]
    },
    {
      "cell_type": "code",
      "source": [
        "print('Самый высокий средний рейтинг на: ', df[df['blended'] != ' '].groupby('blended').mean().rating.idxmax())\n",
        "print('Количество студентов: ', df[df['blended'] == 'Введение в дифференциальную геометрию'].value_counts().shape[0])"
      ],
      "metadata": {
        "colab": {
          "base_uri": "https://localhost:8080/"
        },
        "id": "QkJ9Ztdzt46k",
        "outputId": "75208efd-2e74-4caa-eed2-ddd53128f42d"
      },
      "execution_count": null,
      "outputs": [
        {
          "output_type": "stream",
          "name": "stdout",
          "text": [
            "Самый высокий средний рейтинг на:  Введение в дифференциальную геометрию\n",
            "Количество студентов:  15\n"
          ]
        }
      ]
    },
    {
      "cell_type": "markdown",
      "metadata": {
        "id": "IU_FLt8HhLu0"
      },
      "source": [
        "#### 6. [1 балл] Выясните, есть ли студенты с абсолютно одинаковыми предпочтениями по всем курсам.\n",
        "\n",
        "Для этого сформируйте таблицу, где для каждого возможного набора курсов посчитано количество студентов, выбравших такой набор, и оставьте только строки где это количество больше 1.\n",
        "\n",
        "В данном случае набор курсов задается упорядоченным множеством ('fall_1', 'fall_2', 'fall_3', 'spring_1', 'spring_2', 'spring_3', 'blended'). Элемент blended будет нулевым для 3-го курса."
      ]
    },
    {
      "cell_type": "code",
      "execution_count": null,
      "metadata": {
        "id": "BBDlR1mFhLu0",
        "colab": {
          "base_uri": "https://localhost:8080/"
        },
        "outputId": "c22a6b52-976b-48f9-c822-ffd37a733dad"
      },
      "outputs": [
        {
          "output_type": "stream",
          "name": "stdout",
          "text": [
            "15 повторяющихся наборов курсов:\n"
          ]
        },
        {
          "output_type": "execute_result",
          "data": {
            "text/plain": [
              "                                                                                                                                                                                                                                                                                                    count\n",
              "fall_1                                          fall_2                                          fall_3                                          spring_1                                           spring_2                                    spring_3                                    blended       \n",
              "Statistical Learning Theory                     Анализ неструктурированных данных               Сбор и обработка данных с помощью краудсорсинга Обучение с подкреплением                           Конфликты и кооперация                      Компьютерное зрение                         DevOps       2\n",
              "Байесовские методы машинного обучения           Анализ неструктурированных данных               Глубинное обучение в обработке звука            Обучение с подкреплением                           Генеративные модели в машинном обучении     Компьютерное зрение                         DevOps       2\n",
              "                                                                                                Сбор и обработка данных с помощью краудсорсинга Обучение с подкреплением                           Компьютерное зрение                         Генеративные модели в машинном обучении     DevOps       2\n",
              "Безопасность компьютерных систем                Statistical Learning Theory                     Матричные вычисления                            Дискретная оптимизация                             Промышленное программирование на языке Java Дополнительные главы прикладной статистики               3\n",
              "                                                Высокопроизводительные вычисления               Анализ неструктурированных данных               Проектирование и разработка высоконагруженных с... Методы сжатия и передачи медиаданных        Конфликты и кооперация                      DevOps       2\n",
              "                                                                                                Язык SQL                                        Компьютерные сети                                  Промышленное программирование на языке Java Дискретная оптимизация                                   3\n",
              "                                                                                                                                                Промышленное программирование на языке Java        Компьютерные сети                           Системы баз данных                                       2\n",
              "                                                Матричные вычисления                            Моделирование временных рядов                   Промышленное программирование на языке Java        Компьютерные сети                           Дискретная оптимизация                                   2\n",
              "                                                Сбор и обработка данных с помощью краудсорсинга Матричные вычисления                            Компьютерные сети                                  Промышленное программирование на языке Java Анализ данных в бизнесе                                  2\n",
              "                                                Теория баз данных                               Язык SQL                                        Машинное обучение 2                                Компьютерные сети                           Промышленное программирование на языке Java              2\n",
              "Высокопроизводительные вычисления               Безопасность компьютерных систем                Сбор и обработка данных с помощью краудсорсинга Проектирование и разработка высоконагруженных с... Методы сжатия и передачи медиаданных        Компьютерное зрение                         DevOps       2\n",
              "                                                Сбор и обработка данных с помощью краудсорсинга Моделирование временных рядов                   Проектирование и разработка высоконагруженных с... Методы сжатия и передачи медиаданных        Методы сжатия и передачи медиаданных        DevOps       2\n",
              "Моделирование временных рядов                   Сбор и обработка данных с помощью краудсорсинга Безопасность компьютерных систем                Компьютерные сети                                  Дополнительные главы прикладной статистики  Системы баз данных                                       2\n",
              "Сбор и обработка данных с помощью краудсорсинга Язык SQL                                        Теория баз данных                               Промышленное программирование на языке Java        Машинное обучение 2                         Компьютерные сети                                        2\n",
              "Язык SQL                                        Высокопроизводительные вычисления               Теория баз данных                               Компьютерные сети                                  Промышленное программирование на языке Java Дискретная оптимизация                                   2"
            ],
            "text/html": [
              "\n",
              "  <div id=\"df-779abf97-14ae-4692-a542-aebbbacb2fff\">\n",
              "    <div class=\"colab-df-container\">\n",
              "      <div>\n",
              "<style scoped>\n",
              "    .dataframe tbody tr th:only-of-type {\n",
              "        vertical-align: middle;\n",
              "    }\n",
              "\n",
              "    .dataframe tbody tr th {\n",
              "        vertical-align: top;\n",
              "    }\n",
              "\n",
              "    .dataframe thead th {\n",
              "        text-align: right;\n",
              "    }\n",
              "</style>\n",
              "<table border=\"1\" class=\"dataframe\">\n",
              "  <thead>\n",
              "    <tr style=\"text-align: right;\">\n",
              "      <th></th>\n",
              "      <th></th>\n",
              "      <th></th>\n",
              "      <th></th>\n",
              "      <th></th>\n",
              "      <th></th>\n",
              "      <th></th>\n",
              "      <th>count</th>\n",
              "    </tr>\n",
              "    <tr>\n",
              "      <th>fall_1</th>\n",
              "      <th>fall_2</th>\n",
              "      <th>fall_3</th>\n",
              "      <th>spring_1</th>\n",
              "      <th>spring_2</th>\n",
              "      <th>spring_3</th>\n",
              "      <th>blended</th>\n",
              "      <th></th>\n",
              "    </tr>\n",
              "  </thead>\n",
              "  <tbody>\n",
              "    <tr>\n",
              "      <th>Statistical Learning Theory</th>\n",
              "      <th>Анализ неструктурированных данных</th>\n",
              "      <th>Сбор и обработка данных с помощью краудсорсинга</th>\n",
              "      <th>Обучение с подкреплением</th>\n",
              "      <th>Конфликты и кооперация</th>\n",
              "      <th>Компьютерное зрение</th>\n",
              "      <th>DevOps</th>\n",
              "      <td>2</td>\n",
              "    </tr>\n",
              "    <tr>\n",
              "      <th rowspan=\"2\" valign=\"top\">Байесовские методы машинного обучения</th>\n",
              "      <th rowspan=\"2\" valign=\"top\">Анализ неструктурированных данных</th>\n",
              "      <th>Глубинное обучение в обработке звука</th>\n",
              "      <th>Обучение с подкреплением</th>\n",
              "      <th>Генеративные модели в машинном обучении</th>\n",
              "      <th>Компьютерное зрение</th>\n",
              "      <th>DevOps</th>\n",
              "      <td>2</td>\n",
              "    </tr>\n",
              "    <tr>\n",
              "      <th>Сбор и обработка данных с помощью краудсорсинга</th>\n",
              "      <th>Обучение с подкреплением</th>\n",
              "      <th>Компьютерное зрение</th>\n",
              "      <th>Генеративные модели в машинном обучении</th>\n",
              "      <th>DevOps</th>\n",
              "      <td>2</td>\n",
              "    </tr>\n",
              "    <tr>\n",
              "      <th rowspan=\"7\" valign=\"top\">Безопасность компьютерных систем</th>\n",
              "      <th>Statistical Learning Theory</th>\n",
              "      <th>Матричные вычисления</th>\n",
              "      <th>Дискретная оптимизация</th>\n",
              "      <th>Промышленное программирование на языке Java</th>\n",
              "      <th>Дополнительные главы прикладной статистики</th>\n",
              "      <th></th>\n",
              "      <td>3</td>\n",
              "    </tr>\n",
              "    <tr>\n",
              "      <th rowspan=\"3\" valign=\"top\">Высокопроизводительные вычисления</th>\n",
              "      <th>Анализ неструктурированных данных</th>\n",
              "      <th>Проектирование и разработка высоконагруженных сервисов</th>\n",
              "      <th>Методы сжатия и передачи медиаданных</th>\n",
              "      <th>Конфликты и кооперация</th>\n",
              "      <th>DevOps</th>\n",
              "      <td>2</td>\n",
              "    </tr>\n",
              "    <tr>\n",
              "      <th rowspan=\"2\" valign=\"top\">Язык SQL</th>\n",
              "      <th>Компьютерные сети</th>\n",
              "      <th>Промышленное программирование на языке Java</th>\n",
              "      <th>Дискретная оптимизация</th>\n",
              "      <th></th>\n",
              "      <td>3</td>\n",
              "    </tr>\n",
              "    <tr>\n",
              "      <th>Промышленное программирование на языке Java</th>\n",
              "      <th>Компьютерные сети</th>\n",
              "      <th>Системы баз данных</th>\n",
              "      <th></th>\n",
              "      <td>2</td>\n",
              "    </tr>\n",
              "    <tr>\n",
              "      <th>Матричные вычисления</th>\n",
              "      <th>Моделирование временных рядов</th>\n",
              "      <th>Промышленное программирование на языке Java</th>\n",
              "      <th>Компьютерные сети</th>\n",
              "      <th>Дискретная оптимизация</th>\n",
              "      <th></th>\n",
              "      <td>2</td>\n",
              "    </tr>\n",
              "    <tr>\n",
              "      <th>Сбор и обработка данных с помощью краудсорсинга</th>\n",
              "      <th>Матричные вычисления</th>\n",
              "      <th>Компьютерные сети</th>\n",
              "      <th>Промышленное программирование на языке Java</th>\n",
              "      <th>Анализ данных в бизнесе</th>\n",
              "      <th></th>\n",
              "      <td>2</td>\n",
              "    </tr>\n",
              "    <tr>\n",
              "      <th>Теория баз данных</th>\n",
              "      <th>Язык SQL</th>\n",
              "      <th>Машинное обучение 2</th>\n",
              "      <th>Компьютерные сети</th>\n",
              "      <th>Промышленное программирование на языке Java</th>\n",
              "      <th></th>\n",
              "      <td>2</td>\n",
              "    </tr>\n",
              "    <tr>\n",
              "      <th rowspan=\"2\" valign=\"top\">Высокопроизводительные вычисления</th>\n",
              "      <th>Безопасность компьютерных систем</th>\n",
              "      <th>Сбор и обработка данных с помощью краудсорсинга</th>\n",
              "      <th>Проектирование и разработка высоконагруженных сервисов</th>\n",
              "      <th>Методы сжатия и передачи медиаданных</th>\n",
              "      <th>Компьютерное зрение</th>\n",
              "      <th>DevOps</th>\n",
              "      <td>2</td>\n",
              "    </tr>\n",
              "    <tr>\n",
              "      <th>Сбор и обработка данных с помощью краудсорсинга</th>\n",
              "      <th>Моделирование временных рядов</th>\n",
              "      <th>Проектирование и разработка высоконагруженных сервисов</th>\n",
              "      <th>Методы сжатия и передачи медиаданных</th>\n",
              "      <th>Методы сжатия и передачи медиаданных</th>\n",
              "      <th>DevOps</th>\n",
              "      <td>2</td>\n",
              "    </tr>\n",
              "    <tr>\n",
              "      <th>Моделирование временных рядов</th>\n",
              "      <th>Сбор и обработка данных с помощью краудсорсинга</th>\n",
              "      <th>Безопасность компьютерных систем</th>\n",
              "      <th>Компьютерные сети</th>\n",
              "      <th>Дополнительные главы прикладной статистики</th>\n",
              "      <th>Системы баз данных</th>\n",
              "      <th></th>\n",
              "      <td>2</td>\n",
              "    </tr>\n",
              "    <tr>\n",
              "      <th>Сбор и обработка данных с помощью краудсорсинга</th>\n",
              "      <th>Язык SQL</th>\n",
              "      <th>Теория баз данных</th>\n",
              "      <th>Промышленное программирование на языке Java</th>\n",
              "      <th>Машинное обучение 2</th>\n",
              "      <th>Компьютерные сети</th>\n",
              "      <th></th>\n",
              "      <td>2</td>\n",
              "    </tr>\n",
              "    <tr>\n",
              "      <th>Язык SQL</th>\n",
              "      <th>Высокопроизводительные вычисления</th>\n",
              "      <th>Теория баз данных</th>\n",
              "      <th>Компьютерные сети</th>\n",
              "      <th>Промышленное программирование на языке Java</th>\n",
              "      <th>Дискретная оптимизация</th>\n",
              "      <th></th>\n",
              "      <td>2</td>\n",
              "    </tr>\n",
              "  </tbody>\n",
              "</table>\n",
              "</div>\n",
              "      <button class=\"colab-df-convert\" onclick=\"convertToInteractive('df-779abf97-14ae-4692-a542-aebbbacb2fff')\"\n",
              "              title=\"Convert this dataframe to an interactive table.\"\n",
              "              style=\"display:none;\">\n",
              "        \n",
              "  <svg xmlns=\"http://www.w3.org/2000/svg\" height=\"24px\"viewBox=\"0 0 24 24\"\n",
              "       width=\"24px\">\n",
              "    <path d=\"M0 0h24v24H0V0z\" fill=\"none\"/>\n",
              "    <path d=\"M18.56 5.44l.94 2.06.94-2.06 2.06-.94-2.06-.94-.94-2.06-.94 2.06-2.06.94zm-11 1L8.5 8.5l.94-2.06 2.06-.94-2.06-.94L8.5 2.5l-.94 2.06-2.06.94zm10 10l.94 2.06.94-2.06 2.06-.94-2.06-.94-.94-2.06-.94 2.06-2.06.94z\"/><path d=\"M17.41 7.96l-1.37-1.37c-.4-.4-.92-.59-1.43-.59-.52 0-1.04.2-1.43.59L10.3 9.45l-7.72 7.72c-.78.78-.78 2.05 0 2.83L4 21.41c.39.39.9.59 1.41.59.51 0 1.02-.2 1.41-.59l7.78-7.78 2.81-2.81c.8-.78.8-2.07 0-2.86zM5.41 20L4 18.59l7.72-7.72 1.47 1.35L5.41 20z\"/>\n",
              "  </svg>\n",
              "      </button>\n",
              "      \n",
              "  <style>\n",
              "    .colab-df-container {\n",
              "      display:flex;\n",
              "      flex-wrap:wrap;\n",
              "      gap: 12px;\n",
              "    }\n",
              "\n",
              "    .colab-df-convert {\n",
              "      background-color: #E8F0FE;\n",
              "      border: none;\n",
              "      border-radius: 50%;\n",
              "      cursor: pointer;\n",
              "      display: none;\n",
              "      fill: #1967D2;\n",
              "      height: 32px;\n",
              "      padding: 0 0 0 0;\n",
              "      width: 32px;\n",
              "    }\n",
              "\n",
              "    .colab-df-convert:hover {\n",
              "      background-color: #E2EBFA;\n",
              "      box-shadow: 0px 1px 2px rgba(60, 64, 67, 0.3), 0px 1px 3px 1px rgba(60, 64, 67, 0.15);\n",
              "      fill: #174EA6;\n",
              "    }\n",
              "\n",
              "    [theme=dark] .colab-df-convert {\n",
              "      background-color: #3B4455;\n",
              "      fill: #D2E3FC;\n",
              "    }\n",
              "\n",
              "    [theme=dark] .colab-df-convert:hover {\n",
              "      background-color: #434B5C;\n",
              "      box-shadow: 0px 1px 3px 1px rgba(0, 0, 0, 0.15);\n",
              "      filter: drop-shadow(0px 1px 2px rgba(0, 0, 0, 0.3));\n",
              "      fill: #FFFFFF;\n",
              "    }\n",
              "  </style>\n",
              "\n",
              "      <script>\n",
              "        const buttonEl =\n",
              "          document.querySelector('#df-779abf97-14ae-4692-a542-aebbbacb2fff button.colab-df-convert');\n",
              "        buttonEl.style.display =\n",
              "          google.colab.kernel.accessAllowed ? 'block' : 'none';\n",
              "\n",
              "        async function convertToInteractive(key) {\n",
              "          const element = document.querySelector('#df-779abf97-14ae-4692-a542-aebbbacb2fff');\n",
              "          const dataTable =\n",
              "            await google.colab.kernel.invokeFunction('convertToInteractive',\n",
              "                                                     [key], {});\n",
              "          if (!dataTable) return;\n",
              "\n",
              "          const docLinkHtml = 'Like what you see? Visit the ' +\n",
              "            '<a target=\"_blank\" href=https://colab.research.google.com/notebooks/data_table.ipynb>data table notebook</a>'\n",
              "            + ' to learn more about interactive tables.';\n",
              "          element.innerHTML = '';\n",
              "          dataTable['output_type'] = 'display_data';\n",
              "          await google.colab.output.renderOutput(dataTable, element);\n",
              "          const docLink = document.createElement('div');\n",
              "          docLink.innerHTML = docLinkHtml;\n",
              "          element.appendChild(docLink);\n",
              "        }\n",
              "      </script>\n",
              "    </div>\n",
              "  </div>\n",
              "  "
            ]
          },
          "metadata": {},
          "execution_count": 1786
        }
      ],
      "source": [
        "# your code\n",
        "df1 = ['fall_1', 'fall_2', 'fall_3', 'spring_1', 'spring_2', 'spring_3', 'blended']\n",
        "eq = df.duplicated(subset=df1,keep = False) # отмечаем одинаковые наборы по таблице\n",
        "new_df = df[['id', 'fall_1', 'fall_2', 'fall_3', 'spring_1', 'spring_2', 'spring_3', 'blended']][eq].groupby(df1).count() # для каждого набора из тех, которые совпали хотя бы у кого-то, подсчитываем количество студентов\n",
        "new_df.rename(columns={'id':'count'}, inplace=True)\n",
        "print(new_df.shape[0], 'повторяющихся наборов курсов:')\n",
        "new_df"
      ]
    },
    {
      "cell_type": "markdown",
      "metadata": {
        "id": "spu3r3vchLu0"
      },
      "source": [
        "#### 7. [0.5 балла] Найдите курсы по выбору, на которые записывались как студенты 18-го года набора, так и студенты 17-го года."
      ]
    },
    {
      "cell_type": "code",
      "execution_count": null,
      "metadata": {
        "id": "t21fWi8ShLu0"
      },
      "outputs": [],
      "source": [
        "# your code\n",
        "# запишем все курсы, которые выбирали студенты 17-го и 18-го года\n",
        "all_17 = set(set(df['spring_1'][df['17_group'] != 0])|set(df['spring_2'][df['17_group'] != 0])|set(df['spring_3'][df['17_group'] != 0])|set(df['fall_1'][df['17_group'] != 0])|set(df['fall_2'][df['17_group'] != 0])|set(df['fall_3'][df['17_group'] != 0]))\n",
        "all_18 = set(set(df['spring_1'][df['18_group'] != 0])|set(df['spring_2'][df['18_group'] != 0])|set(df['spring_3'][df['18_group'] != 0])|set(df['fall_1'][df['18_group'] != 0])|set(df['fall_2'][df['18_group'] != 0])|set(df['fall_3'][df['18_group'] != 0]))"
      ]
    },
    {
      "cell_type": "markdown",
      "source": [
        "Найдем пересечение двух наборов."
      ],
      "metadata": {
        "id": "1wUwvgA3J2bo"
      }
    },
    {
      "cell_type": "code",
      "source": [
        "print('Совпадающие курсы:')\n",
        "total = all_17.intersection(all_18)\n",
        "total"
      ],
      "metadata": {
        "colab": {
          "base_uri": "https://localhost:8080/"
        },
        "id": "fBSTqoxsJ6UK",
        "outputId": "f787aca5-c226-4f32-d693-9117b912ae3c"
      },
      "execution_count": null,
      "outputs": [
        {
          "output_type": "stream",
          "name": "stdout",
          "text": [
            "Совпадающие курсы:\n"
          ]
        },
        {
          "output_type": "execute_result",
          "data": {
            "text/plain": [
              "{'Statistical Learning Theory',\n",
              " 'Безопасность компьютерных систем',\n",
              " 'Высокопроизводительные вычисления',\n",
              " 'Моделирование временных рядов',\n",
              " 'Принятие решений в условиях риска и неопределённости',\n",
              " 'Сбор и обработка данных с помощью краудсорсинга',\n",
              " 'Численные методы'}"
            ]
          },
          "metadata": {},
          "execution_count": 1788
        }
      ]
    },
    {
      "cell_type": "markdown",
      "metadata": {
        "id": "PYfX-Dr5hLu0"
      },
      "source": [
        "Методом исключения найдите курсы, которые предлагались только студентам 18-го года и только студентам 17-го года."
      ]
    },
    {
      "cell_type": "markdown",
      "source": [
        "Так как наборы курсов для каждого года у нас уже записаны, мы можем, например, из курсов для студентов 18-го года вычесть все курсы, которые попадают в список совпадающих курсов, и получить те курсы, которые относятся только к 18-ому году. Аналогично для 17-го года."
      ],
      "metadata": {
        "id": "LjlmtbSaKTGa"
      }
    },
    {
      "cell_type": "markdown",
      "source": [
        "Только для 17-го года:"
      ],
      "metadata": {
        "id": "LXvHnAzpL-4Y"
      }
    },
    {
      "cell_type": "code",
      "execution_count": null,
      "metadata": {
        "id": "G9SWBOpehLu1",
        "colab": {
          "base_uri": "https://localhost:8080/"
        },
        "outputId": "52521a89-aa57-49bb-cfc2-7f9c1f3089b2"
      },
      "outputs": [
        {
          "output_type": "execute_result",
          "data": {
            "text/plain": [
              "{'Анализ неструктурированных данных',\n",
              " 'Байесовские методы машинного обучения',\n",
              " 'Генеративные модели в машинном обучении',\n",
              " 'Глубинное обучение в обработке звука',\n",
              " 'Компьютерное зрение',\n",
              " 'Конфликты и кооперация',\n",
              " 'Методы сжатия и передачи медиаданных',\n",
              " 'Обучение с подкреплением',\n",
              " 'Проектирование и разработка высоконагруженных сервисов',\n",
              " 'Символьные вычисления'}"
            ]
          },
          "metadata": {},
          "execution_count": 1789
        }
      ],
      "source": [
        "for_17 = all_17 - total\n",
        "for_17"
      ]
    },
    {
      "cell_type": "markdown",
      "source": [
        "Только для 18-го года:"
      ],
      "metadata": {
        "id": "u-0q7TrQN60l"
      }
    },
    {
      "cell_type": "code",
      "source": [
        "for_18 = all_18 - total\n",
        "for_18"
      ],
      "metadata": {
        "colab": {
          "base_uri": "https://localhost:8080/"
        },
        "id": "I35P6uf9N-i0",
        "outputId": "cbaeef8d-cd59-40d9-dbf9-1d188c1673f7"
      },
      "execution_count": null,
      "outputs": [
        {
          "output_type": "execute_result",
          "data": {
            "text/plain": [
              "{'Анализ данных в бизнесе',\n",
              " 'Дискретная оптимизация',\n",
              " 'Дополнительные главы прикладной статистики',\n",
              " 'Компьютерные сети',\n",
              " 'Матричные вычисления',\n",
              " 'Машинное обучение 2',\n",
              " 'Промышленное программирование на языке Java',\n",
              " 'Системы баз данных',\n",
              " 'Теория баз данных',\n",
              " 'Язык SQL'}"
            ]
          },
          "metadata": {},
          "execution_count": 1790
        }
      ]
    },
    {
      "cell_type": "markdown",
      "metadata": {
        "id": "uL45Tg5fhLu1"
      },
      "source": [
        "#### Визуализации и matplotlib"
      ]
    },
    {
      "cell_type": "markdown",
      "metadata": {
        "id": "MY9lKmP2hLu1"
      },
      "source": [
        "При работе с данными часто неудобно делать какие-то выводы, если смотреть на таблицу и числа в частности, поэтому важно уметь визуализировать данные. Здесь будут описаны ключевые правила оформления графиков для **всех** домашних заданий.\n",
        "\n",
        "У matplotlib, конечно же, есть [документация](https://matplotlib.org/users/index.html) с большим количеством [примеров](https://matplotlib.org/examples/), но для начала достаточно знать про несколько основных типов графиков:\n",
        "- plot — обычный поточечный график, которым можно изображать кривые или отдельные точки;\n",
        "- hist — гистограмма, показывающая распределение некоторой величины;\n",
        "- scatter — график, показывающий взаимосвязь двух величин;\n",
        "- bar — столбцовый график, показывающий взаимосвязь количественной величины от категориальной.\n",
        "\n",
        "В этом задании вы попробуете построить один из них. Не забывайте про базовые принципы построения приличных графиков:\n",
        "- оси должны быть подписаны, причём не слишком мелко;\n",
        "- у графика должно быть название;\n",
        "- если изображено несколько графиков, то необходима поясняющая легенда;\n",
        "- все линии на графиках должны быть чётко видны (нет похожих цветов или цветов, сливающихся с фоном);\n",
        "- если отображена величина, имеющая очевидный диапазон значений (например, проценты могут быть от 0 до 100), то желательно масштабировать ось на весь диапазон значений (исключением является случай, когда вам необходимо показать малое отличие, которое незаметно в таких масштабах);\n",
        "- сетка на графике помогает оценить значения в точках на глаз, это обычно полезно, поэтому лучше ее отрисовывать;\n",
        "- если распределение на гистограмме имеет тяжёлые хвосты, лучше использовать логарифмическую шкалу.\n",
        "\n",
        "Еще одна билиотека для визуализации: [seaborn](https://jakevdp.github.io/PythonDataScienceHandbook/04.14-visualization-with-seaborn.html) (обычно сокращается до sns). Это настройка над matplotlib, иногда удобнее и красивее делать визуализации через неё. \n",
        "\n",
        "**5 пунктов после которых ваши графики не будут прежними:**\n",
        "- для красивой картинки <code>%config InlineBackend.figure_format = 'retina'</code>\n",
        "- задаем размер (почти) всех графиков (можно выбрать другие значения) <code>plt.rcParams['figure.figsize'] = 8, 5</code>\n",
        "- размер шрифта подписей графиков <code>plt.rcParams['font.size'] = 12</code>\n",
        "- формат в котором сохраняется изображение <code>mpl.rcParams['savefig.format'] = 'pdf'</code>\n",
        "- sns – seaborn, добавляет решетку <code>sns.set_style('darkgrid')</code>\n",
        "\n",
        "Добавьте эти функции в ячейку ниже. Каждый график все равно придется настраивать отдельно, но указанные строчки позволят значительно упростить процесс.  "
      ]
    },
    {
      "cell_type": "code",
      "execution_count": null,
      "metadata": {
        "id": "na9doUOFhLu1"
      },
      "outputs": [],
      "source": [
        "%matplotlib inline\n",
        "import matplotlib.pyplot as plt\n",
        "import seaborn as sns\n",
        "\n",
        "%config InlineBackend.figure_format = 'retina'\n",
        "plt.rcParams['figure.figsize'] = 15,5\n",
        "plt.rcParams['font.size'] = 12\n",
        "mpl.rcParams['savefig.format'] = 'pdf'\n",
        "sns.set_style('darkgrid')"
      ]
    },
    {
      "cell_type": "markdown",
      "metadata": {
        "id": "kikwLpxfhLu1"
      },
      "source": [
        "#### 8. [0.5 балла] Постройте график средних рейтингов по дням получения ответов (bar plot)."
      ]
    },
    {
      "cell_type": "code",
      "execution_count": null,
      "metadata": {
        "id": "UTPLVeQvhLu2",
        "colab": {
          "base_uri": "https://localhost:8080/"
        },
        "outputId": "0ccb92f7-68db-4181-c3f5-eb228e90b7a0"
      },
      "outputs": [
        {
          "output_type": "execute_result",
          "data": {
            "text/plain": [
              "                 timestamp                                id  rating  \\\n",
              "0  2020-05-15 01:12:50.543  93ff79a51cd602f1dd3028ba2c129503     698   \n",
              "1  2020-05-15 02:46:48.066  26b01b1c4cd5656bab18d24c548834fb     647   \n",
              "2  2020-05-15 03:12:41.480  30f3653fc176d54e89ac3179c455c6dd     624   \n",
              "3  2020-05-15 04:43:08.994  1528f0eaa027580820ccf0d92a53ad68     579   \n",
              "4  2020-05-15 07:47:17.197  496ea4f0d4abe264b1bb1b80eb3830c5     572   \n",
              "\n",
              "   18_group  is_mi                             fall_1  \\\n",
              "0     181.0    0.0                           Язык SQL   \n",
              "1     181.0    0.0  Высокопроизводительные вычисления   \n",
              "2     185.0    0.0   Безопасность компьютерных систем   \n",
              "3     182.0    0.0        Statistical Learning Theory   \n",
              "4     183.0    0.0  Высокопроизводительные вычисления   \n",
              "\n",
              "                              fall_2                         fall_3  \\\n",
              "0  Высокопроизводительные вычисления           Матричные вычисления   \n",
              "1   Безопасность компьютерных систем                       Язык SQL   \n",
              "2               Матричные вычисления  Моделирование временных рядов   \n",
              "3  Высокопроизводительные вычисления           Матричные вычисления   \n",
              "4   Безопасность компьютерных систем              Теория баз данных   \n",
              "\n",
              "                 spring_1                spring_2             spring_3  \\\n",
              "0  Дискретная оптимизация        Численные методы  Машинное обучение 2   \n",
              "1  Дискретная оптимизация        Численные методы  Машинное обучение 2   \n",
              "2  Дискретная оптимизация     Машинное обучение 2     Численные методы   \n",
              "3  Дискретная оптимизация        Численные методы  Машинное обучение 2   \n",
              "4       Компьютерные сети  Дискретная оптимизация     Численные методы   \n",
              "\n",
              "  is_first_time  percentile  17_group blended  is_ml_student        date  \n",
              "0            Да    0.183857       0.0                    0.0  2020-05-15  \n",
              "1           Нет    0.426009       0.0                    0.0  2020-05-15  \n",
              "2            Да    0.538117       0.0                    0.0  2020-05-15  \n",
              "3            Да    0.744395       0.0                    0.0  2020-05-15  \n",
              "4            Да    0.780269       0.0                    0.0  2020-05-15  "
            ],
            "text/html": [
              "\n",
              "  <div id=\"df-bba59d0b-3cf9-42d2-96d3-d353e204f9da\">\n",
              "    <div class=\"colab-df-container\">\n",
              "      <div>\n",
              "<style scoped>\n",
              "    .dataframe tbody tr th:only-of-type {\n",
              "        vertical-align: middle;\n",
              "    }\n",
              "\n",
              "    .dataframe tbody tr th {\n",
              "        vertical-align: top;\n",
              "    }\n",
              "\n",
              "    .dataframe thead th {\n",
              "        text-align: right;\n",
              "    }\n",
              "</style>\n",
              "<table border=\"1\" class=\"dataframe\">\n",
              "  <thead>\n",
              "    <tr style=\"text-align: right;\">\n",
              "      <th></th>\n",
              "      <th>timestamp</th>\n",
              "      <th>id</th>\n",
              "      <th>rating</th>\n",
              "      <th>18_group</th>\n",
              "      <th>is_mi</th>\n",
              "      <th>fall_1</th>\n",
              "      <th>fall_2</th>\n",
              "      <th>fall_3</th>\n",
              "      <th>spring_1</th>\n",
              "      <th>spring_2</th>\n",
              "      <th>spring_3</th>\n",
              "      <th>is_first_time</th>\n",
              "      <th>percentile</th>\n",
              "      <th>17_group</th>\n",
              "      <th>blended</th>\n",
              "      <th>is_ml_student</th>\n",
              "      <th>date</th>\n",
              "    </tr>\n",
              "  </thead>\n",
              "  <tbody>\n",
              "    <tr>\n",
              "      <th>0</th>\n",
              "      <td>2020-05-15 01:12:50.543</td>\n",
              "      <td>93ff79a51cd602f1dd3028ba2c129503</td>\n",
              "      <td>698</td>\n",
              "      <td>181.0</td>\n",
              "      <td>0.0</td>\n",
              "      <td>Язык SQL</td>\n",
              "      <td>Высокопроизводительные вычисления</td>\n",
              "      <td>Матричные вычисления</td>\n",
              "      <td>Дискретная оптимизация</td>\n",
              "      <td>Численные методы</td>\n",
              "      <td>Машинное обучение 2</td>\n",
              "      <td>Да</td>\n",
              "      <td>0.183857</td>\n",
              "      <td>0.0</td>\n",
              "      <td></td>\n",
              "      <td>0.0</td>\n",
              "      <td>2020-05-15</td>\n",
              "    </tr>\n",
              "    <tr>\n",
              "      <th>1</th>\n",
              "      <td>2020-05-15 02:46:48.066</td>\n",
              "      <td>26b01b1c4cd5656bab18d24c548834fb</td>\n",
              "      <td>647</td>\n",
              "      <td>181.0</td>\n",
              "      <td>0.0</td>\n",
              "      <td>Высокопроизводительные вычисления</td>\n",
              "      <td>Безопасность компьютерных систем</td>\n",
              "      <td>Язык SQL</td>\n",
              "      <td>Дискретная оптимизация</td>\n",
              "      <td>Численные методы</td>\n",
              "      <td>Машинное обучение 2</td>\n",
              "      <td>Нет</td>\n",
              "      <td>0.426009</td>\n",
              "      <td>0.0</td>\n",
              "      <td></td>\n",
              "      <td>0.0</td>\n",
              "      <td>2020-05-15</td>\n",
              "    </tr>\n",
              "    <tr>\n",
              "      <th>2</th>\n",
              "      <td>2020-05-15 03:12:41.480</td>\n",
              "      <td>30f3653fc176d54e89ac3179c455c6dd</td>\n",
              "      <td>624</td>\n",
              "      <td>185.0</td>\n",
              "      <td>0.0</td>\n",
              "      <td>Безопасность компьютерных систем</td>\n",
              "      <td>Матричные вычисления</td>\n",
              "      <td>Моделирование временных рядов</td>\n",
              "      <td>Дискретная оптимизация</td>\n",
              "      <td>Машинное обучение 2</td>\n",
              "      <td>Численные методы</td>\n",
              "      <td>Да</td>\n",
              "      <td>0.538117</td>\n",
              "      <td>0.0</td>\n",
              "      <td></td>\n",
              "      <td>0.0</td>\n",
              "      <td>2020-05-15</td>\n",
              "    </tr>\n",
              "    <tr>\n",
              "      <th>3</th>\n",
              "      <td>2020-05-15 04:43:08.994</td>\n",
              "      <td>1528f0eaa027580820ccf0d92a53ad68</td>\n",
              "      <td>579</td>\n",
              "      <td>182.0</td>\n",
              "      <td>0.0</td>\n",
              "      <td>Statistical Learning Theory</td>\n",
              "      <td>Высокопроизводительные вычисления</td>\n",
              "      <td>Матричные вычисления</td>\n",
              "      <td>Дискретная оптимизация</td>\n",
              "      <td>Численные методы</td>\n",
              "      <td>Машинное обучение 2</td>\n",
              "      <td>Да</td>\n",
              "      <td>0.744395</td>\n",
              "      <td>0.0</td>\n",
              "      <td></td>\n",
              "      <td>0.0</td>\n",
              "      <td>2020-05-15</td>\n",
              "    </tr>\n",
              "    <tr>\n",
              "      <th>4</th>\n",
              "      <td>2020-05-15 07:47:17.197</td>\n",
              "      <td>496ea4f0d4abe264b1bb1b80eb3830c5</td>\n",
              "      <td>572</td>\n",
              "      <td>183.0</td>\n",
              "      <td>0.0</td>\n",
              "      <td>Высокопроизводительные вычисления</td>\n",
              "      <td>Безопасность компьютерных систем</td>\n",
              "      <td>Теория баз данных</td>\n",
              "      <td>Компьютерные сети</td>\n",
              "      <td>Дискретная оптимизация</td>\n",
              "      <td>Численные методы</td>\n",
              "      <td>Да</td>\n",
              "      <td>0.780269</td>\n",
              "      <td>0.0</td>\n",
              "      <td></td>\n",
              "      <td>0.0</td>\n",
              "      <td>2020-05-15</td>\n",
              "    </tr>\n",
              "  </tbody>\n",
              "</table>\n",
              "</div>\n",
              "      <button class=\"colab-df-convert\" onclick=\"convertToInteractive('df-bba59d0b-3cf9-42d2-96d3-d353e204f9da')\"\n",
              "              title=\"Convert this dataframe to an interactive table.\"\n",
              "              style=\"display:none;\">\n",
              "        \n",
              "  <svg xmlns=\"http://www.w3.org/2000/svg\" height=\"24px\"viewBox=\"0 0 24 24\"\n",
              "       width=\"24px\">\n",
              "    <path d=\"M0 0h24v24H0V0z\" fill=\"none\"/>\n",
              "    <path d=\"M18.56 5.44l.94 2.06.94-2.06 2.06-.94-2.06-.94-.94-2.06-.94 2.06-2.06.94zm-11 1L8.5 8.5l.94-2.06 2.06-.94-2.06-.94L8.5 2.5l-.94 2.06-2.06.94zm10 10l.94 2.06.94-2.06 2.06-.94-2.06-.94-.94-2.06-.94 2.06-2.06.94z\"/><path d=\"M17.41 7.96l-1.37-1.37c-.4-.4-.92-.59-1.43-.59-.52 0-1.04.2-1.43.59L10.3 9.45l-7.72 7.72c-.78.78-.78 2.05 0 2.83L4 21.41c.39.39.9.59 1.41.59.51 0 1.02-.2 1.41-.59l7.78-7.78 2.81-2.81c.8-.78.8-2.07 0-2.86zM5.41 20L4 18.59l7.72-7.72 1.47 1.35L5.41 20z\"/>\n",
              "  </svg>\n",
              "      </button>\n",
              "      \n",
              "  <style>\n",
              "    .colab-df-container {\n",
              "      display:flex;\n",
              "      flex-wrap:wrap;\n",
              "      gap: 12px;\n",
              "    }\n",
              "\n",
              "    .colab-df-convert {\n",
              "      background-color: #E8F0FE;\n",
              "      border: none;\n",
              "      border-radius: 50%;\n",
              "      cursor: pointer;\n",
              "      display: none;\n",
              "      fill: #1967D2;\n",
              "      height: 32px;\n",
              "      padding: 0 0 0 0;\n",
              "      width: 32px;\n",
              "    }\n",
              "\n",
              "    .colab-df-convert:hover {\n",
              "      background-color: #E2EBFA;\n",
              "      box-shadow: 0px 1px 2px rgba(60, 64, 67, 0.3), 0px 1px 3px 1px rgba(60, 64, 67, 0.15);\n",
              "      fill: #174EA6;\n",
              "    }\n",
              "\n",
              "    [theme=dark] .colab-df-convert {\n",
              "      background-color: #3B4455;\n",
              "      fill: #D2E3FC;\n",
              "    }\n",
              "\n",
              "    [theme=dark] .colab-df-convert:hover {\n",
              "      background-color: #434B5C;\n",
              "      box-shadow: 0px 1px 3px 1px rgba(0, 0, 0, 0.15);\n",
              "      filter: drop-shadow(0px 1px 2px rgba(0, 0, 0, 0.3));\n",
              "      fill: #FFFFFF;\n",
              "    }\n",
              "  </style>\n",
              "\n",
              "      <script>\n",
              "        const buttonEl =\n",
              "          document.querySelector('#df-bba59d0b-3cf9-42d2-96d3-d353e204f9da button.colab-df-convert');\n",
              "        buttonEl.style.display =\n",
              "          google.colab.kernel.accessAllowed ? 'block' : 'none';\n",
              "\n",
              "        async function convertToInteractive(key) {\n",
              "          const element = document.querySelector('#df-bba59d0b-3cf9-42d2-96d3-d353e204f9da');\n",
              "          const dataTable =\n",
              "            await google.colab.kernel.invokeFunction('convertToInteractive',\n",
              "                                                     [key], {});\n",
              "          if (!dataTable) return;\n",
              "\n",
              "          const docLinkHtml = 'Like what you see? Visit the ' +\n",
              "            '<a target=\"_blank\" href=https://colab.research.google.com/notebooks/data_table.ipynb>data table notebook</a>'\n",
              "            + ' to learn more about interactive tables.';\n",
              "          element.innerHTML = '';\n",
              "          dataTable['output_type'] = 'display_data';\n",
              "          await google.colab.output.renderOutput(dataTable, element);\n",
              "          const docLink = document.createElement('div');\n",
              "          docLink.innerHTML = docLinkHtml;\n",
              "          element.appendChild(docLink);\n",
              "        }\n",
              "      </script>\n",
              "    </div>\n",
              "  </div>\n",
              "  "
            ]
          },
          "metadata": {},
          "execution_count": 1792
        }
      ],
      "source": [
        "df['timestamp'] = df['timestamp'].astype(str) # перевели тип данных столбца времени в строкой тип данных\n",
        "df['date'] = df['timestamp'].str.split().str[0] # создаем столбец, в который записываем только дату\n",
        "df.head()"
      ]
    },
    {
      "cell_type": "code",
      "source": [
        "x = sort(list(df['date'].unique()))\n",
        "y = list(df.groupby('date').mean().rating)\n",
        "\n",
        "plt.barh(x, y)\n",
        "plt.ylabel('дата', fontsize=15)\n",
        "plt.xlabel('средний рейтинг', fontsize=15)\n",
        "plt.title(\"средний рейтинг по дням получения ответов\", fontsize=20)\n",
        "\n",
        "# сразу сохраним график\n",
        "plt.savefig('gr.pdf')\n",
        "\n",
        "plt.show()"
      ],
      "metadata": {
        "colab": {
          "base_uri": "https://localhost:8080/"
        },
        "id": "D8qYfGKvUe89",
        "outputId": "802eef52-2100-4d88-839e-0b64a509f0f3"
      },
      "execution_count": null,
      "outputs": [
        {
          "output_type": "display_data",
          "data": {
            "text/plain": [
              "<Figure size 1080x360 with 1 Axes>"
            ],
            "image/png": "[encoded data removed]"
          },
          "metadata": {
            "image/png": {
              "width": 949,
              "height": 345
            }
          }
        }
      ]
    },
    {
      "cell_type": "markdown",
      "metadata": {
        "id": "AmsQg9_xhLu2"
      },
      "source": [
        "Сохраните график в формате pdf (так он останется векторизованным)."
      ]
    },
    {
      "cell_type": "markdown",
      "metadata": {
        "id": "sCgWwjl0hLu2"
      },
      "source": [
        "### 2. Распределение студентов по курсам."
      ]
    },
    {
      "cell_type": "markdown",
      "metadata": {
        "id": "oa0a-C4nFi1p"
      },
      "source": [
        "<span style=\"color:red\">!!!ВНИМАТЕЛЬНО ИЗУЧИТЕ ТЕКСТ НИЖЕ!!!</span>.\n",
        "\n",
        "<span style=\"color:orange\">Если во время выполнения заданий у вас вознинут вопросы -- еще раз перечитайте текст целиком, скорее всего ответы уже содержатся в нем.</span>"
      ]
    },
    {
      "cell_type": "markdown",
      "metadata": {
        "id": "VNqXUpr4hLu3"
      },
      "source": [
        "Теперь вам нужно распределить студентов по осенним курсам по выбору, учитывая их предпочтения."
      ]
    },
    {
      "cell_type": "markdown",
      "metadata": {
        "id": "5cAR2FgphLu3"
      },
      "source": [
        "Алгоритм распределения студентов по курсам:\n",
        "1. По умолчанию на каждой дисциплине по выбору у 3 и 4 курсов может учиться 1 группа (до 30 студентов). Исключения описаны ниже. На blended-дисциплинах для четверокурсников количество мест не ограничено.\n",
        "2. Проводится первая волна отбора. Для каждой дисциплины формируется список тех, кто указал её первым приоритетом (если студент должен выбрать два курса по выбору, то для него дисциплины, которые он указал первым и вторым приоритетом, рассматриваются как дисциплины первого приоритета). Если желающих больше, чем мест, то выбирается топ по перцентилю рейтинга.\n",
        "3. На дисциплинах, где остались места после первой волны, формируются списки тех, кто выбрал их вторым приоритетом, и места заполняются лучшими по перцентили рейтинга студентами. После этого проводится такая же процедура для дисциплин третьего приоритета.\n",
        "4. Если студент не попал на необходимое количество курсов по итогам трёх волн, с ним связывается учебный офис и решает вопрос в индивидуальном порядке."
      ]
    },
    {
      "cell_type": "markdown",
      "metadata": {
        "id": "BiNKVwS6hLu3"
      },
      "source": [
        "Обращаем ваше внимание на следующие детали:\n",
        "- Конкурс на каждый курс общий для 3-го и 4-го курса\n",
        "\n",
        "- По умолчанию студент выбирает один осенний и один весенний курс по выбору, а также четверокурсники выбирают один blended-курс. Студенты групп 17-го года специализаций МОП и ТИ выбирают по 2 осенних и 2 весенних курса по выбору, также студенты групп 18' специализации МИ выбирают 2 осенних курса. <i>Для студентов, которые выбирают 2 курса (например, осенних) первый приоритет — <code>fall_1</code> и <code>fall_2</code>, второй приоритет — <code>fall_3</code>. Такие студенты участвуют только в двух волнах отбора</i>.\n",
        "\n",
        "- Студенты специализации МОП не могут выбрать весенним курсом по выбору Машинное обучение 2. **Если студент специализации МОП выбрал Машинное обучение 2, то его приоритеты сдвигаются.** Из-за совпадений первого и второго курса по выбору двигать приоритеты не надо.\n",
        "\n",
        "- Blended-курсы не трогайте, по ним не надо распределять, на другие курсы они никак не влияют.\n",
        "\n",
        "- Заведомо известно, что в процессе распределения не возникнет ситуации, когда на одно место претендуют студенты с одинаковым перцентилем.\n",
        "\n",
        "- Постарайтесь воздержаться от использования циклов там, где это возможно. <i>Допустимо итерироваться по <b>курсам</b>, на которые проводится отбор, и по <b>волнам</b> отбора. Если вы придумаете, как обойтись и без этих циклов, то на усмотрение проверяющего могут быть добавлены бонусные баллы. <b>Дублирование кода не признается успешным избавлением от циклов</b></i>\n",
        "\n",
        "- На выходе ожидается файл res_fall.csv с результатами распределения на осенние курсы по выбору. Файл должен быть следующего формата:\n",
        "\n",
        "    * Три колонки: ID, course1, course2\n",
        "    \n",
        "    * Если студент не попал на курс, но должен был, то вместо названия курса в ячейке должна быть строка \"???\"\n",
        "    \n",
        "    * Если студент должен выбрать только один курс, то в колонке course2 для него должна стоять строка \"-\"\n",
        "    \n",
        "    * Если студент должен выбрать два курса по выбору, то порядок в колонках course1 и course2 не важен.\n",
        "    \n",
        "    * hint: для сохранения воспользуйтесь df.to_csv('solution.csv', index=None)\n",
        "    \n",
        "\n",
        "Для работы вам могут понадобиться следующие данные:\n",
        "\n",
        "- Результаты опроса (вы уже использовали этот файл в первой части задания, но на всякий случай ссылка: https://www.dropbox.com/s/f4rm8sjc3v99p0m/_end_seminar.xlsx?dl=0)\n",
        "\n",
        "- Соответствие номеров групп специализациям:\n",
        "\n",
        "    * 171, 172 - МОП; 173 - ТИ; 174 — АДИС; 175, 176 — РС; 177 — АПР\n",
        "    \n",
        "    * У студентов 18-го года номера групп соответствуют номерам до распределения по специализациям. Это означает, что по номеру группы 18* нельзя однозначно определить специализацию студента. При этом в рамках распределения важно знать информацию только о двух из них: МОП и МИ. Эти знание можно получить из колонок 'is_ml_student\n",
        "' и 'is_mi' соответственно.\n",
        "\n",
        "- Ограничения по количеству мест на курсах по выбору:\n",
        "\n",
        "    * Осенние: везде 30 мест, кроме Statistical Learning Theory (60 мест), Высокопроизводительных вычислений (60 мест), Анализа неструктурированных данных ($\\infty$ мест)\n",
        "\n",
        "    * Весенние: везде 30 мест, кроме Обучения с подкреплением (60 мест), Анализа данных в бизнесе (60 мест).\n",
        "\n",
        "\n",
        "Кстати, убедитесь, что в данных больше нет пропусков и повторных записей."
      ]
    },
    {
      "cell_type": "markdown",
      "metadata": {
        "id": "o5t55IcQhLu4"
      },
      "source": [
        "#### 0. Проверка\n",
        "\n",
        "Для начала давайте убедимся, что вы успешно выполнили задания первой части и проверим ваши данные на наличие пропусков и повторов:"
      ]
    },
    {
      "cell_type": "code",
      "execution_count": null,
      "metadata": {
        "id": "34HWEdVdhLu4"
      },
      "outputs": [],
      "source": [
        "assert df.shape[0] == 347, 'В таблице остались повторы или потеряны данные'\n",
        "\n",
        "assert df.isna().sum().sum() == 0, 'В таблице остались пропуски'"
      ]
    },
    {
      "cell_type": "markdown",
      "metadata": {
        "id": "_ImUFyG3hLu4"
      },
      "source": [
        "Если вы не получили AssertionError, то можете продолжать."
      ]
    },
    {
      "cell_type": "markdown",
      "metadata": {
        "id": "LTGSwwvAhLu4"
      },
      "source": [
        "#### 1. [1 балл] Создайте новый признак, обозначающий, сколько осенних курсов должен выбрать студент\n",
        "\n",
        "В этом вам может помочь информация о специализации и группе стундента."
      ]
    },
    {
      "cell_type": "code",
      "execution_count": null,
      "metadata": {
        "id": "ouxo0kHFhLu4"
      },
      "outputs": [],
      "source": [
        "# (￣^￣)ゞ\n",
        "# для начала запишем всем по 1 курсу\n",
        "df['count_fall'] = 1\n",
        "\n",
        "#теперь для отдельных категорий студентов изменим это количество\n",
        "df.loc[(df['17_group'] == 171) | (df['17_group'] == 172), 'count_fall'] = 2 # МОП (осень)\n",
        "df.loc[(df['17_group'] == 173), 'count_fall'] = 2 # ТИ (осень)\n",
        "df.loc[(df['is_mi'] == 1), 'count_fall'] = 2 # МИ (осень)"
      ]
    },
    {
      "cell_type": "markdown",
      "metadata": {
        "id": "S47aq1sQhLu4"
      },
      "source": [
        "Проверка:"
      ]
    },
    {
      "cell_type": "code",
      "execution_count": null,
      "metadata": {
        "id": "OlOgzDKDhLu5"
      },
      "outputs": [],
      "source": [
        "col_name = 'count_fall'    # insert your new column name as str\n",
        "\n",
        "assert(df[df['id'] == '2662600c2c37e11e62f6ee0b88452f22'][col_name] == 2).all()\n",
        "assert(df[df['id'] == 'd555d2805e1d93d4f023e57dc4c8f403'][col_name] == 2).all()\n",
        "assert(df[df['id'] == '8fe79f84f36e3a5d2d6745621321302c'][col_name] == 1).all()\n",
        "assert(df[df['id'] == 'e4caca755ee0bdd711e18fb8084958b5'][col_name] == 1).all()"
      ]
    },
    {
      "cell_type": "markdown",
      "metadata": {
        "id": "VtQYhwuPhLu5"
      },
      "source": [
        "#### 2. [2 балла] Распределите студентов в соответствии с первым приоритетом"
      ]
    },
    {
      "cell_type": "code",
      "source": [
        "# создадим словарик, где храним количество свободных мест на каждом курсе\n",
        "spare_sps = {'Принятие решений в условиях риска и неопределённости' : 30, 'Теория баз данных' : 30, 'Матричные вычисления' : 30, 'Глубинное обучение в обработке звука' : 30, \n",
        "             'Байесовские методы машинного обучения' : 30, 'Язык SQL' : 30, 'Моделирование временных рядов' : 30, 'Statistical Learning Theory' : 60, 'Высокопроизводительные вычисления' : 60, \n",
        "             'Анализ неструктурированных данных' : 347, 'Сбор и обработка данных с помощью краудсорсинга' : 30, 'Безопасность компьютерных систем' : 30}"
      ],
      "metadata": {
        "id": "G0NuVNWua2oU"
      },
      "execution_count": null,
      "outputs": []
    },
    {
      "cell_type": "code",
      "source": [
        "# в эту табличку будем записывать результат распределения\n",
        "answer = pd.DataFrame()\n",
        "answer['ID'] = df[['id']]\n",
        "answer['course1'] = '???'\n",
        "answer['course2'] = '-'\n",
        "answer = answer.astype({'course1' : 'str'})\n",
        "answer = answer.astype({'course2' : 'str'})\n",
        "\n",
        "for id in answer['ID']:\n",
        "  if (df[df['id'] == id]['count_fall'] == 2).bool():\n",
        "    answer.loc[answer['ID'] == id, 'course2'] = '???'\n"
      ],
      "metadata": {
        "id": "0hE5QM1Cu-mj"
      },
      "execution_count": null,
      "outputs": []
    },
    {
      "cell_type": "code",
      "source": [
        "df['need'] = df.loc[:, 'count_fall'] # столбец, сколько надо еще набрать курсов\n",
        "df['is_first_place'] = NaN\n",
        "df['is_last_place'] = NaN"
      ],
      "metadata": {
        "id": "ZwoumAalu-se"
      },
      "execution_count": null,
      "outputs": []
    },
    {
      "cell_type": "code",
      "source": [
        "# распределение \n",
        "\n",
        "for now_course in spare_sps.keys():\n",
        "  # те, кто выбрали этот курс\n",
        "  now_df = df[((df['fall_1'] == now_course) & (df['need'] != 0)) | (((df['fall_2'] == now_course) & (df['count_fall'] == 2) & (df['need'] != 0)))]\n",
        "  now_df.sort_values('percentile', inplace=True)\n",
        "  now_df.reset_index(inplace=True)\n",
        "\n",
        "  # берем максимальное количество людей (по увеличению перцентиля)\n",
        "  size = now_df.shape[0]\n",
        "  now_df = now_df.head(min(spare_sps[now_course], size))\n",
        "  spare_sps[now_course] -= min(spare_sps[now_course], size)\n",
        "  size = now_df.shape[0]\n",
        "\n",
        "  # отмечаем на этом курсе лучший и худший перцентиль\n",
        "  df.loc[df['percentile'] == now_df['percentile'][0], 'is_first_place'] = True\n",
        "  df.loc[df['percentile'] == now_df['percentile'][size - 1], 'is_last_place'] = True\n",
        "\n",
        "  # присваиваем курс\n",
        "  for id in now_df.id:\n",
        "    if (((now_df[now_df['id'] == id]['need'] == 2).bool()) | ((now_df[now_df['id'] == id]['need'] == 1).bool() & (now_df[now_df['id'] == id]['count_fall'] == 1).bool())):\n",
        "      answer.loc[answer['ID'] == id, 'course1'] = now_course\n",
        "    elif ((now_df[now_df['id'] == id]['need'] == 1).bool() & (now_df[now_df['id'] == id]['count_fall'] == 2).bool()):\n",
        "      answer.loc[answer['ID'] == id, 'course2'] = now_course\n",
        "    df.loc[df['id'] == id, 'need'] -= 1\n"
      ],
      "metadata": {
        "colab": {
          "base_uri": "https://localhost:8080/"
        },
        "id": "Ztm_AHwa55ut",
        "outputId": "b9484713-f3ea-48d4-d608-bb3bff088e01"
      },
      "execution_count": null,
      "outputs": [
        {
          "output_type": "stream",
          "name": "stderr",
          "text": [
            "/usr/local/lib/python3.7/dist-packages/pandas/util/_decorators.py:311: SettingWithCopyWarning: \n",
            "A value is trying to be set on a copy of a slice from a DataFrame\n",
            "\n",
            "See the caveats in the documentation: https://pandas.pydata.org/pandas-docs/stable/user_guide/indexing.html#returning-a-view-versus-a-copy\n",
            "  return func(*args, **kwargs)\n"
          ]
        }
      ]
    },
    {
      "cell_type": "markdown",
      "metadata": {
        "id": "vc5zXP5hhLu5"
      },
      "source": [
        "Здесь для проверки приведена таблица, в которой есть 2 дополнительные колонки:\n",
        "    \n",
        "    1) is_first_place - является ли студент лучшим по перцентили хотя бы на одном из курсов, куда он был зачислен \n",
        "    (True / NaN)\n",
        "    \n",
        "    2) is_last_place  - является ли студент худшим по перцентили хотя бы на одном из курсов, куда он был зачислен (True / NaN)"
      ]
    },
    {
      "cell_type": "code",
      "execution_count": null,
      "metadata": {
        "id": "uZTkGEq5hLu5"
      },
      "outputs": [],
      "source": [
        "!wget  -O '2_task_check.csv' -q 'https://www.dropbox.com/s/v8o2zzq3iz5gc9w/_2_task_check.csv?dl=0'\n",
        "check_df = pd.read_csv('2_task_check.csv')"
      ]
    },
    {
      "cell_type": "markdown",
      "metadata": {
        "id": "E_fbyB9qhLu5"
      },
      "source": [
        "После распределения студентов в соответствии с первым приоритетом добавьте в свой датафрейм аналогичные признаки и запустите проверку:"
      ]
    },
    {
      "cell_type": "code",
      "execution_count": null,
      "metadata": {
        "id": "GOAzQeYehLu6"
      },
      "outputs": [],
      "source": [
        "fir_col_name = 'is_first_place'     # insert name of your new column with is_first_place as str\n",
        "last_col_name = 'is_last_place'     # insert name of your new column with is_last_place as str\n",
        "\n",
        "\n",
        "assert((df[df[fir_col_name].isna() == False][['id']].sort_values('id').reset_index(drop=True)\n",
        "        ==\n",
        "        check_df[check_df['is_first_place'].isna() == False][['id']].sort_values('id').reset_index(drop=True)\n",
        "       ).id.values).all()\n",
        "\n",
        "\n",
        "assert((df[df[last_col_name].isna() == False][['id']].sort_values('id').reset_index(drop=True)\n",
        "       == \n",
        "       check_df[check_df['is_last_place'].isna() == False][['id']].sort_values('id').reset_index(drop=True)\n",
        "      ).id.values).all()"
      ]
    },
    {
      "cell_type": "markdown",
      "metadata": {
        "id": "RO6DwNNFhLu6"
      },
      "source": [
        "#### 3. [3 балла] Проведите все три волны отбора студентов на курсы по выбору"
      ]
    },
    {
      "cell_type": "markdown",
      "source": [
        "Проведём оставшиеся две волны (результат первой хранится в res)"
      ],
      "metadata": {
        "id": "UZgJ6ZlnF55_"
      }
    },
    {
      "cell_type": "markdown",
      "source": [
        "У нас есть проблема (есть такие люди (из тех, кому надо два осенних курса), которые выбрали один и тот же курс на все позиции). То есть надо как-то отследить таких людей, чтобы не записать их дважды на один и тот же курс.\n",
        "\n",
        "Отследим во время второй волны, когда берём людей с 2 курсами.\n"
      ],
      "metadata": {
        "id": "PL7_MO8QBY1o"
      }
    },
    {
      "cell_type": "markdown",
      "source": [
        "##### *Вторая волна*"
      ],
      "metadata": {
        "id": "tTmu8eUtGJGh"
      }
    },
    {
      "cell_type": "code",
      "source": [
        "for now_course in spare_sps.keys():\n",
        "  # те, кто выбрали этот курс\n",
        "  now_df = df[((df['fall_2'] == now_course)  & (df['count_fall'] == 1) & (df['need'] != 0)) | (((df['fall_3'] == now_course) & (df['count_fall'] == 2) & (df['need'] != 0) & (df['fall_1'] != df['fall_2'])) & (df['fall_1'] != df['fall_3']))]\n",
        "  now_df.sort_values('percentile', inplace=True)\n",
        "  now_df.reset_index(inplace=True)\n",
        "\n",
        "  # берем максимальное количество людей (по увеличению перцентиля)\n",
        "  size = now_df.shape[0]\n",
        "  now_df = now_df.head(min(spare_sps[now_course], size))\n",
        "  spare_sps[now_course] -= min(spare_sps[now_course], size)\n",
        "  size = now_df.shape[0]\n",
        "\n",
        "  # присваиваем курс\n",
        "  for id in now_df.id:\n",
        "    if (((now_df[now_df['id'] == id]['need'] == 2).bool()) | ((now_df[now_df['id'] == id]['need'] == 1).bool() & (now_df[now_df['id'] == id]['count_fall'] == 1).bool())):\n",
        "      answer.loc[answer['ID'] == id, 'course1'] = now_course\n",
        "    elif ((now_df[now_df['id'] == id]['need'] == 1).bool() & (now_df[now_df['id'] == id]['count_fall'] == 2).bool() & (answer[answer['ID'] == id]['course1'] != now_course)).bool():\n",
        "      answer.loc[answer['ID'] == id, 'course2'] = now_course\n",
        "    df.loc[df['id'] == id, 'need'] -= 1\n"
      ],
      "metadata": {
        "id": "zzS1HUysF41v"
      },
      "execution_count": null,
      "outputs": []
    },
    {
      "cell_type": "markdown",
      "source": [
        "##### *Третья волна*"
      ],
      "metadata": {
        "id": "dGXA5O48GM1T"
      }
    },
    {
      "cell_type": "code",
      "source": [
        "for now_course in spare_sps.keys():\n",
        "  # те, кто выбрали этот курс\n",
        "  now_df = df[((df['fall_3'] == now_course) & (df['need'] != 0) & (df['count_fall'] == 1))]\n",
        "  now_df.sort_values('percentile', inplace=True)\n",
        "  now_df.reset_index(inplace=True)\n",
        "\n",
        "  # берем максимальное количество людей (по увеличению перцентиля)\n",
        "  size = now_df.shape[0]\n",
        "  now_df = now_df.head(min(spare_sps[now_course], size))\n",
        "  spare_sps[now_course] -= min(spare_sps[now_course], size)\n",
        "  size = now_df.shape[0]\n",
        "\n",
        "  # присваиваем курс\n",
        "  for id in now_df.id:\n",
        "    if (((now_df[now_df['id'] == id]['need'] == 2).bool()) | ((now_df[now_df['id'] == id]['need'] == 1).bool() & (now_df[now_df['id'] == id]['count_fall'] == 1).bool())):\n",
        "      answer.loc[answer['ID'] == id, 'course1'] = now_course\n",
        "    elif ((now_df[now_df['id'] == id]['need'] == 1).bool() & (now_df[now_df['id'] == id]['count_fall'] == 2).bool() & (answer[answer['ID'] == id]['course1'] != now_course)).bool():\n",
        "      answer.loc[answer['ID'] == id, 'course2'] = now_course\n",
        "    df.loc[df['id'] == id, 'need'] -= 1\n"
      ],
      "metadata": {
        "id": "IX4gmUXJGNDh"
      },
      "execution_count": null,
      "outputs": []
    },
    {
      "cell_type": "markdown",
      "source": [
        "##### *Результат*"
      ],
      "metadata": {
        "id": "tblyaywhpFd-"
      }
    },
    {
      "cell_type": "markdown",
      "source": [
        "Результаты отбора хранится в табличке answer."
      ],
      "metadata": {
        "id": "uk3MwKElow0C"
      }
    },
    {
      "cell_type": "code",
      "execution_count": null,
      "metadata": {
        "id": "jn2OOrLjhLu6"
      },
      "outputs": [],
      "source": [
        "# (￣^￣)ゞ\n",
        "answer.to_csv('res_fall.csv', index=None)"
      ]
    },
    {
      "cell_type": "markdown",
      "metadata": {
        "id": "1xQjV9BuhLu6"
      },
      "source": [
        "**Отправьте свой файл res_fall.csv в контест (https://contest.yandex.ru/contest/40211/problems/A/) и прикрепите/укажите ниже ваш никнейм и ссылку на успешную посылку.**"
      ]
    },
    {
      "cell_type": "markdown",
      "source": [
        "**ID успешной посылки:** 70700791 \n",
        "\n",
        "**Никнейм:** evg.antonova.1\n",
        "\n",
        "**Ссылка:** https://contest.yandex.ru/contest/40211/run-report/70700791/ \n",
        "\n"
      ],
      "metadata": {
        "id": "21fFYk_S8cCc"
      }
    },
    {
      "cell_type": "markdown",
      "metadata": {
        "id": "QRTbPrgbhLu6"
      },
      "source": [
        "*Дисклеймер:*\n",
        "\n",
        "Успешная посылка в контесте является **обязательным** условием получения полного балла за этот (и следующий) пункт. Если добиться успешной посылки не удастся, баллы будут выставляться на усмотрение проверяюшего. \n",
        "\n",
        "При этом ОК в контесте не гарантирует полный балл. Оценка всё равно может быть снижена в случае обнаружения неэффективностей или ошибок в коде. Если вы сдадите в AnyTask очевидно неработающий код или ноутбук без кода, но при этом в контест будет сдан корректный файл, то это будет расцениваться как плагиат."
      ]
    },
    {
      "cell_type": "markdown",
      "metadata": {
        "id": "1IkQa_gdhLu6"
      },
      "source": [
        "На всякий случай просим вас сдать вместе с ноутбуком файл res_fall.csv в anytask"
      ]
    },
    {
      "cell_type": "markdown",
      "source": [
        "\n",
        "\n",
        "---\n",
        "\n",
        "\n",
        "\n",
        "---\n",
        "\n"
      ],
      "metadata": {
        "id": "qRZjAG2_IxDW"
      }
    },
    {
      "cell_type": "markdown",
      "metadata": {
        "id": "k8d711qGhLu7"
      },
      "source": [
        "### **Дополнительное задание. [2 бонусных балла] Распределите таким же образом студентов еще и на весенние курсы по выбору.**\n",
        "\n",
        "Если ваш код был хорошо структурирован, то это не составит проблем. \n",
        "\n",
        "Если вы выполнили это задание, сдайте среди прочего файл res_spring.csv в таком же формате, как и res_fall.csv."
      ]
    },
    {
      "cell_type": "markdown",
      "source": [
        "#### Создаем новый признак (количество необходимых курсов)"
      ],
      "metadata": {
        "id": "OyRGtoSbqSyE"
      }
    },
    {
      "cell_type": "code",
      "execution_count": null,
      "metadata": {
        "id": "hwmusOGThLu7"
      },
      "outputs": [],
      "source": [
        "# (￣^'￣)ゞ\n",
        "#посчитаем, сколько весенних курсов должен набрать человек\n",
        "df['count_spring'] = 1\n",
        "\n",
        "#изменяем это количество для отдельных студентов\n",
        "df.loc[(df['17_group'] == 171) | (df['17_group'] == 172), 'count_spring'] = 2 # МОП (весна)\n",
        "df.loc[(df['17_group'] == 173), 'count_spring'] = 2 # ТИ (весна)\n"
      ]
    },
    {
      "cell_type": "markdown",
      "source": [
        "#### Подготовка"
      ],
      "metadata": {
        "id": "7f6VyRNBrBKA"
      }
    },
    {
      "cell_type": "markdown",
      "source": [
        "Создаём словарик с количеством свободных мест на каждом курсе."
      ],
      "metadata": {
        "id": "k7qQuwu4qruW"
      }
    },
    {
      "cell_type": "code",
      "source": [
        "all_cs = pd.concat([df['spring_1'], df['spring_2'], df['spring_3']]).unique()\n",
        "spare_sps2 = dict()\n",
        "for course in all_cs:\n",
        "  spare_sps2[course] = 30\n",
        "  if ((course == 'Обучение с подкреплением') | (course == 'Анализ данных в бизнесе')):\n",
        "    spare_sps2[course] = 60\n",
        "spare_sps2"
      ],
      "metadata": {
        "colab": {
          "base_uri": "https://localhost:8080/"
        },
        "id": "cWb_aCrkP7St",
        "outputId": "26b5820d-8147-4166-dd1c-37a753e5c9c1"
      },
      "execution_count": null,
      "outputs": [
        {
          "output_type": "execute_result",
          "data": {
            "text/plain": [
              "{'Дискретная оптимизация': 30,\n",
              " 'Компьютерные сети': 30,\n",
              " 'Промышленное программирование на языке Java': 30,\n",
              " 'Численные методы': 30,\n",
              " 'Дополнительные главы прикладной статистики': 30,\n",
              " 'Анализ данных в бизнесе': 60,\n",
              " 'Машинное обучение 2': 30,\n",
              " 'Системы баз данных': 30,\n",
              " 'Компьютерное зрение': 30,\n",
              " 'Проектирование и разработка высоконагруженных сервисов': 30,\n",
              " 'Конфликты и кооперация': 30,\n",
              " 'Символьные вычисления': 30,\n",
              " 'Методы сжатия и передачи медиаданных': 30,\n",
              " 'Обучение с подкреплением': 60,\n",
              " 'Генеративные модели в машинном обучении': 30}"
            ]
          },
          "metadata": {},
          "execution_count": 1807
        }
      ]
    },
    {
      "cell_type": "code",
      "source": [
        "# в эту табличку будем записывать результат распределения\n",
        "answer2 = pd.DataFrame()\n",
        "answer2['ID'] = df[['id']]\n",
        "answer2['course1'] = '???'\n",
        "answer2['course2'] = '-'\n",
        "answer2 = answer2.astype({'course1' : 'str'})\n",
        "answer2 = answer2.astype({'course2' : 'str'})\n",
        "\n",
        "for id in answer2['ID']:\n",
        "  if (df[df['id'] == id]['count_spring'] == 2).bool():\n",
        "    answer2.loc[answer2['ID'] == id, 'course2'] = '???'\n",
        "\n",
        "#answer2.loc[answer2['ID'] == df[df['count_spring'] == 2]['id'], 'course2'] = '???'\n"
      ],
      "metadata": {
        "id": "uF8qkksf1Und"
      },
      "execution_count": null,
      "outputs": []
    },
    {
      "cell_type": "code",
      "source": [
        "df['need'] = df.loc[:, 'count_spring'] # столбец, сколько надо еще набрать курсов"
      ],
      "metadata": {
        "id": "dGieoTI91UqQ"
      },
      "execution_count": null,
      "outputs": []
    },
    {
      "cell_type": "markdown",
      "source": [
        "Посмотрим, есть ли студенты МОПа, которые выбрали каким-то из приоритетов КпВ \"Машинное обучение 2\".\n"
      ],
      "metadata": {
        "id": "7SKibpd81ZDL"
      }
    },
    {
      "cell_type": "code",
      "source": [
        "df[(((df['is_ml_student'] == 1) | (df['17_group'] == 171) | (df['17_group'] == 172)) & ((df['spring_1'] == 'Машинное обучение 2') | (df['spring_2'] == 'Машинное обучение 2') | (df['spring_3'] == 'Машинное обучение 2')))][['id', 'spring_1', 'spring_2', 'spring_3']]"
      ],
      "metadata": {
        "colab": {
          "base_uri": "https://localhost:8080/"
        },
        "id": "jWPDfCAQ1UuE",
        "outputId": "525bce6d-2992-4068-c530-96ac6c05990f"
      },
      "execution_count": null,
      "outputs": [
        {
          "output_type": "execute_result",
          "data": {
            "text/plain": [
              "                                   id                 spring_1  \\\n",
              "20   f0f6f3881894172a0f04e79b554b49e6      Машинное обучение 2   \n",
              "27   5daee1bd98559bb2c52373e416942225      Машинное обучение 2   \n",
              "119  fc2c60b8004aa91bc272df84628621ff       Системы баз данных   \n",
              "137  6ed89e424179b0510e3f7c0cb7369ad6  Анализ данных в бизнесе   \n",
              "179  abceddfa2fc4eae8cff4a4e712abb3fb      Машинное обучение 2   \n",
              "\n",
              "                                        spring_2  \\\n",
              "20                              Численные методы   \n",
              "27   Промышленное программирование на языке Java   \n",
              "119                          Машинное обучение 2   \n",
              "137  Промышленное программирование на языке Java   \n",
              "179  Промышленное программирование на языке Java   \n",
              "\n",
              "                                       spring_3  \n",
              "20   Дополнительные главы прикладной статистики  \n",
              "27                      Анализ данных в бизнесе  \n",
              "119                     Анализ данных в бизнесе  \n",
              "137                         Машинное обучение 2  \n",
              "179  Дополнительные главы прикладной статистики  "
            ],
            "text/html": [
              "\n",
              "  <div id=\"df-9fe0e93b-116d-450f-9e63-1c6aa70d22c0\">\n",
              "    <div class=\"colab-df-container\">\n",
              "      <div>\n",
              "<style scoped>\n",
              "    .dataframe tbody tr th:only-of-type {\n",
              "        vertical-align: middle;\n",
              "    }\n",
              "\n",
              "    .dataframe tbody tr th {\n",
              "        vertical-align: top;\n",
              "    }\n",
              "\n",
              "    .dataframe thead th {\n",
              "        text-align: right;\n",
              "    }\n",
              "</style>\n",
              "<table border=\"1\" class=\"dataframe\">\n",
              "  <thead>\n",
              "    <tr style=\"text-align: right;\">\n",
              "      <th></th>\n",
              "      <th>id</th>\n",
              "      <th>spring_1</th>\n",
              "      <th>spring_2</th>\n",
              "      <th>spring_3</th>\n",
              "    </tr>\n",
              "  </thead>\n",
              "  <tbody>\n",
              "    <tr>\n",
              "      <th>20</th>\n",
              "      <td>f0f6f3881894172a0f04e79b554b49e6</td>\n",
              "      <td>Машинное обучение 2</td>\n",
              "      <td>Численные методы</td>\n",
              "      <td>Дополнительные главы прикладной статистики</td>\n",
              "    </tr>\n",
              "    <tr>\n",
              "      <th>27</th>\n",
              "      <td>5daee1bd98559bb2c52373e416942225</td>\n",
              "      <td>Машинное обучение 2</td>\n",
              "      <td>Промышленное программирование на языке Java</td>\n",
              "      <td>Анализ данных в бизнесе</td>\n",
              "    </tr>\n",
              "    <tr>\n",
              "      <th>119</th>\n",
              "      <td>fc2c60b8004aa91bc272df84628621ff</td>\n",
              "      <td>Системы баз данных</td>\n",
              "      <td>Машинное обучение 2</td>\n",
              "      <td>Анализ данных в бизнесе</td>\n",
              "    </tr>\n",
              "    <tr>\n",
              "      <th>137</th>\n",
              "      <td>6ed89e424179b0510e3f7c0cb7369ad6</td>\n",
              "      <td>Анализ данных в бизнесе</td>\n",
              "      <td>Промышленное программирование на языке Java</td>\n",
              "      <td>Машинное обучение 2</td>\n",
              "    </tr>\n",
              "    <tr>\n",
              "      <th>179</th>\n",
              "      <td>abceddfa2fc4eae8cff4a4e712abb3fb</td>\n",
              "      <td>Машинное обучение 2</td>\n",
              "      <td>Промышленное программирование на языке Java</td>\n",
              "      <td>Дополнительные главы прикладной статистики</td>\n",
              "    </tr>\n",
              "  </tbody>\n",
              "</table>\n",
              "</div>\n",
              "      <button class=\"colab-df-convert\" onclick=\"convertToInteractive('df-9fe0e93b-116d-450f-9e63-1c6aa70d22c0')\"\n",
              "              title=\"Convert this dataframe to an interactive table.\"\n",
              "              style=\"display:none;\">\n",
              "        \n",
              "  <svg xmlns=\"http://www.w3.org/2000/svg\" height=\"24px\"viewBox=\"0 0 24 24\"\n",
              "       width=\"24px\">\n",
              "    <path d=\"M0 0h24v24H0V0z\" fill=\"none\"/>\n",
              "    <path d=\"M18.56 5.44l.94 2.06.94-2.06 2.06-.94-2.06-.94-.94-2.06-.94 2.06-2.06.94zm-11 1L8.5 8.5l.94-2.06 2.06-.94-2.06-.94L8.5 2.5l-.94 2.06-2.06.94zm10 10l.94 2.06.94-2.06 2.06-.94-2.06-.94-.94-2.06-.94 2.06-2.06.94z\"/><path d=\"M17.41 7.96l-1.37-1.37c-.4-.4-.92-.59-1.43-.59-.52 0-1.04.2-1.43.59L10.3 9.45l-7.72 7.72c-.78.78-.78 2.05 0 2.83L4 21.41c.39.39.9.59 1.41.59.51 0 1.02-.2 1.41-.59l7.78-7.78 2.81-2.81c.8-.78.8-2.07 0-2.86zM5.41 20L4 18.59l7.72-7.72 1.47 1.35L5.41 20z\"/>\n",
              "  </svg>\n",
              "      </button>\n",
              "      \n",
              "  <style>\n",
              "    .colab-df-container {\n",
              "      display:flex;\n",
              "      flex-wrap:wrap;\n",
              "      gap: 12px;\n",
              "    }\n",
              "\n",
              "    .colab-df-convert {\n",
              "      background-color: #E8F0FE;\n",
              "      border: none;\n",
              "      border-radius: 50%;\n",
              "      cursor: pointer;\n",
              "      display: none;\n",
              "      fill: #1967D2;\n",
              "      height: 32px;\n",
              "      padding: 0 0 0 0;\n",
              "      width: 32px;\n",
              "    }\n",
              "\n",
              "    .colab-df-convert:hover {\n",
              "      background-color: #E2EBFA;\n",
              "      box-shadow: 0px 1px 2px rgba(60, 64, 67, 0.3), 0px 1px 3px 1px rgba(60, 64, 67, 0.15);\n",
              "      fill: #174EA6;\n",
              "    }\n",
              "\n",
              "    [theme=dark] .colab-df-convert {\n",
              "      background-color: #3B4455;\n",
              "      fill: #D2E3FC;\n",
              "    }\n",
              "\n",
              "    [theme=dark] .colab-df-convert:hover {\n",
              "      background-color: #434B5C;\n",
              "      box-shadow: 0px 1px 3px 1px rgba(0, 0, 0, 0.15);\n",
              "      filter: drop-shadow(0px 1px 2px rgba(0, 0, 0, 0.3));\n",
              "      fill: #FFFFFF;\n",
              "    }\n",
              "  </style>\n",
              "\n",
              "      <script>\n",
              "        const buttonEl =\n",
              "          document.querySelector('#df-9fe0e93b-116d-450f-9e63-1c6aa70d22c0 button.colab-df-convert');\n",
              "        buttonEl.style.display =\n",
              "          google.colab.kernel.accessAllowed ? 'block' : 'none';\n",
              "\n",
              "        async function convertToInteractive(key) {\n",
              "          const element = document.querySelector('#df-9fe0e93b-116d-450f-9e63-1c6aa70d22c0');\n",
              "          const dataTable =\n",
              "            await google.colab.kernel.invokeFunction('convertToInteractive',\n",
              "                                                     [key], {});\n",
              "          if (!dataTable) return;\n",
              "\n",
              "          const docLinkHtml = 'Like what you see? Visit the ' +\n",
              "            '<a target=\"_blank\" href=https://colab.research.google.com/notebooks/data_table.ipynb>data table notebook</a>'\n",
              "            + ' to learn more about interactive tables.';\n",
              "          element.innerHTML = '';\n",
              "          dataTable['output_type'] = 'display_data';\n",
              "          await google.colab.output.renderOutput(dataTable, element);\n",
              "          const docLink = document.createElement('div');\n",
              "          docLink.innerHTML = docLinkHtml;\n",
              "          element.appendChild(docLink);\n",
              "        }\n",
              "      </script>\n",
              "    </div>\n",
              "  </div>\n",
              "  "
            ]
          },
          "metadata": {},
          "execution_count": 1810
        }
      ]
    },
    {
      "cell_type": "markdown",
      "source": [
        "Изменим эти строки, чтоб это не мешало нам при распределении (сдвинем приоритеты)."
      ],
      "metadata": {
        "id": "FS3rBMgt9KnY"
      }
    },
    {
      "cell_type": "code",
      "source": [
        "df.loc[(df['id'] == 'f0f6f3881894172a0f04e79b554b49e6'), 'spring_1'] = df[df['id'] == 'f0f6f3881894172a0f04e79b554b49e6']['spring_2']\n",
        "df.loc[(df['id'] == 'f0f6f3881894172a0f04e79b554b49e6'), 'spring_2'] = df[df['id'] == 'f0f6f3881894172a0f04e79b554b49e6']['spring_3']\n",
        "#df.loc[(df['id'] == 'f0f6f3881894172a0f04e79b554b49e6'), 'spring_3'] = ''\n",
        "\n",
        "df.loc[(df['id'] == '5daee1bd98559bb2c52373e416942225'), 'spring_1'] = df[df['id'] == '5daee1bd98559bb2c52373e416942225']['spring_2']\n",
        "df.loc[(df['id'] == '5daee1bd98559bb2c52373e416942225'), 'spring_2'] = df[df['id'] == '5daee1bd98559bb2c52373e416942225']['spring_3']\n",
        "#df.loc[(df['id'] == '5daee1bd98559bb2c52373e416942225'), 'spring_3'] = ''\n",
        "\n",
        "df.loc[(df['id'] == 'fc2c60b8004aa91bc272df84628621ff'), 'spring_2'] = df[df['id'] == 'fc2c60b8004aa91bc272df84628621ff']['spring_3']\n",
        "df.loc[(df['id'] == 'fc2c60b8004aa91bc272df84628621ff'), 'spring_3'] = ''\n",
        "\n",
        "df.loc[(df['id'] == '6ed89e424179b0510e3f7c0cb7369ad6'), 'spring_3'] = ''\n",
        "\n",
        "df.loc[(df['id'] == 'abceddfa2fc4eae8cff4a4e712abb3fb'), 'spring_1'] = df[df['id'] == 'abceddfa2fc4eae8cff4a4e712abb3fb']['spring_2']\n",
        "df.loc[(df['id'] == 'abceddfa2fc4eae8cff4a4e712abb3fb'), 'spring_2'] = df[df['id'] == 'abceddfa2fc4eae8cff4a4e712abb3fb']['spring_3']\n",
        "#df.loc[(df['id'] == 'abceddfa2fc4eae8cff4a4e712abb3fb'), 'spring_3'] = ''\n"
      ],
      "metadata": {
        "id": "WNsLUWJb6Eyf"
      },
      "execution_count": null,
      "outputs": []
    },
    {
      "cell_type": "code",
      "source": [
        "df[(((df['is_ml_student'] == 1) | (df['17_group'] == 171) | (df['17_group'] == 172)) & ((df['spring_1'] == 'Машинное обучение 2')))][['id', 'spring_1', 'spring_2', 'spring_3']]"
      ],
      "metadata": {
        "colab": {
          "base_uri": "https://localhost:8080/"
        },
        "id": "IYe2pb_n9Gny",
        "outputId": "00f55145-ac4f-4826-c7e9-1ecd90d046f1"
      },
      "execution_count": null,
      "outputs": [
        {
          "output_type": "execute_result",
          "data": {
            "text/plain": [
              "Empty DataFrame\n",
              "Columns: [id, spring_1, spring_2, spring_3]\n",
              "Index: []"
            ],
            "text/html": [
              "\n",
              "  <div id=\"df-1bd85509-f665-4b4a-bebf-cd46bb9704bd\">\n",
              "    <div class=\"colab-df-container\">\n",
              "      <div>\n",
              "<style scoped>\n",
              "    .dataframe tbody tr th:only-of-type {\n",
              "        vertical-align: middle;\n",
              "    }\n",
              "\n",
              "    .dataframe tbody tr th {\n",
              "        vertical-align: top;\n",
              "    }\n",
              "\n",
              "    .dataframe thead th {\n",
              "        text-align: right;\n",
              "    }\n",
              "</style>\n",
              "<table border=\"1\" class=\"dataframe\">\n",
              "  <thead>\n",
              "    <tr style=\"text-align: right;\">\n",
              "      <th></th>\n",
              "      <th>id</th>\n",
              "      <th>spring_1</th>\n",
              "      <th>spring_2</th>\n",
              "      <th>spring_3</th>\n",
              "    </tr>\n",
              "  </thead>\n",
              "  <tbody>\n",
              "  </tbody>\n",
              "</table>\n",
              "</div>\n",
              "      <button class=\"colab-df-convert\" onclick=\"convertToInteractive('df-1bd85509-f665-4b4a-bebf-cd46bb9704bd')\"\n",
              "              title=\"Convert this dataframe to an interactive table.\"\n",
              "              style=\"display:none;\">\n",
              "        \n",
              "  <svg xmlns=\"http://www.w3.org/2000/svg\" height=\"24px\"viewBox=\"0 0 24 24\"\n",
              "       width=\"24px\">\n",
              "    <path d=\"M0 0h24v24H0V0z\" fill=\"none\"/>\n",
              "    <path d=\"M18.56 5.44l.94 2.06.94-2.06 2.06-.94-2.06-.94-.94-2.06-.94 2.06-2.06.94zm-11 1L8.5 8.5l.94-2.06 2.06-.94-2.06-.94L8.5 2.5l-.94 2.06-2.06.94zm10 10l.94 2.06.94-2.06 2.06-.94-2.06-.94-.94-2.06-.94 2.06-2.06.94z\"/><path d=\"M17.41 7.96l-1.37-1.37c-.4-.4-.92-.59-1.43-.59-.52 0-1.04.2-1.43.59L10.3 9.45l-7.72 7.72c-.78.78-.78 2.05 0 2.83L4 21.41c.39.39.9.59 1.41.59.51 0 1.02-.2 1.41-.59l7.78-7.78 2.81-2.81c.8-.78.8-2.07 0-2.86zM5.41 20L4 18.59l7.72-7.72 1.47 1.35L5.41 20z\"/>\n",
              "  </svg>\n",
              "      </button>\n",
              "      \n",
              "  <style>\n",
              "    .colab-df-container {\n",
              "      display:flex;\n",
              "      flex-wrap:wrap;\n",
              "      gap: 12px;\n",
              "    }\n",
              "\n",
              "    .colab-df-convert {\n",
              "      background-color: #E8F0FE;\n",
              "      border: none;\n",
              "      border-radius: 50%;\n",
              "      cursor: pointer;\n",
              "      display: none;\n",
              "      fill: #1967D2;\n",
              "      height: 32px;\n",
              "      padding: 0 0 0 0;\n",
              "      width: 32px;\n",
              "    }\n",
              "\n",
              "    .colab-df-convert:hover {\n",
              "      background-color: #E2EBFA;\n",
              "      box-shadow: 0px 1px 2px rgba(60, 64, 67, 0.3), 0px 1px 3px 1px rgba(60, 64, 67, 0.15);\n",
              "      fill: #174EA6;\n",
              "    }\n",
              "\n",
              "    [theme=dark] .colab-df-convert {\n",
              "      background-color: #3B4455;\n",
              "      fill: #D2E3FC;\n",
              "    }\n",
              "\n",
              "    [theme=dark] .colab-df-convert:hover {\n",
              "      background-color: #434B5C;\n",
              "      box-shadow: 0px 1px 3px 1px rgba(0, 0, 0, 0.15);\n",
              "      filter: drop-shadow(0px 1px 2px rgba(0, 0, 0, 0.3));\n",
              "      fill: #FFFFFF;\n",
              "    }\n",
              "  </style>\n",
              "\n",
              "      <script>\n",
              "        const buttonEl =\n",
              "          document.querySelector('#df-1bd85509-f665-4b4a-bebf-cd46bb9704bd button.colab-df-convert');\n",
              "        buttonEl.style.display =\n",
              "          google.colab.kernel.accessAllowed ? 'block' : 'none';\n",
              "\n",
              "        async function convertToInteractive(key) {\n",
              "          const element = document.querySelector('#df-1bd85509-f665-4b4a-bebf-cd46bb9704bd');\n",
              "          const dataTable =\n",
              "            await google.colab.kernel.invokeFunction('convertToInteractive',\n",
              "                                                     [key], {});\n",
              "          if (!dataTable) return;\n",
              "\n",
              "          const docLinkHtml = 'Like what you see? Visit the ' +\n",
              "            '<a target=\"_blank\" href=https://colab.research.google.com/notebooks/data_table.ipynb>data table notebook</a>'\n",
              "            + ' to learn more about interactive tables.';\n",
              "          element.innerHTML = '';\n",
              "          dataTable['output_type'] = 'display_data';\n",
              "          await google.colab.output.renderOutput(dataTable, element);\n",
              "          const docLink = document.createElement('div');\n",
              "          docLink.innerHTML = docLinkHtml;\n",
              "          element.appendChild(docLink);\n",
              "        }\n",
              "      </script>\n",
              "    </div>\n",
              "  </div>\n",
              "  "
            ]
          },
          "metadata": {},
          "execution_count": 1812
        }
      ]
    },
    {
      "cell_type": "markdown",
      "source": [
        "#### Первая волна"
      ],
      "metadata": {
        "id": "WnqEUoDs02lU"
      }
    },
    {
      "cell_type": "code",
      "source": [
        "for now_course in spare_sps2.keys():\n",
        "  # те, кто выбрали этот курс\n",
        "  now_df = df[((df['spring_1'] == now_course) & (df['need'] != 0)) | (((df['spring_2'] == now_course) & (df['count_spring'] == 2) & (df['need'] != 0)))]\n",
        "  now_df.sort_values('percentile', inplace=True)\n",
        "  now_df.reset_index(inplace=True)\n",
        "\n",
        "  # берем максимальное количество людей (по увеличению перцентиля)\n",
        "  size = now_df.shape[0]\n",
        "  now_df = now_df.head(min(spare_sps2[now_course], size))\n",
        "  spare_sps2[now_course] -= min(spare_sps2[now_course], size)\n",
        "\n",
        "  # присваиваем курс\n",
        "  for id in now_df.id:\n",
        "    if (((now_df[now_df['id'] == id]['need'] == 2).bool()) | ((now_df[now_df['id'] == id]['need'] == 1).bool() & (now_df[now_df['id'] == id]['count_spring'] == 1).bool())):\n",
        "      answer2.loc[answer['ID'] == id, 'course1'] = now_course\n",
        "    elif ((now_df[now_df['id'] == id]['need'] == 1).bool() & (now_df[now_df['id'] == id]['count_spring'] == 2).bool()):\n",
        "      answer2.loc[answer['ID'] == id, 'course2'] = now_course\n",
        "    df.loc[df['id'] == id, 'need'] -= 1\n"
      ],
      "metadata": {
        "colab": {
          "base_uri": "https://localhost:8080/"
        },
        "id": "V5fZYX75P7Va",
        "outputId": "b0313cd9-1b4d-49a9-9b37-bde9caa0821f"
      },
      "execution_count": null,
      "outputs": [
        {
          "output_type": "stream",
          "name": "stderr",
          "text": [
            "/usr/local/lib/python3.7/dist-packages/pandas/util/_decorators.py:311: SettingWithCopyWarning: \n",
            "A value is trying to be set on a copy of a slice from a DataFrame\n",
            "\n",
            "See the caveats in the documentation: https://pandas.pydata.org/pandas-docs/stable/user_guide/indexing.html#returning-a-view-versus-a-copy\n",
            "  return func(*args, **kwargs)\n"
          ]
        }
      ]
    },
    {
      "cell_type": "markdown",
      "source": [
        "#### Вторая волна"
      ],
      "metadata": {
        "id": "OY2fBu8g08C6"
      }
    },
    {
      "cell_type": "code",
      "source": [
        "for now_course in spare_sps2.keys():\n",
        "  # те, кто выбрали этот курс\n",
        "  now_df = df[((df['spring_2'] == now_course) & (df['count_spring'] == 1) & (df['need'] != 0)) | (((df['spring_3'] == now_course) & (df['count_spring'] == 2) & (df['need'] != 0) & ((df['spring_1'] != df['spring_2']) | (df['spring_1'] != df['spring_3']) | (df['spring_2'] != df['spring_3']))))]\n",
        "  now_df.sort_values('percentile', inplace=True)\n",
        "  now_df.reset_index(inplace=True)\n",
        "\n",
        "  # берем максимальное количество людей (по увеличению перцентиля)\n",
        "  size = now_df.shape[0]\n",
        "  now_df = now_df.head(min(spare_sps2[now_course], size))\n",
        "  spare_sps2[now_course] -= min(spare_sps2[now_course], size)\n",
        "\n",
        "  # присваиваем курс\n",
        "  for id in now_df.id:\n",
        "    if (((now_df[now_df['id'] == id]['need'] == 2).bool()) | ((now_df[now_df['id'] == id]['need'] == 1).bool() & (now_df[now_df['id'] == id]['count_spring'] == 1).bool())):\n",
        "      answer2.loc[answer['ID'] == id, 'course1'] = now_course\n",
        "    elif ((now_df[now_df['id'] == id]['need'] == 1).bool() & (now_df[now_df['id'] == id]['count_spring'] == 2).bool()):\n",
        "      answer2.loc[answer['ID'] == id, 'course2'] = now_course\n",
        "    df.loc[df['id'] == id, 'need'] -= 1\n"
      ],
      "metadata": {
        "colab": {
          "base_uri": "https://localhost:8080/"
        },
        "id": "mKey6RnbP7bH",
        "outputId": "a0d74270-0378-4bb8-dcc0-c6cf81d8df8f"
      },
      "execution_count": null,
      "outputs": [
        {
          "output_type": "stream",
          "name": "stderr",
          "text": [
            "/usr/local/lib/python3.7/dist-packages/pandas/util/_decorators.py:311: SettingWithCopyWarning: \n",
            "A value is trying to be set on a copy of a slice from a DataFrame\n",
            "\n",
            "See the caveats in the documentation: https://pandas.pydata.org/pandas-docs/stable/user_guide/indexing.html#returning-a-view-versus-a-copy\n",
            "  return func(*args, **kwargs)\n"
          ]
        }
      ]
    },
    {
      "cell_type": "markdown",
      "source": [
        "#### Третья волна"
      ],
      "metadata": {
        "id": "DvMgxsZ90_7w"
      }
    },
    {
      "cell_type": "code",
      "source": [
        "for now_course in spare_sps2.keys():\n",
        "  # те, кто выбрали этот курс\n",
        "  now_df = df[((df['spring_3'] == now_course) & (df['count_spring'] == 1) & (df['need'] != 0))]\n",
        "  now_df.sort_values('percentile', inplace=True)\n",
        "  now_df.reset_index(inplace=True)\n",
        "\n",
        "  # берем максимальное количество людей (по увеличению перцентиля)\n",
        "  size = now_df.shape[0]\n",
        "  now_df = now_df.head(min(spare_sps2[now_course], size))\n",
        "  spare_sps2[now_course] -= min(spare_sps2[now_course], size)\n",
        "\n",
        "  # присваиваем курс\n",
        "  for id in now_df.id:\n",
        "    if (((now_df[now_df['id'] == id]['need'] == 2).bool()) | ((now_df[now_df['id'] == id]['need'] == 1).bool() & (now_df[now_df['id'] == id]['count_spring'] == 1).bool())):\n",
        "      answer2.loc[answer['ID'] == id, 'course1'] = now_course\n",
        "    elif ((now_df[now_df['id'] == id]['need'] == 1).bool() & (now_df[now_df['id'] == id]['count_spring'] == 2).bool()):\n",
        "      answer2.loc[answer['ID'] == id, 'course2'] = now_course\n",
        "    df.loc[df['id'] == id, 'need'] -= 1\n"
      ],
      "metadata": {
        "colab": {
          "base_uri": "https://localhost:8080/"
        },
        "id": "1J2uayaAP7gy",
        "outputId": "17429063-2595-4cd0-f0fc-457b4cc1325a"
      },
      "execution_count": null,
      "outputs": [
        {
          "output_type": "stream",
          "name": "stderr",
          "text": [
            "/usr/local/lib/python3.7/dist-packages/pandas/util/_decorators.py:311: SettingWithCopyWarning: \n",
            "A value is trying to be set on a copy of a slice from a DataFrame\n",
            "\n",
            "See the caveats in the documentation: https://pandas.pydata.org/pandas-docs/stable/user_guide/indexing.html#returning-a-view-versus-a-copy\n",
            "  return func(*args, **kwargs)\n"
          ]
        }
      ]
    },
    {
      "cell_type": "markdown",
      "source": [
        "#### Сохранение результата"
      ],
      "metadata": {
        "id": "HthvJG0v1Hbg"
      }
    },
    {
      "cell_type": "markdown",
      "source": [
        "Результат распределения курсов на весну хранится в answer2."
      ],
      "metadata": {
        "id": "zSmJuYea-2SM"
      }
    },
    {
      "cell_type": "code",
      "source": [
        "answer2"
      ],
      "metadata": {
        "colab": {
          "base_uri": "https://localhost:8080/"
        },
        "id": "a9CHM0yp-2uR",
        "outputId": "360eb3df-cee6-41a5-9ca8-78bacb813719"
      },
      "execution_count": null,
      "outputs": [
        {
          "output_type": "execute_result",
          "data": {
            "text/plain": [
              "                                   ID                               course1  \\\n",
              "0    93ff79a51cd602f1dd3028ba2c129503                Дискретная оптимизация   \n",
              "1    26b01b1c4cd5656bab18d24c548834fb                Дискретная оптимизация   \n",
              "2    30f3653fc176d54e89ac3179c455c6dd                Дискретная оптимизация   \n",
              "3    1528f0eaa027580820ccf0d92a53ad68                Дискретная оптимизация   \n",
              "4    496ea4f0d4abe264b1bb1b80eb3830c5                      Численные методы   \n",
              "..                                ...                                   ...   \n",
              "356  c5870b37ee3f672e4259dfb2fc02ed8f              Обучение с подкреплением   \n",
              "357  f44aea1095f9f5b8e2f5f0ed2b17891b                Конфликты и кооперация   \n",
              "358  d7118b44c7e8fdbbaaca226d2da6fef1  Методы сжатия и передачи медиаданных   \n",
              "359  79d14db48e4737af731960ae212d5134  Методы сжатия и передачи медиаданных   \n",
              "360  f2d210ace25a841e1e58036b257d5d47              Обучение с подкреплением   \n",
              "\n",
              "              course2  \n",
              "0                   -  \n",
              "1                   -  \n",
              "2                   -  \n",
              "3                   -  \n",
              "4                   -  \n",
              "..                ...  \n",
              "356                 -  \n",
              "357                 -  \n",
              "358  Численные методы  \n",
              "359               ???  \n",
              "360                 -  \n",
              "\n",
              "[347 rows x 3 columns]"
            ],
            "text/html": [
              "\n",
              "  <div id=\"df-2205dd45-d314-425b-a3ea-b503a4066be6\">\n",
              "    <div class=\"colab-df-container\">\n",
              "      <div>\n",
              "<style scoped>\n",
              "    .dataframe tbody tr th:only-of-type {\n",
              "        vertical-align: middle;\n",
              "    }\n",
              "\n",
              "    .dataframe tbody tr th {\n",
              "        vertical-align: top;\n",
              "    }\n",
              "\n",
              "    .dataframe thead th {\n",
              "        text-align: right;\n",
              "    }\n",
              "</style>\n",
              "<table border=\"1\" class=\"dataframe\">\n",
              "  <thead>\n",
              "    <tr style=\"text-align: right;\">\n",
              "      <th></th>\n",
              "      <th>ID</th>\n",
              "      <th>course1</th>\n",
              "      <th>course2</th>\n",
              "    </tr>\n",
              "  </thead>\n",
              "  <tbody>\n",
              "    <tr>\n",
              "      <th>0</th>\n",
              "      <td>93ff79a51cd602f1dd3028ba2c129503</td>\n",
              "      <td>Дискретная оптимизация</td>\n",
              "      <td>-</td>\n",
              "    </tr>\n",
              "    <tr>\n",
              "      <th>1</th>\n",
              "      <td>26b01b1c4cd5656bab18d24c548834fb</td>\n",
              "      <td>Дискретная оптимизация</td>\n",
              "      <td>-</td>\n",
              "    </tr>\n",
              "    <tr>\n",
              "      <th>2</th>\n",
              "      <td>30f3653fc176d54e89ac3179c455c6dd</td>\n",
              "      <td>Дискретная оптимизация</td>\n",
              "      <td>-</td>\n",
              "    </tr>\n",
              "    <tr>\n",
              "      <th>3</th>\n",
              "      <td>1528f0eaa027580820ccf0d92a53ad68</td>\n",
              "      <td>Дискретная оптимизация</td>\n",
              "      <td>-</td>\n",
              "    </tr>\n",
              "    <tr>\n",
              "      <th>4</th>\n",
              "      <td>496ea4f0d4abe264b1bb1b80eb3830c5</td>\n",
              "      <td>Численные методы</td>\n",
              "      <td>-</td>\n",
              "    </tr>\n",
              "    <tr>\n",
              "      <th>...</th>\n",
              "      <td>...</td>\n",
              "      <td>...</td>\n",
              "      <td>...</td>\n",
              "    </tr>\n",
              "    <tr>\n",
              "      <th>356</th>\n",
              "      <td>c5870b37ee3f672e4259dfb2fc02ed8f</td>\n",
              "      <td>Обучение с подкреплением</td>\n",
              "      <td>-</td>\n",
              "    </tr>\n",
              "    <tr>\n",
              "      <th>357</th>\n",
              "      <td>f44aea1095f9f5b8e2f5f0ed2b17891b</td>\n",
              "      <td>Конфликты и кооперация</td>\n",
              "      <td>-</td>\n",
              "    </tr>\n",
              "    <tr>\n",
              "      <th>358</th>\n",
              "      <td>d7118b44c7e8fdbbaaca226d2da6fef1</td>\n",
              "      <td>Методы сжатия и передачи медиаданных</td>\n",
              "      <td>Численные методы</td>\n",
              "    </tr>\n",
              "    <tr>\n",
              "      <th>359</th>\n",
              "      <td>79d14db48e4737af731960ae212d5134</td>\n",
              "      <td>Методы сжатия и передачи медиаданных</td>\n",
              "      <td>???</td>\n",
              "    </tr>\n",
              "    <tr>\n",
              "      <th>360</th>\n",
              "      <td>f2d210ace25a841e1e58036b257d5d47</td>\n",
              "      <td>Обучение с подкреплением</td>\n",
              "      <td>-</td>\n",
              "    </tr>\n",
              "  </tbody>\n",
              "</table>\n",
              "<p>347 rows × 3 columns</p>\n",
              "</div>\n",
              "      <button class=\"colab-df-convert\" onclick=\"convertToInteractive('df-2205dd45-d314-425b-a3ea-b503a4066be6')\"\n",
              "              title=\"Convert this dataframe to an interactive table.\"\n",
              "              style=\"display:none;\">\n",
              "        \n",
              "  <svg xmlns=\"http://www.w3.org/2000/svg\" height=\"24px\"viewBox=\"0 0 24 24\"\n",
              "       width=\"24px\">\n",
              "    <path d=\"M0 0h24v24H0V0z\" fill=\"none\"/>\n",
              "    <path d=\"M18.56 5.44l.94 2.06.94-2.06 2.06-.94-2.06-.94-.94-2.06-.94 2.06-2.06.94zm-11 1L8.5 8.5l.94-2.06 2.06-.94-2.06-.94L8.5 2.5l-.94 2.06-2.06.94zm10 10l.94 2.06.94-2.06 2.06-.94-2.06-.94-.94-2.06-.94 2.06-2.06.94z\"/><path d=\"M17.41 7.96l-1.37-1.37c-.4-.4-.92-.59-1.43-.59-.52 0-1.04.2-1.43.59L10.3 9.45l-7.72 7.72c-.78.78-.78 2.05 0 2.83L4 21.41c.39.39.9.59 1.41.59.51 0 1.02-.2 1.41-.59l7.78-7.78 2.81-2.81c.8-.78.8-2.07 0-2.86zM5.41 20L4 18.59l7.72-7.72 1.47 1.35L5.41 20z\"/>\n",
              "  </svg>\n",
              "      </button>\n",
              "      \n",
              "  <style>\n",
              "    .colab-df-container {\n",
              "      display:flex;\n",
              "      flex-wrap:wrap;\n",
              "      gap: 12px;\n",
              "    }\n",
              "\n",
              "    .colab-df-convert {\n",
              "      background-color: #E8F0FE;\n",
              "      border: none;\n",
              "      border-radius: 50%;\n",
              "      cursor: pointer;\n",
              "      display: none;\n",
              "      fill: #1967D2;\n",
              "      height: 32px;\n",
              "      padding: 0 0 0 0;\n",
              "      width: 32px;\n",
              "    }\n",
              "\n",
              "    .colab-df-convert:hover {\n",
              "      background-color: #E2EBFA;\n",
              "      box-shadow: 0px 1px 2px rgba(60, 64, 67, 0.3), 0px 1px 3px 1px rgba(60, 64, 67, 0.15);\n",
              "      fill: #174EA6;\n",
              "    }\n",
              "\n",
              "    [theme=dark] .colab-df-convert {\n",
              "      background-color: #3B4455;\n",
              "      fill: #D2E3FC;\n",
              "    }\n",
              "\n",
              "    [theme=dark] .colab-df-convert:hover {\n",
              "      background-color: #434B5C;\n",
              "      box-shadow: 0px 1px 3px 1px rgba(0, 0, 0, 0.15);\n",
              "      filter: drop-shadow(0px 1px 2px rgba(0, 0, 0, 0.3));\n",
              "      fill: #FFFFFF;\n",
              "    }\n",
              "  </style>\n",
              "\n",
              "      <script>\n",
              "        const buttonEl =\n",
              "          document.querySelector('#df-2205dd45-d314-425b-a3ea-b503a4066be6 button.colab-df-convert');\n",
              "        buttonEl.style.display =\n",
              "          google.colab.kernel.accessAllowed ? 'block' : 'none';\n",
              "\n",
              "        async function convertToInteractive(key) {\n",
              "          const element = document.querySelector('#df-2205dd45-d314-425b-a3ea-b503a4066be6');\n",
              "          const dataTable =\n",
              "            await google.colab.kernel.invokeFunction('convertToInteractive',\n",
              "                                                     [key], {});\n",
              "          if (!dataTable) return;\n",
              "\n",
              "          const docLinkHtml = 'Like what you see? Visit the ' +\n",
              "            '<a target=\"_blank\" href=https://colab.research.google.com/notebooks/data_table.ipynb>data table notebook</a>'\n",
              "            + ' to learn more about interactive tables.';\n",
              "          element.innerHTML = '';\n",
              "          dataTable['output_type'] = 'display_data';\n",
              "          await google.colab.output.renderOutput(dataTable, element);\n",
              "          const docLink = document.createElement('div');\n",
              "          docLink.innerHTML = docLinkHtml;\n",
              "          element.appendChild(docLink);\n",
              "        }\n",
              "      </script>\n",
              "    </div>\n",
              "  </div>\n",
              "  "
            ]
          },
          "metadata": {},
          "execution_count": 1818
        }
      ]
    },
    {
      "cell_type": "code",
      "source": [
        "answer2.to_csv('res_spring.csv', index=None)"
      ],
      "metadata": {
        "id": "1LwWr8y0P7m7"
      },
      "execution_count": null,
      "outputs": []
    },
    {
      "cell_type": "markdown",
      "metadata": {
        "id": "It7QQZLYhLu7"
      },
      "source": [
        "**Отправьте свой файл res_spring.csv в контест (https://contest.yandex.ru/contest/40211/problems/B/) и прикрепите/укажите ниже ваш никнейм и ссылку на успешную посылку.**"
      ]
    },
    {
      "cell_type": "markdown",
      "source": [
        "**ID успешной посылки:** 70714484 \n",
        "\n",
        "**Никнейм:** evg.antonova.1\n",
        "\n",
        "**Ссылка:** https://contest.yandex.ru/contest/40211/run-report/70714484/\n",
        "\n"
      ],
      "metadata": {
        "id": "Y5PuKwniaU8s"
      }
    },
    {
      "cell_type": "markdown",
      "metadata": {
        "id": "1YcouVTihLu7"
      },
      "source": [
        "На всякий случай просим вас сдать вместе с ноутбуком файл res_spring.csv в anytask"
      ]
    },
    {
      "cell_type": "markdown",
      "metadata": {
        "id": "uY_OY6inhLu7"
      },
      "source": [
        "Вставьте картинку, описывающую ваш опыт выполнения этого задания:"
      ]
    },
    {
      "cell_type": "code",
      "execution_count": null,
      "metadata": {
        "id": "R9_7CnSFhLu7"
      },
      "outputs": [],
      "source": []
    }
  ],
  "metadata": {
    "colab": {
      "provenance": [],
      "collapsed_sections": [
        "gDD85M7bhLux",
        "jPiMwyqHhLuy",
        "w5ELhkT1hLuz",
        "Jhk3tVpVhLuy",
        "IU_FLt8HhLu0",
        "spu3r3vchLu0",
        "uL45Tg5fhLu1",
        "kikwLpxfhLu1",
        "o5t55IcQhLu4",
        "LTGSwwvAhLu4"
      ],
      "include_colab_link": true
    },
    "kernelspec": {
      "display_name": "Python 3 (ipykernel)",
      "language": "python",
      "name": "python3"
    },
    "language_info": {
      "codemirror_mode": {
        "name": "ipython",
        "version": 3
      },
      "file_extension": ".py",
      "mimetype": "text/x-python",
      "name": "python",
      "nbconvert_exporter": "python",
      "pygments_lexer": "ipython3",
      "version": "3.10.4"
    },
    "varInspector": {
      "cols": {
        "lenName": 16,
        "lenType": 16,
        "lenVar": 40
      },
      "kernels_config": {
        "python": {
          "delete_cmd_postfix": "",
          "delete_cmd_prefix": "del ",
          "library": "var_list.py",
          "varRefreshCmd": "print(var_dic_list())"
        },
        "r": {
          "delete_cmd_postfix": ") ",
          "delete_cmd_prefix": "rm(",
          "library": "var_list.r",
          "varRefreshCmd": "cat(var_dic_list()) "
        }
      },
      "types_to_exclude": [
        "module",
        "function",
        "builtin_function_or_method",
        "instance",
        "_Feature"
      ],
      "window_display": false
    },
    "vscode": {
      "interpreter": {
        "hash": "e7370f93d1d0cde622a1f8e1c04877d8463912d04d973331ad4851f04de6915a"
      }
    }
  },
  "nbformat": 4,
  "nbformat_minor": 0
}